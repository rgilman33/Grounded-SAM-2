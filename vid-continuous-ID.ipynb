{
 "cells": [
  {
   "cell_type": "code",
   "execution_count": 7,
   "id": "fb63001c-4a59-43d4-a783-8e8865a9342e",
   "metadata": {},
   "outputs": [
    {
     "name": "stdout",
     "output_type": "stream",
     "text": [
      "The autoreload extension is already loaded. To reload it, use:\n",
      "  %reload_ext autoreload\n"
     ]
    }
   ],
   "source": [
    "# At the top of your notebook\n",
    "%load_ext autoreload\n",
    "%autoreload 2\n",
    "    \n",
    "import os\n",
    "import cv2\n",
    "import torch\n",
    "import numpy as np\n",
    "import supervision as sv\n",
    "from PIL import Image\n",
    "from sam2.build_sam import build_sam2_video_predictor, build_sam2\n",
    "from sam2.sam2_image_predictor import SAM2ImagePredictor\n",
    "from transformers import AutoProcessor, AutoModelForZeroShotObjectDetection \n",
    "from utils.track_utils import sample_points_from_masks\n",
    "from utils.video_utils import create_video_from_images\n",
    "from utils.common_utils import CommonUtils\n",
    "from utils.mask_dictionary_model import MaskDictionaryModel, ObjectInfo\n",
    "import json\n",
    "import copy"
   ]
  },
  {
   "cell_type": "code",
   "execution_count": 8,
   "id": "b05bac58-c000-4a7d-91e9-5de6c9738c9b",
   "metadata": {},
   "outputs": [
    {
     "name": "stdout",
     "output_type": "stream",
     "text": [
      "Wed Jun 11 19:42:19 2025       \n",
      "+---------------------------------------------------------------------------------------+\n",
      "| NVIDIA-SMI 535.183.01             Driver Version: 535.183.01   CUDA Version: 12.2     |\n",
      "|-----------------------------------------+----------------------+----------------------+\n",
      "| GPU  Name                 Persistence-M | Bus-Id        Disp.A | Volatile Uncorr. ECC |\n",
      "| Fan  Temp   Perf          Pwr:Usage/Cap |         Memory-Usage | GPU-Util  Compute M. |\n",
      "|                                         |                      |               MIG M. |\n",
      "|=========================================+======================+======================|\n",
      "|   0  NVIDIA H100 80GB HBM3          On  | 00000000:53:00.0 Off |                    0 |\n",
      "| N/A   23C    P0              67W / 700W |      3MiB / 81559MiB |      0%      Default |\n",
      "|                                         |                      |             Disabled |\n",
      "+-----------------------------------------+----------------------+----------------------+\n",
      "|   1  NVIDIA H100 80GB HBM3          On  | 00000000:64:00.0 Off |                    0 |\n",
      "| N/A   24C    P0              67W / 700W |      3MiB / 81559MiB |      0%      Default |\n",
      "|                                         |                      |             Disabled |\n",
      "+-----------------------------------------+----------------------+----------------------+\n",
      "|   2  NVIDIA H100 80GB HBM3          On  | 00000000:75:00.0 Off |                    0 |\n",
      "| N/A   61C    P0             571W / 700W |  62039MiB / 81559MiB |     53%      Default |\n",
      "|                                         |                      |             Disabled |\n",
      "+-----------------------------------------+----------------------+----------------------+\n",
      "|   3  NVIDIA H100 80GB HBM3          On  | 00000000:86:00.0 Off |                    0 |\n",
      "| N/A   42C    P0              69W / 700W |      3MiB / 81559MiB |      0%      Default |\n",
      "|                                         |                      |             Disabled |\n",
      "+-----------------------------------------+----------------------+----------------------+\n",
      "|   4  NVIDIA H100 80GB HBM3          On  | 00000000:97:00.0 Off |                    0 |\n",
      "| N/A   26C    P0              66W / 700W |      3MiB / 81559MiB |      0%      Default |\n",
      "|                                         |                      |             Disabled |\n",
      "+-----------------------------------------+----------------------+----------------------+\n",
      "|   5  NVIDIA H100 80GB HBM3          On  | 00000000:A8:00.0 Off |                    0 |\n",
      "| N/A   22C    P0              67W / 700W |      3MiB / 81559MiB |      0%      Default |\n",
      "|                                         |                      |             Disabled |\n",
      "+-----------------------------------------+----------------------+----------------------+\n",
      "|   6  NVIDIA H100 80GB HBM3          On  | 00000000:B9:00.0 Off |                    0 |\n",
      "| N/A   23C    P0              67W / 700W |      3MiB / 81559MiB |      0%      Default |\n",
      "|                                         |                      |             Disabled |\n",
      "+-----------------------------------------+----------------------+----------------------+\n",
      "|   7  NVIDIA H100 80GB HBM3          On  | 00000000:CA:00.0 Off |                    0 |\n",
      "| N/A   22C    P0              65W / 700W |      3MiB / 81559MiB |      0%      Default |\n",
      "|                                         |                      |             Disabled |\n",
      "+-----------------------------------------+----------------------+----------------------+\n",
      "                                                                                         \n",
      "+---------------------------------------------------------------------------------------+\n",
      "| Processes:                                                                            |\n",
      "|  GPU   GI   CI        PID   Type   Process name                            GPU Memory |\n",
      "|        ID   ID                                                             Usage      |\n",
      "|=======================================================================================|\n",
      "|    2   N/A  N/A   1569165      C   python                                    61966MiB |\n",
      "+---------------------------------------------------------------------------------------+\n"
     ]
    }
   ],
   "source": [
    "!nvidia-smi"
   ]
  },
  {
   "cell_type": "code",
   "execution_count": 9,
   "id": "942865de-eeaf-4548-8ab2-16fe872642f8",
   "metadata": {},
   "outputs": [
    {
     "name": "stdout",
     "output_type": "stream",
     "text": [
      "device cuda\n"
     ]
    }
   ],
   "source": [
    "\"\"\"\n",
    "Step 1: Environment settings and model initialization\n",
    "\"\"\"\n",
    "# use bfloat16 for the entire notebook\n",
    "torch.autocast(device_type=\"cuda\", dtype=torch.bfloat16).__enter__()\n",
    "\n",
    "if torch.cuda.get_device_properties(0).major >= 8:\n",
    "    # turn on tfloat32 for Ampere GPUs (https://pytorch.org/docs/stable/notes/cuda.html#tensorfloat-32-tf32-on-ampere-devices)\n",
    "    torch.backends.cuda.matmul.allow_tf32 = True\n",
    "    torch.backends.cudnn.allow_tf32 = True\n",
    "\n",
    "# init sam image predictor and video predictor model\n",
    "sam2_checkpoint = \"./checkpoints/sam2.1_hiera_large.pt\"\n",
    "model_cfg = \"configs/sam2.1/sam2.1_hiera_l.yaml\"\n",
    "device = \"cuda\" if torch.cuda.is_available() else \"cpu\"\n",
    "print(\"device\", device)"
   ]
  },
  {
   "cell_type": "code",
   "execution_count": 10,
   "id": "37a58432-835d-4757-a69a-fa2094df2f5d",
   "metadata": {},
   "outputs": [],
   "source": [
    "device = \"cuda:0\""
   ]
  },
  {
   "cell_type": "code",
   "execution_count": 11,
   "id": "0b1203a4-caa0-42c5-b130-4e6a121bad2d",
   "metadata": {},
   "outputs": [],
   "source": [
    "video_predictor = build_sam2_video_predictor(model_cfg, sam2_checkpoint)\n",
    "sam2_image_model = build_sam2(model_cfg, sam2_checkpoint, device=device)\n",
    "image_predictor = SAM2ImagePredictor(sam2_image_model)\n",
    "\n",
    "# init grounding dino model from huggingface\n",
    "model_id = \"IDEA-Research/grounding-dino-tiny\"\n",
    "processor = AutoProcessor.from_pretrained(model_id)\n",
    "grounding_model = AutoModelForZeroShotObjectDetection.from_pretrained(model_id).to(device)"
   ]
  },
  {
   "cell_type": "code",
   "execution_count": null,
   "id": "b9879530-7cb9-494b-a6cf-a4de1cf1b900",
   "metadata": {},
   "outputs": [],
   "source": []
  },
  {
   "cell_type": "code",
   "execution_count": 14,
   "id": "82e8abea-31a5-461f-8654-8b05c67d0c2a",
   "metadata": {},
   "outputs": [
    {
     "data": {
      "text/plain": [
       "['outputs/frames_to_run/232f98b4-9293-46ea-95de-4fb4ae230648-part2-clip_00000003-0',\n",
       " 'outputs/frames_to_run/9a15e066-f54e-4fe4-98cb-58f7d0f655c7-clip_00000121-4',\n",
       " 'outputs/frames_to_run/Yca14HAvris-clip_00000079-2',\n",
       " 'outputs/frames_to_run/677951670-clip_00000010-0',\n",
       " 'outputs/frames_to_run/e5957a13-8fdd-4696-b8a5-11df9bdbb98d-part1-clip_00000039-0',\n",
       " 'outputs/frames_to_run/6b887cf3-e579-4543-802d-708b7d598207-part3-clip_00000045-0',\n",
       " 'outputs/frames_to_run/bLUOFZTDxXI-clip_00000010-2',\n",
       " 'outputs/frames_to_run/xNVfw6I7cCA_part_000-clip_00000025-0',\n",
       " 'outputs/frames_to_run/278950132-clip_00000001-0',\n",
       " 'outputs/frames_to_run/442422784-clip_00000007-0',\n",
       " 'outputs/frames_to_run/d7e18703-e8cd-4366-9821-e50e0c499176-part3-clip_00000037-0_anime',\n",
       " 'outputs/frames_to_run/_fhf8qnFihk_part_000-clip_00000006-3',\n",
       " 'outputs/frames_to_run/320150f9-253c-4d1a-b075-44e6eb264ec1-part6-clip_00000027-1',\n",
       " 'outputs/frames_to_run/fOwKMumK46E-clip_00000006-2',\n",
       " 'outputs/frames_to_run/cFKDTfrIpGQ_part_000-clip_00000024-0',\n",
       " 'outputs/frames_to_run/ljAa5FEymiE_part_001-clip_00000005-5',\n",
       " 'outputs/frames_to_run/dZxMJYPoyNA-clip_00000028-1',\n",
       " 'outputs/frames_to_run/fc32b9ca-335d-4a2e-8ed5-fe215473f00f-part2-clip_00000002-0',\n",
       " 'outputs/frames_to_run/f8Lh013AlOI-clip_00000008-0',\n",
       " 'outputs/frames_to_run/525gVYyIg3o_part_004-clip_00000004-2',\n",
       " 'outputs/frames_to_run/483746492-clip_00000003-0',\n",
       " 'outputs/frames_to_run/6ydn-_RTs3g_part_002-clip_00000000-0_3danim',\n",
       " 'outputs/frames_to_run/9gkAlt_a2CY_part_000-clip_00000006-2',\n",
       " 'outputs/frames_to_run/Lao3xrmbF14-clip_00001399-3_panleft',\n",
       " 'outputs/frames_to_run/287511c2-7237-4ec2-a1f8-2c7537b635d7-part3-clip_00000011-1_fastflicker',\n",
       " 'outputs/frames_to_run/ad3761b7-afb1-40b3-b471-cc5a60699b22_part_000001-clip_00000038-0',\n",
       " 'outputs/frames_to_run/8pBW00nnbFU_part_000-clip_00000007-1',\n",
       " 'outputs/frames_to_run/12s8HbUCPAI_part_006-clip_00000010-1_oldsports',\n",
       " 'outputs/frames_to_run/7jQ7CPS--2U_part_000-clip_00000011-0',\n",
       " 'outputs/frames_to_run/677782661-clip_00000000-0_pt0']"
      ]
     },
     "execution_count": 14,
     "metadata": {},
     "output_type": "execute_result"
    }
   ],
   "source": [
    "import glob\n",
    "clips = glob.glob(\"outputs/frames_to_run/*\")\n",
    "clips"
   ]
  },
  {
   "cell_type": "code",
   "execution_count": 15,
   "id": "07df4983-e3b8-45ae-978e-d036007a593f",
   "metadata": {
    "scrolled": true
   },
   "outputs": [
    {
     "name": "stdout",
     "output_type": "stream",
     "text": [
      "doing 232f98b4-9293-46ea-95de-4fb4ae230648-part2-clip_00000003-0\n",
      "Path './outputs' already exists.\n",
      "Path './outputs/mask_data' did not exist and has been created.\n",
      "Path './outputs/json_data' did not exist and has been created.\n"
     ]
    },
    {
     "name": "stderr",
     "output_type": "stream",
     "text": [
      "frame loading (JPEG):   8%|█▋                    | 5/65 [00:00<00:01, 43.20it/s]"
     ]
    },
    {
     "name": "stdout",
     "output_type": "stream",
     "text": [
      "Total frames: 65\n",
      "start_frame_idx 0\n",
      "objects_count 3\n"
     ]
    },
    {
     "name": "stderr",
     "output_type": "stream",
     "text": [
      "UserWarning: To copy construct from a tensor, it is recommended to use sourceTensor.detach().clone() or sourceTensor.detach().clone().requires_grad_(True), rather than torch.tensor(sourceTensor).\n",
      "frame loading (JPEG):  15%|███▏                 | 10/65 [00:00<00:01, 40.92it/s]\n",
      "frame loading (JPEG):  23%|████▊                | 15/65 [00:00<00:01, 40.35it/s]\u001b[A\n",
      "frame loading (JPEG):  31%|██████▍              | 20/65 [00:00<00:01, 39.82it/s]\u001b[A\n",
      "frame loading (JPEG):  43%|█████████            | 28/65 [00:00<00:00, 39.42it/s]\u001b[A\n",
      "frame loading (JPEG):  49%|██████████▎          | 32/65 [00:00<00:00, 39.04it/s]\u001b[A\n",
      "frame loading (JPEG):  55%|███████████▋         | 36/65 [00:00<00:00, 38.99it/s]\u001b[A\n",
      "frame loading (JPEG):  68%|██████████████▏      | 44/65 [00:01<00:00, 38.76it/s]\u001b[A\n",
      "propagate in video: 100%|███████████████████████| 21/21 [00:00<00:00, 23.12it/s]\u001b[A\n",
      "frame loading (JPEG):  80%|████████████████▊    | 52/65 [00:01<00:00, 38.97it/s]"
     ]
    },
    {
     "name": "stdout",
     "output_type": "stream",
     "text": [
      "video_segments: 21\n",
      "start_frame_idx 20\n"
     ]
    },
    {
     "name": "stderr",
     "output_type": "stream",
     "text": [
      "frame loading (JPEG):  92%|███████████████████▍ | 60/65 [00:01<00:00, 38.33it/s]"
     ]
    },
    {
     "name": "stdout",
     "output_type": "stream",
     "text": [
      "objects_count 3\n"
     ]
    },
    {
     "name": "stderr",
     "output_type": "stream",
     "text": [
      "\n",
      "frame loading (JPEG): 100%|█████████████████████| 65/65 [00:01<00:00, 39.06it/s]\u001b[A\n",
      "\n",
      "propagate in video:  19%|████▌                   | 4/21 [00:00<00:00, 32.22it/s]\u001b[A\n",
      "propagate in video:  38%|█████████▏              | 8/21 [00:00<00:00, 28.53it/s]\u001b[A\n",
      "propagate in video:  52%|████████████           | 11/21 [00:00<00:00, 27.52it/s]\u001b[A\n",
      "propagate in video:  67%|███████████████▎       | 14/21 [00:00<00:00, 26.84it/s]\u001b[A\n",
      "propagate in video:  81%|██████████████████▌    | 17/21 [00:00<00:00, 26.56it/s]\u001b[A\n",
      "propagate in video: 100%|███████████████████████| 21/21 [00:00<00:00, 27.03it/s]\u001b[A\n"
     ]
    },
    {
     "name": "stdout",
     "output_type": "stream",
     "text": [
      "video_segments: 21\n",
      "start_frame_idx 40\n",
      "objects_count 5\n"
     ]
    },
    {
     "name": "stderr",
     "output_type": "stream",
     "text": [
      "propagate in video: 100%|███████████████████████| 21/21 [00:00<00:00, 25.15it/s]\n"
     ]
    },
    {
     "name": "stdout",
     "output_type": "stream",
     "text": [
      "video_segments: 21\n",
      "start_frame_idx 60\n",
      "objects_count 5\n"
     ]
    },
    {
     "name": "stderr",
     "output_type": "stream",
     "text": [
      "propagate in video: 100%|█████████████████████████| 5/5 [00:00<00:00, 31.89it/s]"
     ]
    },
    {
     "name": "stdout",
     "output_type": "stream",
     "text": [
      "video_segments: 5\n"
     ]
    },
    {
     "name": "stderr",
     "output_type": "stream",
     "text": [
      "\n"
     ]
    },
    {
     "name": "stdout",
     "output_type": "stream",
     "text": [
      "Path './outputs/result' did not exist and has been created.\n",
      "raw image name list ['00000.jpg', '00001.jpg', '00002.jpg', '00003.jpg', '00004.jpg', '00005.jpg', '00006.jpg', '00007.jpg', '00008.jpg', '00009.jpg', '00010.jpg', '00011.jpg', '00012.jpg', '00013.jpg', '00014.jpg', '00015.jpg', '00016.jpg', '00017.jpg', '00018.jpg', '00019.jpg', '00020.jpg', '00021.jpg', '00022.jpg', '00023.jpg', '00024.jpg', '00025.jpg', '00026.jpg', '00027.jpg', '00028.jpg', '00029.jpg', '00030.jpg', '00031.jpg', '00032.jpg', '00033.jpg', '00034.jpg', '00035.jpg', '00036.jpg', '00037.jpg', '00038.jpg', '00039.jpg', '00040.jpg', '00041.jpg', '00042.jpg', '00043.jpg', '00044.jpg', '00045.jpg', '00046.jpg', '00047.jpg', '00048.jpg', '00049.jpg', '00050.jpg', '00051.jpg', '00052.jpg', '00053.jpg', '00054.jpg', '00055.jpg', '00056.jpg', '00057.jpg', '00058.jpg', '00059.jpg', '00060.jpg', '00061.jpg', '00062.jpg', '00063.jpg', '00064.jpg']\n",
      "Annotated image saved as ./outputs/result/00000.jpg\n",
      "Annotated image saved as ./outputs/result/00001.jpg\n",
      "Annotated image saved as ./outputs/result/00002.jpg\n",
      "Annotated image saved as ./outputs/result/00003.jpg\n",
      "Annotated image saved as ./outputs/result/00004.jpg\n",
      "Annotated image saved as ./outputs/result/00005.jpg\n",
      "Annotated image saved as ./outputs/result/00006.jpg\n",
      "Annotated image saved as ./outputs/result/00007.jpg\n",
      "Annotated image saved as ./outputs/result/00008.jpg\n",
      "Annotated image saved as ./outputs/result/00009.jpg\n",
      "Annotated image saved as ./outputs/result/00010.jpg\n",
      "Annotated image saved as ./outputs/result/00011.jpg\n",
      "Annotated image saved as ./outputs/result/00012.jpg\n",
      "Annotated image saved as ./outputs/result/00013.jpg\n",
      "Annotated image saved as ./outputs/result/00014.jpg\n",
      "Annotated image saved as ./outputs/result/00015.jpg\n",
      "Annotated image saved as ./outputs/result/00016.jpg\n",
      "Annotated image saved as ./outputs/result/00017.jpg\n",
      "Annotated image saved as ./outputs/result/00018.jpg\n",
      "Annotated image saved as ./outputs/result/00019.jpg\n",
      "Annotated image saved as ./outputs/result/00020.jpg\n",
      "Annotated image saved as ./outputs/result/00021.jpg\n",
      "Annotated image saved as ./outputs/result/00022.jpg\n",
      "Annotated image saved as ./outputs/result/00023.jpg\n",
      "Annotated image saved as ./outputs/result/00024.jpg\n",
      "Annotated image saved as ./outputs/result/00025.jpg\n",
      "Annotated image saved as ./outputs/result/00026.jpg\n",
      "Annotated image saved as ./outputs/result/00027.jpg\n",
      "Annotated image saved as ./outputs/result/00028.jpg\n",
      "Annotated image saved as ./outputs/result/00029.jpg\n",
      "Annotated image saved as ./outputs/result/00030.jpg\n",
      "Annotated image saved as ./outputs/result/00031.jpg\n",
      "Annotated image saved as ./outputs/result/00032.jpg\n",
      "Annotated image saved as ./outputs/result/00033.jpg\n",
      "Annotated image saved as ./outputs/result/00034.jpg\n",
      "Annotated image saved as ./outputs/result/00035.jpg\n",
      "Annotated image saved as ./outputs/result/00036.jpg\n",
      "Annotated image saved as ./outputs/result/00037.jpg\n",
      "Annotated image saved as ./outputs/result/00038.jpg\n",
      "Annotated image saved as ./outputs/result/00039.jpg\n",
      "Annotated image saved as ./outputs/result/00040.jpg\n",
      "Annotated image saved as ./outputs/result/00041.jpg\n",
      "Annotated image saved as ./outputs/result/00042.jpg\n",
      "Annotated image saved as ./outputs/result/00043.jpg\n",
      "Annotated image saved as ./outputs/result/00044.jpg\n",
      "Annotated image saved as ./outputs/result/00045.jpg\n",
      "Annotated image saved as ./outputs/result/00046.jpg\n",
      "Annotated image saved as ./outputs/result/00047.jpg\n",
      "Annotated image saved as ./outputs/result/00048.jpg\n",
      "Annotated image saved as ./outputs/result/00049.jpg\n",
      "Annotated image saved as ./outputs/result/00050.jpg\n",
      "Annotated image saved as ./outputs/result/00051.jpg\n",
      "Annotated image saved as ./outputs/result/00052.jpg\n",
      "Annotated image saved as ./outputs/result/00053.jpg\n",
      "Annotated image saved as ./outputs/result/00054.jpg\n",
      "Annotated image saved as ./outputs/result/00055.jpg\n",
      "Annotated image saved as ./outputs/result/00056.jpg\n",
      "Annotated image saved as ./outputs/result/00057.jpg\n",
      "Annotated image saved as ./outputs/result/00058.jpg\n",
      "Annotated image saved as ./outputs/result/00059.jpg\n",
      "Annotated image saved as ./outputs/result/00060.jpg\n",
      "Annotated image saved as ./outputs/result/00061.jpg\n",
      "Annotated image saved as ./outputs/result/00062.jpg\n",
      "Annotated image saved as ./outputs/result/00063.jpg\n",
      "Annotated image saved as ./outputs/result/00064.jpg\n",
      "['00000.jpg', '00001.jpg', '00002.jpg', '00003.jpg', '00004.jpg', '00005.jpg', '00006.jpg', '00007.jpg', '00008.jpg', '00009.jpg', '00010.jpg', '00011.jpg', '00012.jpg', '00013.jpg', '00014.jpg', '00015.jpg', '00016.jpg', '00017.jpg', '00018.jpg', '00019.jpg', '00020.jpg', '00021.jpg', '00022.jpg', '00023.jpg', '00024.jpg', '00025.jpg', '00026.jpg', '00027.jpg', '00028.jpg', '00029.jpg', '00030.jpg', '00031.jpg', '00032.jpg', '00033.jpg', '00034.jpg', '00035.jpg', '00036.jpg', '00037.jpg', '00038.jpg', '00039.jpg', '00040.jpg', '00041.jpg', '00042.jpg', '00043.jpg', '00044.jpg', '00045.jpg', '00046.jpg', '00047.jpg', '00048.jpg', '00049.jpg', '00050.jpg', '00051.jpg', '00052.jpg', '00053.jpg', '00054.jpg', '00055.jpg', '00056.jpg', '00057.jpg', '00058.jpg', '00059.jpg', '00060.jpg', '00061.jpg', '00062.jpg', '00063.jpg', '00064.jpg']\n"
     ]
    },
    {
     "name": "stderr",
     "output_type": "stream",
     "text": [
      "100%|██████████████████████████████████████████| 65/65 [00:00<00:00, 129.25it/s]\n"
     ]
    },
    {
     "name": "stdout",
     "output_type": "stream",
     "text": [
      "Video saved at ./outputs/output_vids/232f98b4-9293-46ea-95de-4fb4ae230648-part2-clip_00000003-0.mp4\n",
      "doing 9a15e066-f54e-4fe4-98cb-58f7d0f655c7-clip_00000121-4\n",
      "Path './outputs' already exists.\n",
      "Path './outputs/mask_data' did not exist and has been created.\n",
      "Path './outputs/json_data' did not exist and has been created.\n"
     ]
    },
    {
     "name": "stderr",
     "output_type": "stream",
     "text": [
      "frame loading (JPEG):   0%|                             | 0/214 [00:00<?, ?it/s]"
     ]
    },
    {
     "name": "stdout",
     "output_type": "stream",
     "text": [
      "Total frames: 214\n",
      "start_frame_idx 0\n"
     ]
    },
    {
     "name": "stderr",
     "output_type": "stream",
     "text": [
      "frame loading (JPEG):   4%|▊                    | 8/214 [00:00<00:07, 29.14it/s]"
     ]
    },
    {
     "name": "stdout",
     "output_type": "stream",
     "text": [
      "objects_count 2\n"
     ]
    },
    {
     "name": "stderr",
     "output_type": "stream",
     "text": [
      "\n",
      "frame loading (JPEG):   7%|█▎                  | 14/214 [00:00<00:07, 28.02it/s]\u001b[A\n",
      "frame loading (JPEG):   8%|█▌                  | 17/214 [00:00<00:07, 27.82it/s]\u001b[A\n",
      "frame loading (JPEG):   9%|█▊                  | 20/214 [00:00<00:06, 27.85it/s]\u001b[A\n",
      "frame loading (JPEG):  12%|██▍                 | 26/214 [00:00<00:06, 27.64it/s]\u001b[A\n",
      "frame loading (JPEG):  14%|██▋                 | 29/214 [00:01<00:06, 27.87it/s]\u001b[A\n",
      "frame loading (JPEG):  15%|██▉                 | 32/214 [00:01<00:06, 28.30it/s]\u001b[A\n",
      "propagate in video: 100%|███████████████████████| 21/21 [00:00<00:00, 24.70it/s]\u001b[A\n",
      "frame loading (JPEG):  18%|███▌                | 38/214 [00:01<00:06, 28.78it/s]"
     ]
    },
    {
     "name": "stdout",
     "output_type": "stream",
     "text": [
      "video_segments: 21\n"
     ]
    },
    {
     "name": "stderr",
     "output_type": "stream",
     "text": [
      "frame loading (JPEG):  23%|████▋               | 50/214 [00:01<00:05, 29.10it/s]"
     ]
    },
    {
     "name": "stdout",
     "output_type": "stream",
     "text": [
      "start_frame_idx 20\n",
      "objects_count 3\n"
     ]
    },
    {
     "name": "stderr",
     "output_type": "stream",
     "text": [
      "\n",
      "frame loading (JPEG):  25%|████▉               | 53/214 [00:01<00:05, 29.08it/s]\u001b[A\n",
      "frame loading (JPEG):  28%|█████▌              | 59/214 [00:02<00:05, 29.27it/s]\u001b[A\n",
      "frame loading (JPEG):  29%|█████▊              | 62/214 [00:02<00:05, 29.27it/s]\u001b[A\n",
      "frame loading (JPEG):  32%|██████▎             | 68/214 [00:02<00:05, 28.84it/s]\u001b[A\n",
      "frame loading (JPEG):  33%|██████▋             | 71/214 [00:02<00:04, 28.70it/s]\u001b[A\n",
      "frame loading (JPEG):  35%|██████▉             | 74/214 [00:02<00:04, 28.74it/s]\u001b[A\n",
      "propagate in video: 100%|███████████████████████| 21/21 [00:00<00:00, 23.64it/s]\u001b[A\n",
      "frame loading (JPEG):  39%|███████▊            | 83/214 [00:02<00:04, 28.38it/s]"
     ]
    },
    {
     "name": "stdout",
     "output_type": "stream",
     "text": [
      "video_segments: 21\n"
     ]
    },
    {
     "name": "stderr",
     "output_type": "stream",
     "text": [
      "frame loading (JPEG):  43%|████████▌           | 92/214 [00:03<00:04, 28.72it/s]"
     ]
    },
    {
     "name": "stdout",
     "output_type": "stream",
     "text": [
      "start_frame_idx 40\n"
     ]
    },
    {
     "name": "stderr",
     "output_type": "stream",
     "text": [
      "frame loading (JPEG):  44%|████████▉           | 95/214 [00:03<00:04, 28.83it/s]"
     ]
    },
    {
     "name": "stdout",
     "output_type": "stream",
     "text": [
      "objects_count 3\n"
     ]
    },
    {
     "name": "stderr",
     "output_type": "stream",
     "text": [
      "\n",
      "frame loading (JPEG):  46%|█████████▏          | 98/214 [00:03<00:04, 28.82it/s]\u001b[A\n",
      "frame loading (JPEG):  49%|█████████▏         | 104/214 [00:03<00:03, 28.91it/s]\u001b[A\n",
      "frame loading (JPEG):  50%|█████████▌         | 107/214 [00:03<00:03, 28.89it/s]\u001b[A\n",
      "frame loading (JPEG):  51%|█████████▊         | 110/214 [00:03<00:03, 28.96it/s]\u001b[A\n",
      "frame loading (JPEG):  53%|██████████         | 113/214 [00:03<00:03, 28.99it/s]\u001b[A\n",
      "frame loading (JPEG):  54%|██████████▎        | 116/214 [00:04<00:03, 28.99it/s]\u001b[A\n",
      "propagate in video: 100%|███████████████████████| 21/21 [00:00<00:00, 24.97it/s]\u001b[A\n",
      "frame loading (JPEG):  58%|███████████        | 125/214 [00:04<00:03, 28.89it/s]"
     ]
    },
    {
     "name": "stdout",
     "output_type": "stream",
     "text": [
      "video_segments: 21\n"
     ]
    },
    {
     "name": "stderr",
     "output_type": "stream",
     "text": [
      "frame loading (JPEG):  63%|███████████▉       | 134/214 [00:04<00:02, 28.04it/s]"
     ]
    },
    {
     "name": "stdout",
     "output_type": "stream",
     "text": [
      "start_frame_idx 60\n",
      "objects_count 3\n"
     ]
    },
    {
     "name": "stderr",
     "output_type": "stream",
     "text": [
      "\n",
      "frame loading (JPEG):  64%|████████████▏      | 137/214 [00:04<00:02, 27.84it/s]\u001b[A\n",
      "frame loading (JPEG):  67%|████████████▋      | 143/214 [00:05<00:02, 27.83it/s]\u001b[A\n",
      "frame loading (JPEG):  68%|████████████▉      | 146/214 [00:05<00:02, 27.88it/s]\u001b[A\n",
      "frame loading (JPEG):  70%|█████████████▏     | 149/214 [00:05<00:02, 27.84it/s]\u001b[A\n",
      "frame loading (JPEG):  71%|█████████████▍     | 152/214 [00:05<00:02, 27.76it/s]\u001b[A\n",
      "frame loading (JPEG):  72%|█████████████▊     | 155/214 [00:05<00:02, 27.63it/s]\u001b[A\n",
      "propagate in video: 100%|███████████████████████| 21/21 [00:00<00:00, 25.70it/s]\u001b[A\n",
      "frame loading (JPEG):  77%|██████████████▌    | 164/214 [00:05<00:01, 28.23it/s]"
     ]
    },
    {
     "name": "stdout",
     "output_type": "stream",
     "text": [
      "video_segments: 21\n"
     ]
    },
    {
     "name": "stderr",
     "output_type": "stream",
     "text": [
      "frame loading (JPEG):  81%|███████████████▎   | 173/214 [00:06<00:01, 28.12it/s]"
     ]
    },
    {
     "name": "stdout",
     "output_type": "stream",
     "text": [
      "start_frame_idx 80\n",
      "objects_count 4\n"
     ]
    },
    {
     "name": "stderr",
     "output_type": "stream",
     "text": [
      "\n",
      "frame loading (JPEG):  82%|███████████████▋   | 176/214 [00:06<00:01, 28.06it/s]\u001b[A\n",
      "frame loading (JPEG):  85%|████████████████▏  | 182/214 [00:06<00:01, 28.60it/s]\u001b[A\n",
      "frame loading (JPEG):  86%|████████████████▍  | 185/214 [00:06<00:01, 28.91it/s]\u001b[A\n",
      "frame loading (JPEG):  89%|████████████████▉  | 191/214 [00:06<00:00, 29.19it/s]\u001b[A\n",
      "frame loading (JPEG):  91%|█████████████████▏ | 194/214 [00:06<00:00, 29.34it/s]\u001b[A\n",
      "frame loading (JPEG):  92%|█████████████████▍ | 197/214 [00:06<00:00, 29.25it/s]\u001b[A\n",
      "propagate in video: 100%|███████████████████████| 21/21 [00:00<00:00, 23.46it/s]\u001b[A\n",
      "frame loading (JPEG):  96%|██████████████████▎| 206/214 [00:07<00:00, 29.13it/s]"
     ]
    },
    {
     "name": "stdout",
     "output_type": "stream",
     "text": [
      "video_segments: 21\n"
     ]
    },
    {
     "name": "stderr",
     "output_type": "stream",
     "text": [
      "frame loading (JPEG): 100%|███████████████████| 214/214 [00:07<00:00, 28.60it/s]\n"
     ]
    },
    {
     "name": "stdout",
     "output_type": "stream",
     "text": [
      "start_frame_idx 100\n",
      "objects_count 4\n"
     ]
    },
    {
     "name": "stderr",
     "output_type": "stream",
     "text": [
      "propagate in video: 100%|███████████████████████| 21/21 [00:00<00:00, 26.95it/s]\n"
     ]
    },
    {
     "name": "stdout",
     "output_type": "stream",
     "text": [
      "video_segments: 21\n",
      "start_frame_idx 120\n",
      "objects_count 4\n"
     ]
    },
    {
     "name": "stderr",
     "output_type": "stream",
     "text": [
      "propagate in video: 100%|███████████████████████| 21/21 [00:00<00:00, 26.67it/s]\n"
     ]
    },
    {
     "name": "stdout",
     "output_type": "stream",
     "text": [
      "video_segments: 21\n",
      "start_frame_idx 140\n",
      "objects_count 4\n"
     ]
    },
    {
     "name": "stderr",
     "output_type": "stream",
     "text": [
      "propagate in video: 100%|███████████████████████| 21/21 [00:00<00:00, 27.02it/s]\n"
     ]
    },
    {
     "name": "stdout",
     "output_type": "stream",
     "text": [
      "video_segments: 21\n",
      "start_frame_idx 160\n",
      "objects_count 4\n"
     ]
    },
    {
     "name": "stderr",
     "output_type": "stream",
     "text": [
      "propagate in video: 100%|███████████████████████| 21/21 [00:00<00:00, 27.43it/s]\n"
     ]
    },
    {
     "name": "stdout",
     "output_type": "stream",
     "text": [
      "video_segments: 21\n",
      "start_frame_idx 180\n",
      "objects_count 4\n"
     ]
    },
    {
     "name": "stderr",
     "output_type": "stream",
     "text": [
      "propagate in video: 100%|███████████████████████| 21/21 [00:00<00:00, 27.33it/s]\n"
     ]
    },
    {
     "name": "stdout",
     "output_type": "stream",
     "text": [
      "video_segments: 21\n",
      "start_frame_idx 200\n",
      "objects_count 6\n"
     ]
    },
    {
     "name": "stderr",
     "output_type": "stream",
     "text": [
      "propagate in video: 100%|███████████████████████| 14/14 [00:00<00:00, 26.20it/s]\n"
     ]
    },
    {
     "name": "stdout",
     "output_type": "stream",
     "text": [
      "video_segments: 14\n",
      "Path './outputs/result' did not exist and has been created.\n",
      "raw image name list ['00000.jpg', '00001.jpg', '00002.jpg', '00003.jpg', '00004.jpg', '00005.jpg', '00006.jpg', '00007.jpg', '00008.jpg', '00009.jpg', '00010.jpg', '00011.jpg', '00012.jpg', '00013.jpg', '00014.jpg', '00015.jpg', '00016.jpg', '00017.jpg', '00018.jpg', '00019.jpg', '00020.jpg', '00021.jpg', '00022.jpg', '00023.jpg', '00024.jpg', '00025.jpg', '00026.jpg', '00027.jpg', '00028.jpg', '00029.jpg', '00030.jpg', '00031.jpg', '00032.jpg', '00033.jpg', '00034.jpg', '00035.jpg', '00036.jpg', '00037.jpg', '00038.jpg', '00039.jpg', '00040.jpg', '00041.jpg', '00042.jpg', '00043.jpg', '00044.jpg', '00045.jpg', '00046.jpg', '00047.jpg', '00048.jpg', '00049.jpg', '00050.jpg', '00051.jpg', '00052.jpg', '00053.jpg', '00054.jpg', '00055.jpg', '00056.jpg', '00057.jpg', '00058.jpg', '00059.jpg', '00060.jpg', '00061.jpg', '00062.jpg', '00063.jpg', '00064.jpg', '00065.jpg', '00066.jpg', '00067.jpg', '00068.jpg', '00069.jpg', '00070.jpg', '00071.jpg', '00072.jpg', '00073.jpg', '00074.jpg', '00075.jpg', '00076.jpg', '00077.jpg', '00078.jpg', '00079.jpg', '00080.jpg', '00081.jpg', '00082.jpg', '00083.jpg', '00084.jpg', '00085.jpg', '00086.jpg', '00087.jpg', '00088.jpg', '00089.jpg', '00090.jpg', '00091.jpg', '00092.jpg', '00093.jpg', '00094.jpg', '00095.jpg', '00096.jpg', '00097.jpg', '00098.jpg', '00099.jpg', '00100.jpg', '00101.jpg', '00102.jpg', '00103.jpg', '00104.jpg', '00105.jpg', '00106.jpg', '00107.jpg', '00108.jpg', '00109.jpg', '00110.jpg', '00111.jpg', '00112.jpg', '00113.jpg', '00114.jpg', '00115.jpg', '00116.jpg', '00117.jpg', '00118.jpg', '00119.jpg', '00120.jpg', '00121.jpg', '00122.jpg', '00123.jpg', '00124.jpg', '00125.jpg', '00126.jpg', '00127.jpg', '00128.jpg', '00129.jpg', '00130.jpg', '00131.jpg', '00132.jpg', '00133.jpg', '00134.jpg', '00135.jpg', '00136.jpg', '00137.jpg', '00138.jpg', '00139.jpg', '00140.jpg', '00141.jpg', '00142.jpg', '00143.jpg', '00144.jpg', '00145.jpg', '00146.jpg', '00147.jpg', '00148.jpg', '00149.jpg', '00150.jpg', '00151.jpg', '00152.jpg', '00153.jpg', '00154.jpg', '00155.jpg', '00156.jpg', '00157.jpg', '00158.jpg', '00159.jpg', '00160.jpg', '00161.jpg', '00162.jpg', '00163.jpg', '00164.jpg', '00165.jpg', '00166.jpg', '00167.jpg', '00168.jpg', '00169.jpg', '00170.jpg', '00171.jpg', '00172.jpg', '00173.jpg', '00174.jpg', '00175.jpg', '00176.jpg', '00177.jpg', '00178.jpg', '00179.jpg', '00180.jpg', '00181.jpg', '00182.jpg', '00183.jpg', '00184.jpg', '00185.jpg', '00186.jpg', '00187.jpg', '00188.jpg', '00189.jpg', '00190.jpg', '00191.jpg', '00192.jpg', '00193.jpg', '00194.jpg', '00195.jpg', '00196.jpg', '00197.jpg', '00198.jpg', '00199.jpg', '00200.jpg', '00201.jpg', '00202.jpg', '00203.jpg', '00204.jpg', '00205.jpg', '00206.jpg', '00207.jpg', '00208.jpg', '00209.jpg', '00210.jpg', '00211.jpg', '00212.jpg', '00213.jpg']\n",
      "Annotated image saved as ./outputs/result/00000.jpg\n",
      "Annotated image saved as ./outputs/result/00001.jpg\n",
      "Annotated image saved as ./outputs/result/00002.jpg\n",
      "Annotated image saved as ./outputs/result/00003.jpg\n",
      "Annotated image saved as ./outputs/result/00004.jpg\n",
      "Annotated image saved as ./outputs/result/00005.jpg\n",
      "Annotated image saved as ./outputs/result/00006.jpg\n",
      "Annotated image saved as ./outputs/result/00007.jpg\n",
      "Annotated image saved as ./outputs/result/00008.jpg\n",
      "Annotated image saved as ./outputs/result/00009.jpg\n",
      "Annotated image saved as ./outputs/result/00010.jpg\n",
      "Annotated image saved as ./outputs/result/00011.jpg\n",
      "Annotated image saved as ./outputs/result/00012.jpg\n",
      "Annotated image saved as ./outputs/result/00013.jpg\n",
      "Annotated image saved as ./outputs/result/00014.jpg\n",
      "Annotated image saved as ./outputs/result/00015.jpg\n",
      "Annotated image saved as ./outputs/result/00016.jpg\n",
      "Annotated image saved as ./outputs/result/00017.jpg\n",
      "Annotated image saved as ./outputs/result/00018.jpg\n",
      "Annotated image saved as ./outputs/result/00019.jpg\n",
      "Annotated image saved as ./outputs/result/00020.jpg\n",
      "Annotated image saved as ./outputs/result/00021.jpg\n",
      "Annotated image saved as ./outputs/result/00022.jpg\n",
      "Annotated image saved as ./outputs/result/00023.jpg\n",
      "Annotated image saved as ./outputs/result/00024.jpg\n",
      "Annotated image saved as ./outputs/result/00025.jpg\n",
      "Annotated image saved as ./outputs/result/00026.jpg\n",
      "Annotated image saved as ./outputs/result/00027.jpg\n",
      "Annotated image saved as ./outputs/result/00028.jpg\n",
      "Annotated image saved as ./outputs/result/00029.jpg\n",
      "Annotated image saved as ./outputs/result/00030.jpg\n",
      "Annotated image saved as ./outputs/result/00031.jpg\n",
      "Annotated image saved as ./outputs/result/00032.jpg\n",
      "Annotated image saved as ./outputs/result/00033.jpg\n",
      "Annotated image saved as ./outputs/result/00034.jpg\n",
      "Annotated image saved as ./outputs/result/00035.jpg\n",
      "Annotated image saved as ./outputs/result/00036.jpg\n",
      "Annotated image saved as ./outputs/result/00037.jpg\n",
      "Annotated image saved as ./outputs/result/00038.jpg\n",
      "Annotated image saved as ./outputs/result/00039.jpg\n",
      "Annotated image saved as ./outputs/result/00040.jpg\n",
      "Annotated image saved as ./outputs/result/00041.jpg\n",
      "Annotated image saved as ./outputs/result/00042.jpg\n",
      "Annotated image saved as ./outputs/result/00043.jpg\n",
      "Annotated image saved as ./outputs/result/00044.jpg\n",
      "Annotated image saved as ./outputs/result/00045.jpg\n",
      "Annotated image saved as ./outputs/result/00046.jpg\n",
      "Annotated image saved as ./outputs/result/00047.jpg\n",
      "Annotated image saved as ./outputs/result/00048.jpg\n",
      "Annotated image saved as ./outputs/result/00049.jpg\n",
      "Annotated image saved as ./outputs/result/00050.jpg\n",
      "Annotated image saved as ./outputs/result/00051.jpg\n",
      "Annotated image saved as ./outputs/result/00052.jpg\n",
      "Annotated image saved as ./outputs/result/00053.jpg\n",
      "Annotated image saved as ./outputs/result/00054.jpg\n",
      "Annotated image saved as ./outputs/result/00055.jpg\n",
      "Annotated image saved as ./outputs/result/00056.jpg\n",
      "Annotated image saved as ./outputs/result/00057.jpg\n",
      "Annotated image saved as ./outputs/result/00058.jpg\n",
      "Annotated image saved as ./outputs/result/00059.jpg\n",
      "Annotated image saved as ./outputs/result/00060.jpg\n",
      "Annotated image saved as ./outputs/result/00061.jpg\n",
      "Annotated image saved as ./outputs/result/00062.jpg\n",
      "Annotated image saved as ./outputs/result/00063.jpg\n",
      "Annotated image saved as ./outputs/result/00064.jpg\n",
      "Annotated image saved as ./outputs/result/00065.jpg\n",
      "Annotated image saved as ./outputs/result/00066.jpg\n",
      "Annotated image saved as ./outputs/result/00067.jpg\n",
      "Annotated image saved as ./outputs/result/00068.jpg\n",
      "Annotated image saved as ./outputs/result/00069.jpg\n",
      "Annotated image saved as ./outputs/result/00070.jpg\n",
      "Annotated image saved as ./outputs/result/00071.jpg\n",
      "Annotated image saved as ./outputs/result/00072.jpg\n",
      "Annotated image saved as ./outputs/result/00073.jpg\n",
      "Annotated image saved as ./outputs/result/00074.jpg\n",
      "Annotated image saved as ./outputs/result/00075.jpg\n",
      "Annotated image saved as ./outputs/result/00076.jpg\n",
      "Annotated image saved as ./outputs/result/00077.jpg\n",
      "Annotated image saved as ./outputs/result/00078.jpg\n",
      "Annotated image saved as ./outputs/result/00079.jpg\n",
      "Annotated image saved as ./outputs/result/00080.jpg\n",
      "Annotated image saved as ./outputs/result/00081.jpg\n",
      "Annotated image saved as ./outputs/result/00082.jpg\n",
      "Annotated image saved as ./outputs/result/00083.jpg\n",
      "Annotated image saved as ./outputs/result/00084.jpg\n",
      "Annotated image saved as ./outputs/result/00085.jpg\n",
      "Annotated image saved as ./outputs/result/00086.jpg\n",
      "Annotated image saved as ./outputs/result/00087.jpg\n",
      "Annotated image saved as ./outputs/result/00088.jpg\n",
      "Annotated image saved as ./outputs/result/00089.jpg\n",
      "Annotated image saved as ./outputs/result/00090.jpg\n",
      "Annotated image saved as ./outputs/result/00091.jpg\n",
      "Annotated image saved as ./outputs/result/00092.jpg\n",
      "Annotated image saved as ./outputs/result/00093.jpg\n",
      "Annotated image saved as ./outputs/result/00094.jpg\n",
      "Annotated image saved as ./outputs/result/00095.jpg\n",
      "Annotated image saved as ./outputs/result/00096.jpg\n",
      "Annotated image saved as ./outputs/result/00097.jpg\n",
      "Annotated image saved as ./outputs/result/00098.jpg\n",
      "Annotated image saved as ./outputs/result/00099.jpg\n",
      "Annotated image saved as ./outputs/result/00100.jpg\n",
      "Annotated image saved as ./outputs/result/00101.jpg\n",
      "Annotated image saved as ./outputs/result/00102.jpg\n",
      "Annotated image saved as ./outputs/result/00103.jpg\n",
      "Annotated image saved as ./outputs/result/00104.jpg\n",
      "Annotated image saved as ./outputs/result/00105.jpg\n",
      "Annotated image saved as ./outputs/result/00106.jpg\n",
      "Annotated image saved as ./outputs/result/00107.jpg\n",
      "Annotated image saved as ./outputs/result/00108.jpg\n",
      "Annotated image saved as ./outputs/result/00109.jpg\n",
      "Annotated image saved as ./outputs/result/00110.jpg\n",
      "Annotated image saved as ./outputs/result/00111.jpg\n",
      "Annotated image saved as ./outputs/result/00112.jpg\n",
      "Annotated image saved as ./outputs/result/00113.jpg\n",
      "Annotated image saved as ./outputs/result/00114.jpg\n",
      "Annotated image saved as ./outputs/result/00115.jpg\n",
      "Annotated image saved as ./outputs/result/00116.jpg\n",
      "Annotated image saved as ./outputs/result/00117.jpg\n",
      "Annotated image saved as ./outputs/result/00118.jpg\n",
      "Annotated image saved as ./outputs/result/00119.jpg\n",
      "Annotated image saved as ./outputs/result/00120.jpg\n",
      "Annotated image saved as ./outputs/result/00121.jpg\n",
      "Annotated image saved as ./outputs/result/00122.jpg\n",
      "Annotated image saved as ./outputs/result/00123.jpg\n",
      "Annotated image saved as ./outputs/result/00124.jpg\n",
      "Annotated image saved as ./outputs/result/00125.jpg\n",
      "Annotated image saved as ./outputs/result/00126.jpg\n",
      "Annotated image saved as ./outputs/result/00127.jpg\n",
      "Annotated image saved as ./outputs/result/00128.jpg\n",
      "Annotated image saved as ./outputs/result/00129.jpg\n",
      "Annotated image saved as ./outputs/result/00130.jpg\n",
      "Annotated image saved as ./outputs/result/00131.jpg\n",
      "Annotated image saved as ./outputs/result/00132.jpg\n",
      "Annotated image saved as ./outputs/result/00133.jpg\n",
      "Annotated image saved as ./outputs/result/00134.jpg\n",
      "Annotated image saved as ./outputs/result/00135.jpg\n",
      "Annotated image saved as ./outputs/result/00136.jpg\n",
      "Annotated image saved as ./outputs/result/00137.jpg\n",
      "Annotated image saved as ./outputs/result/00138.jpg\n",
      "Annotated image saved as ./outputs/result/00139.jpg\n",
      "Annotated image saved as ./outputs/result/00140.jpg\n",
      "Annotated image saved as ./outputs/result/00141.jpg\n",
      "Annotated image saved as ./outputs/result/00142.jpg\n",
      "Annotated image saved as ./outputs/result/00143.jpg\n",
      "Annotated image saved as ./outputs/result/00144.jpg\n",
      "Annotated image saved as ./outputs/result/00145.jpg\n",
      "Annotated image saved as ./outputs/result/00146.jpg\n",
      "Annotated image saved as ./outputs/result/00147.jpg\n",
      "Annotated image saved as ./outputs/result/00148.jpg\n",
      "Annotated image saved as ./outputs/result/00149.jpg\n",
      "Annotated image saved as ./outputs/result/00150.jpg\n",
      "Annotated image saved as ./outputs/result/00151.jpg\n",
      "Annotated image saved as ./outputs/result/00152.jpg\n",
      "Annotated image saved as ./outputs/result/00153.jpg\n",
      "Annotated image saved as ./outputs/result/00154.jpg\n",
      "Annotated image saved as ./outputs/result/00155.jpg\n",
      "Annotated image saved as ./outputs/result/00156.jpg\n",
      "Annotated image saved as ./outputs/result/00157.jpg\n",
      "Annotated image saved as ./outputs/result/00158.jpg\n",
      "Annotated image saved as ./outputs/result/00159.jpg\n",
      "Annotated image saved as ./outputs/result/00160.jpg\n",
      "Annotated image saved as ./outputs/result/00161.jpg\n",
      "Annotated image saved as ./outputs/result/00162.jpg\n",
      "Annotated image saved as ./outputs/result/00163.jpg\n",
      "Annotated image saved as ./outputs/result/00164.jpg\n",
      "Annotated image saved as ./outputs/result/00165.jpg\n",
      "Annotated image saved as ./outputs/result/00166.jpg\n",
      "Annotated image saved as ./outputs/result/00167.jpg\n",
      "Annotated image saved as ./outputs/result/00168.jpg\n",
      "Annotated image saved as ./outputs/result/00169.jpg\n",
      "Annotated image saved as ./outputs/result/00170.jpg\n",
      "Annotated image saved as ./outputs/result/00171.jpg\n",
      "Annotated image saved as ./outputs/result/00172.jpg\n",
      "Annotated image saved as ./outputs/result/00173.jpg\n",
      "Annotated image saved as ./outputs/result/00174.jpg\n",
      "Annotated image saved as ./outputs/result/00175.jpg\n",
      "Annotated image saved as ./outputs/result/00176.jpg\n",
      "Annotated image saved as ./outputs/result/00177.jpg\n",
      "Annotated image saved as ./outputs/result/00178.jpg\n",
      "Annotated image saved as ./outputs/result/00179.jpg\n",
      "Annotated image saved as ./outputs/result/00180.jpg\n",
      "Annotated image saved as ./outputs/result/00181.jpg\n",
      "Annotated image saved as ./outputs/result/00182.jpg\n",
      "Annotated image saved as ./outputs/result/00183.jpg\n",
      "Annotated image saved as ./outputs/result/00184.jpg\n",
      "Annotated image saved as ./outputs/result/00185.jpg\n",
      "Annotated image saved as ./outputs/result/00186.jpg\n",
      "Annotated image saved as ./outputs/result/00187.jpg\n",
      "Annotated image saved as ./outputs/result/00188.jpg\n",
      "Annotated image saved as ./outputs/result/00189.jpg\n",
      "Annotated image saved as ./outputs/result/00190.jpg\n",
      "Annotated image saved as ./outputs/result/00191.jpg\n",
      "Annotated image saved as ./outputs/result/00192.jpg\n",
      "Annotated image saved as ./outputs/result/00193.jpg\n",
      "Annotated image saved as ./outputs/result/00194.jpg\n",
      "Annotated image saved as ./outputs/result/00195.jpg\n",
      "Annotated image saved as ./outputs/result/00196.jpg\n",
      "Annotated image saved as ./outputs/result/00197.jpg\n",
      "Annotated image saved as ./outputs/result/00198.jpg\n",
      "Annotated image saved as ./outputs/result/00199.jpg\n",
      "Annotated image saved as ./outputs/result/00200.jpg\n",
      "Annotated image saved as ./outputs/result/00201.jpg\n",
      "Annotated image saved as ./outputs/result/00202.jpg\n",
      "Annotated image saved as ./outputs/result/00203.jpg\n",
      "Annotated image saved as ./outputs/result/00204.jpg\n",
      "Annotated image saved as ./outputs/result/00205.jpg\n",
      "Annotated image saved as ./outputs/result/00206.jpg\n",
      "Annotated image saved as ./outputs/result/00207.jpg\n",
      "Annotated image saved as ./outputs/result/00208.jpg\n",
      "Annotated image saved as ./outputs/result/00209.jpg\n",
      "Annotated image saved as ./outputs/result/00210.jpg\n",
      "Annotated image saved as ./outputs/result/00211.jpg\n",
      "Annotated image saved as ./outputs/result/00212.jpg\n",
      "Annotated image saved as ./outputs/result/00213.jpg\n",
      "['00000.jpg', '00001.jpg', '00002.jpg', '00003.jpg', '00004.jpg', '00005.jpg', '00006.jpg', '00007.jpg', '00008.jpg', '00009.jpg', '00010.jpg', '00011.jpg', '00012.jpg', '00013.jpg', '00014.jpg', '00015.jpg', '00016.jpg', '00017.jpg', '00018.jpg', '00019.jpg', '00020.jpg', '00021.jpg', '00022.jpg', '00023.jpg', '00024.jpg', '00025.jpg', '00026.jpg', '00027.jpg', '00028.jpg', '00029.jpg', '00030.jpg', '00031.jpg', '00032.jpg', '00033.jpg', '00034.jpg', '00035.jpg', '00036.jpg', '00037.jpg', '00038.jpg', '00039.jpg', '00040.jpg', '00041.jpg', '00042.jpg', '00043.jpg', '00044.jpg', '00045.jpg', '00046.jpg', '00047.jpg', '00048.jpg', '00049.jpg', '00050.jpg', '00051.jpg', '00052.jpg', '00053.jpg', '00054.jpg', '00055.jpg', '00056.jpg', '00057.jpg', '00058.jpg', '00059.jpg', '00060.jpg', '00061.jpg', '00062.jpg', '00063.jpg', '00064.jpg', '00065.jpg', '00066.jpg', '00067.jpg', '00068.jpg', '00069.jpg', '00070.jpg', '00071.jpg', '00072.jpg', '00073.jpg', '00074.jpg', '00075.jpg', '00076.jpg', '00077.jpg', '00078.jpg', '00079.jpg', '00080.jpg', '00081.jpg', '00082.jpg', '00083.jpg', '00084.jpg', '00085.jpg', '00086.jpg', '00087.jpg', '00088.jpg', '00089.jpg', '00090.jpg', '00091.jpg', '00092.jpg', '00093.jpg', '00094.jpg', '00095.jpg', '00096.jpg', '00097.jpg', '00098.jpg', '00099.jpg', '00100.jpg', '00101.jpg', '00102.jpg', '00103.jpg', '00104.jpg', '00105.jpg', '00106.jpg', '00107.jpg', '00108.jpg', '00109.jpg', '00110.jpg', '00111.jpg', '00112.jpg', '00113.jpg', '00114.jpg', '00115.jpg', '00116.jpg', '00117.jpg', '00118.jpg', '00119.jpg', '00120.jpg', '00121.jpg', '00122.jpg', '00123.jpg', '00124.jpg', '00125.jpg', '00126.jpg', '00127.jpg', '00128.jpg', '00129.jpg', '00130.jpg', '00131.jpg', '00132.jpg', '00133.jpg', '00134.jpg', '00135.jpg', '00136.jpg', '00137.jpg', '00138.jpg', '00139.jpg', '00140.jpg', '00141.jpg', '00142.jpg', '00143.jpg', '00144.jpg', '00145.jpg', '00146.jpg', '00147.jpg', '00148.jpg', '00149.jpg', '00150.jpg', '00151.jpg', '00152.jpg', '00153.jpg', '00154.jpg', '00155.jpg', '00156.jpg', '00157.jpg', '00158.jpg', '00159.jpg', '00160.jpg', '00161.jpg', '00162.jpg', '00163.jpg', '00164.jpg', '00165.jpg', '00166.jpg', '00167.jpg', '00168.jpg', '00169.jpg', '00170.jpg', '00171.jpg', '00172.jpg', '00173.jpg', '00174.jpg', '00175.jpg', '00176.jpg', '00177.jpg', '00178.jpg', '00179.jpg', '00180.jpg', '00181.jpg', '00182.jpg', '00183.jpg', '00184.jpg', '00185.jpg', '00186.jpg', '00187.jpg', '00188.jpg', '00189.jpg', '00190.jpg', '00191.jpg', '00192.jpg', '00193.jpg', '00194.jpg', '00195.jpg', '00196.jpg', '00197.jpg', '00198.jpg', '00199.jpg', '00200.jpg', '00201.jpg', '00202.jpg', '00203.jpg', '00204.jpg', '00205.jpg', '00206.jpg', '00207.jpg', '00208.jpg', '00209.jpg', '00210.jpg', '00211.jpg', '00212.jpg', '00213.jpg']\n"
     ]
    },
    {
     "name": "stderr",
     "output_type": "stream",
     "text": [
      "100%|█████████████████████████████████████████| 214/214 [00:03<00:00, 58.27it/s]\n"
     ]
    },
    {
     "name": "stdout",
     "output_type": "stream",
     "text": [
      "Video saved at ./outputs/output_vids/9a15e066-f54e-4fe4-98cb-58f7d0f655c7-clip_00000121-4.mp4\n",
      "doing Yca14HAvris-clip_00000079-2\n",
      "Path './outputs' already exists.\n",
      "Path './outputs/mask_data' did not exist and has been created.\n",
      "Path './outputs/json_data' did not exist and has been created.\n"
     ]
    },
    {
     "name": "stderr",
     "output_type": "stream",
     "text": [
      "frame loading (JPEG):   2%|▍                    | 5/251 [00:00<00:05, 43.06it/s]"
     ]
    },
    {
     "name": "stdout",
     "output_type": "stream",
     "text": [
      "Total frames: 251\n",
      "start_frame_idx 0\n",
      "objects_count 6\n"
     ]
    },
    {
     "name": "stderr",
     "output_type": "stream",
     "text": [
      "frame loading (JPEG):   4%|▊                   | 10/251 [00:00<00:06, 40.05it/s]\n",
      "frame loading (JPEG):   6%|█▏                  | 15/251 [00:00<00:06, 39.18it/s]\u001b[A\n",
      "frame loading (JPEG):   8%|█▌                  | 19/251 [00:00<00:06, 38.35it/s]\u001b[A\n",
      "frame loading (JPEG):  11%|██▏                 | 27/251 [00:00<00:05, 38.19it/s]\u001b[A\n",
      "frame loading (JPEG):  12%|██▍                 | 31/251 [00:00<00:05, 38.18it/s]\u001b[A\n",
      "frame loading (JPEG):  14%|██▊                 | 35/251 [00:00<00:05, 38.16it/s]\u001b[A\n",
      "frame loading (JPEG):  16%|███                 | 39/251 [00:01<00:05, 38.07it/s]\u001b[A\n",
      "frame loading (JPEG):  19%|███▋                | 47/251 [00:01<00:05, 37.91it/s]\u001b[A\n",
      "frame loading (JPEG):  20%|████                | 51/251 [00:01<00:05, 37.97it/s]\u001b[A\n",
      "propagate in video: 100%|███████████████████████| 21/21 [00:01<00:00, 18.47it/s]\u001b[A\n",
      "frame loading (JPEG):  24%|████▋               | 59/251 [00:01<00:05, 38.05it/s]"
     ]
    },
    {
     "name": "stdout",
     "output_type": "stream",
     "text": [
      "video_segments: 21\n",
      "start_frame_idx 20\n"
     ]
    },
    {
     "name": "stderr",
     "output_type": "stream",
     "text": [
      "frame loading (JPEG):  27%|█████▎              | 67/251 [00:01<00:04, 37.91it/s]"
     ]
    },
    {
     "name": "stdout",
     "output_type": "stream",
     "text": [
      "objects_count 7\n"
     ]
    },
    {
     "name": "stderr",
     "output_type": "stream",
     "text": [
      "\n",
      "frame loading (JPEG):  28%|█████▋              | 71/251 [00:01<00:04, 37.53it/s]\u001b[A\n",
      "frame loading (JPEG):  31%|██████▎             | 79/251 [00:02<00:04, 36.92it/s]\u001b[A\n",
      "frame loading (JPEG):  33%|██████▌             | 83/251 [00:02<00:04, 36.97it/s]\u001b[A\n",
      "frame loading (JPEG):  36%|███████▎            | 91/251 [00:02<00:04, 36.72it/s]\u001b[A\n",
      "frame loading (JPEG):  38%|███████▌            | 95/251 [00:02<00:04, 37.08it/s]\u001b[A\n",
      "frame loading (JPEG):  39%|███████▉            | 99/251 [00:02<00:04, 37.31it/s]\u001b[A\n",
      "propagate in video: 100%|███████████████████████| 21/21 [00:00<00:00, 22.15it/s]\u001b[A\n",
      "frame loading (JPEG):  44%|████████▍          | 111/251 [00:02<00:03, 37.86it/s]"
     ]
    },
    {
     "name": "stdout",
     "output_type": "stream",
     "text": [
      "video_segments: 21\n",
      "start_frame_idx 40\n"
     ]
    },
    {
     "name": "stderr",
     "output_type": "stream",
     "text": [
      "frame loading (JPEG):  47%|█████████          | 119/251 [00:03<00:03, 37.94it/s]"
     ]
    },
    {
     "name": "stdout",
     "output_type": "stream",
     "text": [
      "objects_count 11\n"
     ]
    },
    {
     "name": "stderr",
     "output_type": "stream",
     "text": [
      "\n",
      "frame loading (JPEG):  49%|█████████▎         | 123/251 [00:03<00:03, 37.67it/s]\u001b[A\n",
      "frame loading (JPEG):  51%|█████████▌         | 127/251 [00:03<00:03, 37.80it/s]\u001b[A\n",
      "frame loading (JPEG):  54%|██████████▏        | 135/251 [00:03<00:03, 37.93it/s]\u001b[A\n",
      "frame loading (JPEG):  57%|██████████▊        | 143/251 [00:03<00:02, 38.13it/s]\u001b[A\n",
      "frame loading (JPEG):  59%|███████████▏       | 147/251 [00:03<00:02, 38.12it/s]\u001b[A\n",
      "frame loading (JPEG):  60%|███████████▍       | 151/251 [00:03<00:02, 38.29it/s]\u001b[A\n",
      "frame loading (JPEG):  62%|███████████▋       | 155/251 [00:04<00:02, 38.37it/s]\u001b[A\n",
      "frame loading (JPEG):  63%|████████████       | 159/251 [00:04<00:02, 38.56it/s]\u001b[A\n",
      "propagate in video: 100%|███████████████████████| 21/21 [00:01<00:00, 19.25it/s]\u001b[A\n",
      "frame loading (JPEG):  67%|████████████▋      | 167/251 [00:04<00:02, 38.34it/s]"
     ]
    },
    {
     "name": "stdout",
     "output_type": "stream",
     "text": [
      "video_segments: 21\n",
      "start_frame_idx 60\n"
     ]
    },
    {
     "name": "stderr",
     "output_type": "stream",
     "text": [
      "frame loading (JPEG):  70%|█████████████▏     | 175/251 [00:04<00:01, 38.30it/s]"
     ]
    },
    {
     "name": "stdout",
     "output_type": "stream",
     "text": [
      "objects_count 11\n"
     ]
    },
    {
     "name": "stderr",
     "output_type": "stream",
     "text": [
      "\n",
      "frame loading (JPEG):  71%|█████████████▌     | 179/251 [00:04<00:01, 38.42it/s]\u001b[A\n",
      "frame loading (JPEG):  73%|█████████████▊     | 183/251 [00:04<00:01, 38.11it/s]\u001b[A\n",
      "frame loading (JPEG):  75%|██████████████▏    | 187/251 [00:04<00:01, 38.25it/s]\u001b[A\n",
      "frame loading (JPEG):  78%|██████████████▊    | 195/251 [00:05<00:01, 38.55it/s]\u001b[A\n",
      "frame loading (JPEG):  79%|███████████████    | 199/251 [00:05<00:01, 38.65it/s]\u001b[A\n",
      "frame loading (JPEG):  81%|███████████████▎   | 203/251 [00:05<00:01, 38.60it/s]\u001b[A\n",
      "propagate in video: 100%|███████████████████████| 21/21 [00:00<00:00, 26.28it/s]\u001b[A\n",
      "frame loading (JPEG):  84%|███████████████▉   | 211/251 [00:05<00:01, 38.58it/s]"
     ]
    },
    {
     "name": "stdout",
     "output_type": "stream",
     "text": [
      "video_segments: 21\n",
      "start_frame_idx 80\n"
     ]
    },
    {
     "name": "stderr",
     "output_type": "stream",
     "text": [
      "frame loading (JPEG):  87%|████████████████▌  | 219/251 [00:05<00:00, 38.28it/s]"
     ]
    },
    {
     "name": "stdout",
     "output_type": "stream",
     "text": [
      "objects_count 15\n"
     ]
    },
    {
     "name": "stderr",
     "output_type": "stream",
     "text": [
      "\n",
      "frame loading (JPEG):  89%|████████████████▉  | 223/251 [00:05<00:00, 38.18it/s]\u001b[A\n",
      "frame loading (JPEG):  92%|█████████████████▍ | 231/251 [00:06<00:00, 38.29it/s]\u001b[A\n",
      "frame loading (JPEG):  94%|█████████████████▊ | 235/251 [00:06<00:00, 38.39it/s]\u001b[A\n",
      "frame loading (JPEG):  95%|██████████████████ | 239/251 [00:06<00:00, 38.41it/s]\u001b[A\n",
      "frame loading (JPEG):  98%|██████████████████▋| 247/251 [00:06<00:00, 38.47it/s]\u001b[A\n",
      "frame loading (JPEG): 100%|███████████████████| 251/251 [00:06<00:00, 38.11it/s]\u001b[A\n",
      "\n",
      "propagate in video: 100%|███████████████████████| 21/21 [00:00<00:00, 21.88it/s]\u001b[A\n"
     ]
    },
    {
     "name": "stdout",
     "output_type": "stream",
     "text": [
      "video_segments: 21\n",
      "start_frame_idx 100\n",
      "objects_count 19\n"
     ]
    },
    {
     "name": "stderr",
     "output_type": "stream",
     "text": [
      "propagate in video: 100%|███████████████████████| 21/21 [00:01<00:00, 18.95it/s]\n"
     ]
    },
    {
     "name": "stdout",
     "output_type": "stream",
     "text": [
      "video_segments: 21\n",
      "start_frame_idx 120\n",
      "objects_count 22\n"
     ]
    },
    {
     "name": "stderr",
     "output_type": "stream",
     "text": [
      "propagate in video: 100%|███████████████████████| 21/21 [00:01<00:00, 19.32it/s]\n"
     ]
    },
    {
     "name": "stdout",
     "output_type": "stream",
     "text": [
      "video_segments: 21\n",
      "start_frame_idx 140\n",
      "objects_count 30\n"
     ]
    },
    {
     "name": "stderr",
     "output_type": "stream",
     "text": [
      "propagate in video: 100%|███████████████████████| 21/21 [00:01<00:00, 15.31it/s]\n"
     ]
    },
    {
     "name": "stdout",
     "output_type": "stream",
     "text": [
      "video_segments: 21\n",
      "start_frame_idx 160\n",
      "objects_count 39\n"
     ]
    },
    {
     "name": "stderr",
     "output_type": "stream",
     "text": [
      "propagate in video: 100%|███████████████████████| 21/21 [00:01<00:00, 14.55it/s]\n"
     ]
    },
    {
     "name": "stdout",
     "output_type": "stream",
     "text": [
      "video_segments: 21\n",
      "start_frame_idx 180\n",
      "objects_count 40\n"
     ]
    },
    {
     "name": "stderr",
     "output_type": "stream",
     "text": [
      "propagate in video: 100%|███████████████████████| 21/21 [00:01<00:00, 19.81it/s]\n"
     ]
    },
    {
     "name": "stdout",
     "output_type": "stream",
     "text": [
      "video_segments: 21\n",
      "start_frame_idx 200\n",
      "objects_count 42\n"
     ]
    },
    {
     "name": "stderr",
     "output_type": "stream",
     "text": [
      "propagate in video: 100%|███████████████████████| 21/21 [00:01<00:00, 19.72it/s]\n"
     ]
    },
    {
     "name": "stdout",
     "output_type": "stream",
     "text": [
      "video_segments: 21\n",
      "start_frame_idx 220\n",
      "objects_count 45\n"
     ]
    },
    {
     "name": "stderr",
     "output_type": "stream",
     "text": [
      "propagate in video: 100%|███████████████████████| 21/21 [00:01<00:00, 19.19it/s]\n"
     ]
    },
    {
     "name": "stdout",
     "output_type": "stream",
     "text": [
      "video_segments: 21\n",
      "start_frame_idx 240\n",
      "objects_count 52\n"
     ]
    },
    {
     "name": "stderr",
     "output_type": "stream",
     "text": [
      "propagate in video: 100%|███████████████████████| 11/11 [00:00<00:00, 17.06it/s]\n"
     ]
    },
    {
     "name": "stdout",
     "output_type": "stream",
     "text": [
      "video_segments: 11\n",
      "Path './outputs/result' did not exist and has been created.\n",
      "raw image name list ['00000.jpg', '00001.jpg', '00002.jpg', '00003.jpg', '00004.jpg', '00005.jpg', '00006.jpg', '00007.jpg', '00008.jpg', '00009.jpg', '00010.jpg', '00011.jpg', '00012.jpg', '00013.jpg', '00014.jpg', '00015.jpg', '00016.jpg', '00017.jpg', '00018.jpg', '00019.jpg', '00020.jpg', '00021.jpg', '00022.jpg', '00023.jpg', '00024.jpg', '00025.jpg', '00026.jpg', '00027.jpg', '00028.jpg', '00029.jpg', '00030.jpg', '00031.jpg', '00032.jpg', '00033.jpg', '00034.jpg', '00035.jpg', '00036.jpg', '00037.jpg', '00038.jpg', '00039.jpg', '00040.jpg', '00041.jpg', '00042.jpg', '00043.jpg', '00044.jpg', '00045.jpg', '00046.jpg', '00047.jpg', '00048.jpg', '00049.jpg', '00050.jpg', '00051.jpg', '00052.jpg', '00053.jpg', '00054.jpg', '00055.jpg', '00056.jpg', '00057.jpg', '00058.jpg', '00059.jpg', '00060.jpg', '00061.jpg', '00062.jpg', '00063.jpg', '00064.jpg', '00065.jpg', '00066.jpg', '00067.jpg', '00068.jpg', '00069.jpg', '00070.jpg', '00071.jpg', '00072.jpg', '00073.jpg', '00074.jpg', '00075.jpg', '00076.jpg', '00077.jpg', '00078.jpg', '00079.jpg', '00080.jpg', '00081.jpg', '00082.jpg', '00083.jpg', '00084.jpg', '00085.jpg', '00086.jpg', '00087.jpg', '00088.jpg', '00089.jpg', '00090.jpg', '00091.jpg', '00092.jpg', '00093.jpg', '00094.jpg', '00095.jpg', '00096.jpg', '00097.jpg', '00098.jpg', '00099.jpg', '00100.jpg', '00101.jpg', '00102.jpg', '00103.jpg', '00104.jpg', '00105.jpg', '00106.jpg', '00107.jpg', '00108.jpg', '00109.jpg', '00110.jpg', '00111.jpg', '00112.jpg', '00113.jpg', '00114.jpg', '00115.jpg', '00116.jpg', '00117.jpg', '00118.jpg', '00119.jpg', '00120.jpg', '00121.jpg', '00122.jpg', '00123.jpg', '00124.jpg', '00125.jpg', '00126.jpg', '00127.jpg', '00128.jpg', '00129.jpg', '00130.jpg', '00131.jpg', '00132.jpg', '00133.jpg', '00134.jpg', '00135.jpg', '00136.jpg', '00137.jpg', '00138.jpg', '00139.jpg', '00140.jpg', '00141.jpg', '00142.jpg', '00143.jpg', '00144.jpg', '00145.jpg', '00146.jpg', '00147.jpg', '00148.jpg', '00149.jpg', '00150.jpg', '00151.jpg', '00152.jpg', '00153.jpg', '00154.jpg', '00155.jpg', '00156.jpg', '00157.jpg', '00158.jpg', '00159.jpg', '00160.jpg', '00161.jpg', '00162.jpg', '00163.jpg', '00164.jpg', '00165.jpg', '00166.jpg', '00167.jpg', '00168.jpg', '00169.jpg', '00170.jpg', '00171.jpg', '00172.jpg', '00173.jpg', '00174.jpg', '00175.jpg', '00176.jpg', '00177.jpg', '00178.jpg', '00179.jpg', '00180.jpg', '00181.jpg', '00182.jpg', '00183.jpg', '00184.jpg', '00185.jpg', '00186.jpg', '00187.jpg', '00188.jpg', '00189.jpg', '00190.jpg', '00191.jpg', '00192.jpg', '00193.jpg', '00194.jpg', '00195.jpg', '00196.jpg', '00197.jpg', '00198.jpg', '00199.jpg', '00200.jpg', '00201.jpg', '00202.jpg', '00203.jpg', '00204.jpg', '00205.jpg', '00206.jpg', '00207.jpg', '00208.jpg', '00209.jpg', '00210.jpg', '00211.jpg', '00212.jpg', '00213.jpg', '00214.jpg', '00215.jpg', '00216.jpg', '00217.jpg', '00218.jpg', '00219.jpg', '00220.jpg', '00221.jpg', '00222.jpg', '00223.jpg', '00224.jpg', '00225.jpg', '00226.jpg', '00227.jpg', '00228.jpg', '00229.jpg', '00230.jpg', '00231.jpg', '00232.jpg', '00233.jpg', '00234.jpg', '00235.jpg', '00236.jpg', '00237.jpg', '00238.jpg', '00239.jpg', '00240.jpg', '00241.jpg', '00242.jpg', '00243.jpg', '00244.jpg', '00245.jpg', '00246.jpg', '00247.jpg', '00248.jpg', '00249.jpg', '00250.jpg']\n",
      "Annotated image saved as ./outputs/result/00000.jpg\n",
      "Annotated image saved as ./outputs/result/00001.jpg\n",
      "Annotated image saved as ./outputs/result/00002.jpg\n",
      "Annotated image saved as ./outputs/result/00003.jpg\n",
      "Annotated image saved as ./outputs/result/00004.jpg\n",
      "Annotated image saved as ./outputs/result/00005.jpg\n",
      "Annotated image saved as ./outputs/result/00006.jpg\n",
      "Annotated image saved as ./outputs/result/00007.jpg\n",
      "Annotated image saved as ./outputs/result/00008.jpg\n",
      "Annotated image saved as ./outputs/result/00009.jpg\n",
      "Annotated image saved as ./outputs/result/00010.jpg\n",
      "Annotated image saved as ./outputs/result/00011.jpg\n",
      "Annotated image saved as ./outputs/result/00012.jpg\n",
      "Annotated image saved as ./outputs/result/00013.jpg\n",
      "Annotated image saved as ./outputs/result/00014.jpg\n",
      "Annotated image saved as ./outputs/result/00015.jpg\n",
      "Annotated image saved as ./outputs/result/00016.jpg\n",
      "Annotated image saved as ./outputs/result/00017.jpg\n",
      "Annotated image saved as ./outputs/result/00018.jpg\n",
      "Annotated image saved as ./outputs/result/00019.jpg\n",
      "Annotated image saved as ./outputs/result/00020.jpg\n",
      "Annotated image saved as ./outputs/result/00021.jpg\n",
      "Annotated image saved as ./outputs/result/00022.jpg\n",
      "Annotated image saved as ./outputs/result/00023.jpg\n",
      "Annotated image saved as ./outputs/result/00024.jpg\n",
      "Annotated image saved as ./outputs/result/00025.jpg\n",
      "Annotated image saved as ./outputs/result/00026.jpg\n",
      "Annotated image saved as ./outputs/result/00027.jpg\n",
      "Annotated image saved as ./outputs/result/00028.jpg\n",
      "Annotated image saved as ./outputs/result/00029.jpg\n",
      "Annotated image saved as ./outputs/result/00030.jpg\n",
      "Annotated image saved as ./outputs/result/00031.jpg\n",
      "Annotated image saved as ./outputs/result/00032.jpg\n",
      "Annotated image saved as ./outputs/result/00033.jpg\n",
      "Annotated image saved as ./outputs/result/00034.jpg\n",
      "Annotated image saved as ./outputs/result/00035.jpg\n",
      "Annotated image saved as ./outputs/result/00036.jpg\n",
      "Annotated image saved as ./outputs/result/00037.jpg\n",
      "Annotated image saved as ./outputs/result/00038.jpg\n",
      "Annotated image saved as ./outputs/result/00039.jpg\n",
      "Annotated image saved as ./outputs/result/00040.jpg\n",
      "Annotated image saved as ./outputs/result/00041.jpg\n",
      "Annotated image saved as ./outputs/result/00042.jpg\n",
      "Annotated image saved as ./outputs/result/00043.jpg\n",
      "Annotated image saved as ./outputs/result/00044.jpg\n",
      "Annotated image saved as ./outputs/result/00045.jpg\n",
      "Annotated image saved as ./outputs/result/00046.jpg\n",
      "Annotated image saved as ./outputs/result/00047.jpg\n",
      "Annotated image saved as ./outputs/result/00048.jpg\n",
      "Annotated image saved as ./outputs/result/00049.jpg\n",
      "Annotated image saved as ./outputs/result/00050.jpg\n",
      "Annotated image saved as ./outputs/result/00051.jpg\n",
      "Annotated image saved as ./outputs/result/00052.jpg\n",
      "Annotated image saved as ./outputs/result/00053.jpg\n",
      "Annotated image saved as ./outputs/result/00054.jpg\n",
      "Annotated image saved as ./outputs/result/00055.jpg\n",
      "Annotated image saved as ./outputs/result/00056.jpg\n",
      "Annotated image saved as ./outputs/result/00057.jpg\n",
      "Annotated image saved as ./outputs/result/00058.jpg\n",
      "Annotated image saved as ./outputs/result/00059.jpg\n",
      "Annotated image saved as ./outputs/result/00060.jpg\n",
      "Annotated image saved as ./outputs/result/00061.jpg\n",
      "Annotated image saved as ./outputs/result/00062.jpg\n",
      "Annotated image saved as ./outputs/result/00063.jpg\n",
      "Annotated image saved as ./outputs/result/00064.jpg\n",
      "Annotated image saved as ./outputs/result/00065.jpg\n",
      "Annotated image saved as ./outputs/result/00066.jpg\n",
      "Annotated image saved as ./outputs/result/00067.jpg\n",
      "Annotated image saved as ./outputs/result/00068.jpg\n",
      "Annotated image saved as ./outputs/result/00069.jpg\n",
      "Annotated image saved as ./outputs/result/00070.jpg\n",
      "Annotated image saved as ./outputs/result/00071.jpg\n",
      "Annotated image saved as ./outputs/result/00072.jpg\n",
      "Annotated image saved as ./outputs/result/00073.jpg\n",
      "Annotated image saved as ./outputs/result/00074.jpg\n",
      "Annotated image saved as ./outputs/result/00075.jpg\n",
      "Annotated image saved as ./outputs/result/00076.jpg\n",
      "Annotated image saved as ./outputs/result/00077.jpg\n",
      "Annotated image saved as ./outputs/result/00078.jpg\n",
      "Annotated image saved as ./outputs/result/00079.jpg\n",
      "Annotated image saved as ./outputs/result/00080.jpg\n",
      "Annotated image saved as ./outputs/result/00081.jpg\n",
      "Annotated image saved as ./outputs/result/00082.jpg\n",
      "Annotated image saved as ./outputs/result/00083.jpg\n",
      "Annotated image saved as ./outputs/result/00084.jpg\n",
      "Annotated image saved as ./outputs/result/00085.jpg\n",
      "Annotated image saved as ./outputs/result/00086.jpg\n",
      "Annotated image saved as ./outputs/result/00087.jpg\n",
      "Annotated image saved as ./outputs/result/00088.jpg\n",
      "Annotated image saved as ./outputs/result/00089.jpg\n",
      "Annotated image saved as ./outputs/result/00090.jpg\n",
      "Annotated image saved as ./outputs/result/00091.jpg\n",
      "Annotated image saved as ./outputs/result/00092.jpg\n",
      "Annotated image saved as ./outputs/result/00093.jpg\n",
      "Annotated image saved as ./outputs/result/00094.jpg\n",
      "Annotated image saved as ./outputs/result/00095.jpg\n",
      "Annotated image saved as ./outputs/result/00096.jpg\n",
      "Annotated image saved as ./outputs/result/00097.jpg\n",
      "Annotated image saved as ./outputs/result/00098.jpg\n",
      "Annotated image saved as ./outputs/result/00099.jpg\n",
      "Annotated image saved as ./outputs/result/00100.jpg\n",
      "Annotated image saved as ./outputs/result/00101.jpg\n",
      "Annotated image saved as ./outputs/result/00102.jpg\n",
      "Annotated image saved as ./outputs/result/00103.jpg\n",
      "Annotated image saved as ./outputs/result/00104.jpg\n",
      "Annotated image saved as ./outputs/result/00105.jpg\n",
      "Annotated image saved as ./outputs/result/00106.jpg\n",
      "Annotated image saved as ./outputs/result/00107.jpg\n",
      "Annotated image saved as ./outputs/result/00108.jpg\n",
      "Annotated image saved as ./outputs/result/00109.jpg\n",
      "Annotated image saved as ./outputs/result/00110.jpg\n",
      "Annotated image saved as ./outputs/result/00111.jpg\n",
      "Annotated image saved as ./outputs/result/00112.jpg\n",
      "Annotated image saved as ./outputs/result/00113.jpg\n",
      "Annotated image saved as ./outputs/result/00114.jpg\n",
      "Annotated image saved as ./outputs/result/00115.jpg\n",
      "Annotated image saved as ./outputs/result/00116.jpg\n",
      "Annotated image saved as ./outputs/result/00117.jpg\n",
      "Annotated image saved as ./outputs/result/00118.jpg\n",
      "Annotated image saved as ./outputs/result/00119.jpg\n",
      "Annotated image saved as ./outputs/result/00120.jpg\n",
      "Annotated image saved as ./outputs/result/00121.jpg\n",
      "Annotated image saved as ./outputs/result/00122.jpg\n",
      "Annotated image saved as ./outputs/result/00123.jpg\n",
      "Annotated image saved as ./outputs/result/00124.jpg\n",
      "Annotated image saved as ./outputs/result/00125.jpg\n",
      "Annotated image saved as ./outputs/result/00126.jpg\n",
      "Annotated image saved as ./outputs/result/00127.jpg\n",
      "Annotated image saved as ./outputs/result/00128.jpg\n",
      "Annotated image saved as ./outputs/result/00129.jpg\n",
      "Annotated image saved as ./outputs/result/00130.jpg\n",
      "Annotated image saved as ./outputs/result/00131.jpg\n",
      "Annotated image saved as ./outputs/result/00132.jpg\n",
      "Annotated image saved as ./outputs/result/00133.jpg\n",
      "Annotated image saved as ./outputs/result/00134.jpg\n",
      "Annotated image saved as ./outputs/result/00135.jpg\n",
      "Annotated image saved as ./outputs/result/00136.jpg\n",
      "Annotated image saved as ./outputs/result/00137.jpg\n",
      "Annotated image saved as ./outputs/result/00138.jpg\n",
      "Annotated image saved as ./outputs/result/00139.jpg\n",
      "Annotated image saved as ./outputs/result/00140.jpg\n",
      "Annotated image saved as ./outputs/result/00141.jpg\n",
      "Annotated image saved as ./outputs/result/00142.jpg\n",
      "Annotated image saved as ./outputs/result/00143.jpg\n",
      "Annotated image saved as ./outputs/result/00144.jpg\n",
      "Annotated image saved as ./outputs/result/00145.jpg\n",
      "Annotated image saved as ./outputs/result/00146.jpg\n",
      "Annotated image saved as ./outputs/result/00147.jpg\n",
      "Annotated image saved as ./outputs/result/00148.jpg\n",
      "Annotated image saved as ./outputs/result/00149.jpg\n",
      "Annotated image saved as ./outputs/result/00150.jpg\n",
      "Annotated image saved as ./outputs/result/00151.jpg\n",
      "Annotated image saved as ./outputs/result/00152.jpg\n",
      "Annotated image saved as ./outputs/result/00153.jpg\n",
      "Annotated image saved as ./outputs/result/00154.jpg\n",
      "Annotated image saved as ./outputs/result/00155.jpg\n",
      "Annotated image saved as ./outputs/result/00156.jpg\n",
      "Annotated image saved as ./outputs/result/00157.jpg\n",
      "Annotated image saved as ./outputs/result/00158.jpg\n",
      "Annotated image saved as ./outputs/result/00159.jpg\n",
      "Annotated image saved as ./outputs/result/00160.jpg\n",
      "Annotated image saved as ./outputs/result/00161.jpg\n",
      "Annotated image saved as ./outputs/result/00162.jpg\n",
      "Annotated image saved as ./outputs/result/00163.jpg\n",
      "Annotated image saved as ./outputs/result/00164.jpg\n",
      "Annotated image saved as ./outputs/result/00165.jpg\n",
      "Annotated image saved as ./outputs/result/00166.jpg\n",
      "Annotated image saved as ./outputs/result/00167.jpg\n",
      "Annotated image saved as ./outputs/result/00168.jpg\n",
      "Annotated image saved as ./outputs/result/00169.jpg\n",
      "Annotated image saved as ./outputs/result/00170.jpg\n",
      "Annotated image saved as ./outputs/result/00171.jpg\n",
      "Annotated image saved as ./outputs/result/00172.jpg\n",
      "Annotated image saved as ./outputs/result/00173.jpg\n",
      "Annotated image saved as ./outputs/result/00174.jpg\n",
      "Annotated image saved as ./outputs/result/00175.jpg\n",
      "Annotated image saved as ./outputs/result/00176.jpg\n",
      "Annotated image saved as ./outputs/result/00177.jpg\n",
      "Annotated image saved as ./outputs/result/00178.jpg\n",
      "Annotated image saved as ./outputs/result/00179.jpg\n",
      "Annotated image saved as ./outputs/result/00180.jpg\n",
      "Annotated image saved as ./outputs/result/00181.jpg\n",
      "Annotated image saved as ./outputs/result/00182.jpg\n",
      "Annotated image saved as ./outputs/result/00183.jpg\n",
      "Annotated image saved as ./outputs/result/00184.jpg\n",
      "Annotated image saved as ./outputs/result/00185.jpg\n",
      "Annotated image saved as ./outputs/result/00186.jpg\n",
      "Annotated image saved as ./outputs/result/00187.jpg\n",
      "Annotated image saved as ./outputs/result/00188.jpg\n",
      "Annotated image saved as ./outputs/result/00189.jpg\n",
      "Annotated image saved as ./outputs/result/00190.jpg\n",
      "Annotated image saved as ./outputs/result/00191.jpg\n",
      "Annotated image saved as ./outputs/result/00192.jpg\n",
      "Annotated image saved as ./outputs/result/00193.jpg\n",
      "Annotated image saved as ./outputs/result/00194.jpg\n",
      "Annotated image saved as ./outputs/result/00195.jpg\n",
      "Annotated image saved as ./outputs/result/00196.jpg\n",
      "Annotated image saved as ./outputs/result/00197.jpg\n",
      "Annotated image saved as ./outputs/result/00198.jpg\n",
      "Annotated image saved as ./outputs/result/00199.jpg\n",
      "Annotated image saved as ./outputs/result/00200.jpg\n",
      "Annotated image saved as ./outputs/result/00201.jpg\n",
      "Annotated image saved as ./outputs/result/00202.jpg\n",
      "Annotated image saved as ./outputs/result/00203.jpg\n",
      "Annotated image saved as ./outputs/result/00204.jpg\n",
      "Annotated image saved as ./outputs/result/00205.jpg\n",
      "Annotated image saved as ./outputs/result/00206.jpg\n",
      "Annotated image saved as ./outputs/result/00207.jpg\n",
      "Annotated image saved as ./outputs/result/00208.jpg\n",
      "Annotated image saved as ./outputs/result/00209.jpg\n",
      "Annotated image saved as ./outputs/result/00210.jpg\n",
      "Annotated image saved as ./outputs/result/00211.jpg\n",
      "Annotated image saved as ./outputs/result/00212.jpg\n",
      "Annotated image saved as ./outputs/result/00213.jpg\n",
      "Annotated image saved as ./outputs/result/00214.jpg\n",
      "Annotated image saved as ./outputs/result/00215.jpg\n",
      "Annotated image saved as ./outputs/result/00216.jpg\n",
      "Annotated image saved as ./outputs/result/00217.jpg\n",
      "Annotated image saved as ./outputs/result/00218.jpg\n",
      "Annotated image saved as ./outputs/result/00219.jpg\n",
      "Annotated image saved as ./outputs/result/00220.jpg\n",
      "Annotated image saved as ./outputs/result/00221.jpg\n",
      "Annotated image saved as ./outputs/result/00222.jpg\n",
      "Annotated image saved as ./outputs/result/00223.jpg\n",
      "Annotated image saved as ./outputs/result/00224.jpg\n",
      "Annotated image saved as ./outputs/result/00225.jpg\n",
      "Annotated image saved as ./outputs/result/00226.jpg\n",
      "Annotated image saved as ./outputs/result/00227.jpg\n",
      "Annotated image saved as ./outputs/result/00228.jpg\n",
      "Annotated image saved as ./outputs/result/00229.jpg\n",
      "Annotated image saved as ./outputs/result/00230.jpg\n",
      "Annotated image saved as ./outputs/result/00231.jpg\n",
      "Annotated image saved as ./outputs/result/00232.jpg\n",
      "Annotated image saved as ./outputs/result/00233.jpg\n",
      "Annotated image saved as ./outputs/result/00234.jpg\n",
      "Annotated image saved as ./outputs/result/00235.jpg\n",
      "Annotated image saved as ./outputs/result/00236.jpg\n",
      "Annotated image saved as ./outputs/result/00237.jpg\n",
      "Annotated image saved as ./outputs/result/00238.jpg\n",
      "Annotated image saved as ./outputs/result/00239.jpg\n",
      "Annotated image saved as ./outputs/result/00240.jpg\n",
      "Annotated image saved as ./outputs/result/00241.jpg\n",
      "Annotated image saved as ./outputs/result/00242.jpg\n",
      "Annotated image saved as ./outputs/result/00243.jpg\n",
      "Annotated image saved as ./outputs/result/00244.jpg\n",
      "Annotated image saved as ./outputs/result/00245.jpg\n",
      "Annotated image saved as ./outputs/result/00246.jpg\n",
      "Annotated image saved as ./outputs/result/00247.jpg\n",
      "Annotated image saved as ./outputs/result/00248.jpg\n",
      "Annotated image saved as ./outputs/result/00249.jpg\n",
      "Annotated image saved as ./outputs/result/00250.jpg\n",
      "['00000.jpg', '00001.jpg', '00002.jpg', '00003.jpg', '00004.jpg', '00005.jpg', '00006.jpg', '00007.jpg', '00008.jpg', '00009.jpg', '00010.jpg', '00011.jpg', '00012.jpg', '00013.jpg', '00014.jpg', '00015.jpg', '00016.jpg', '00017.jpg', '00018.jpg', '00019.jpg', '00020.jpg', '00021.jpg', '00022.jpg', '00023.jpg', '00024.jpg', '00025.jpg', '00026.jpg', '00027.jpg', '00028.jpg', '00029.jpg', '00030.jpg', '00031.jpg', '00032.jpg', '00033.jpg', '00034.jpg', '00035.jpg', '00036.jpg', '00037.jpg', '00038.jpg', '00039.jpg', '00040.jpg', '00041.jpg', '00042.jpg', '00043.jpg', '00044.jpg', '00045.jpg', '00046.jpg', '00047.jpg', '00048.jpg', '00049.jpg', '00050.jpg', '00051.jpg', '00052.jpg', '00053.jpg', '00054.jpg', '00055.jpg', '00056.jpg', '00057.jpg', '00058.jpg', '00059.jpg', '00060.jpg', '00061.jpg', '00062.jpg', '00063.jpg', '00064.jpg', '00065.jpg', '00066.jpg', '00067.jpg', '00068.jpg', '00069.jpg', '00070.jpg', '00071.jpg', '00072.jpg', '00073.jpg', '00074.jpg', '00075.jpg', '00076.jpg', '00077.jpg', '00078.jpg', '00079.jpg', '00080.jpg', '00081.jpg', '00082.jpg', '00083.jpg', '00084.jpg', '00085.jpg', '00086.jpg', '00087.jpg', '00088.jpg', '00089.jpg', '00090.jpg', '00091.jpg', '00092.jpg', '00093.jpg', '00094.jpg', '00095.jpg', '00096.jpg', '00097.jpg', '00098.jpg', '00099.jpg', '00100.jpg', '00101.jpg', '00102.jpg', '00103.jpg', '00104.jpg', '00105.jpg', '00106.jpg', '00107.jpg', '00108.jpg', '00109.jpg', '00110.jpg', '00111.jpg', '00112.jpg', '00113.jpg', '00114.jpg', '00115.jpg', '00116.jpg', '00117.jpg', '00118.jpg', '00119.jpg', '00120.jpg', '00121.jpg', '00122.jpg', '00123.jpg', '00124.jpg', '00125.jpg', '00126.jpg', '00127.jpg', '00128.jpg', '00129.jpg', '00130.jpg', '00131.jpg', '00132.jpg', '00133.jpg', '00134.jpg', '00135.jpg', '00136.jpg', '00137.jpg', '00138.jpg', '00139.jpg', '00140.jpg', '00141.jpg', '00142.jpg', '00143.jpg', '00144.jpg', '00145.jpg', '00146.jpg', '00147.jpg', '00148.jpg', '00149.jpg', '00150.jpg', '00151.jpg', '00152.jpg', '00153.jpg', '00154.jpg', '00155.jpg', '00156.jpg', '00157.jpg', '00158.jpg', '00159.jpg', '00160.jpg', '00161.jpg', '00162.jpg', '00163.jpg', '00164.jpg', '00165.jpg', '00166.jpg', '00167.jpg', '00168.jpg', '00169.jpg', '00170.jpg', '00171.jpg', '00172.jpg', '00173.jpg', '00174.jpg', '00175.jpg', '00176.jpg', '00177.jpg', '00178.jpg', '00179.jpg', '00180.jpg', '00181.jpg', '00182.jpg', '00183.jpg', '00184.jpg', '00185.jpg', '00186.jpg', '00187.jpg', '00188.jpg', '00189.jpg', '00190.jpg', '00191.jpg', '00192.jpg', '00193.jpg', '00194.jpg', '00195.jpg', '00196.jpg', '00197.jpg', '00198.jpg', '00199.jpg', '00200.jpg', '00201.jpg', '00202.jpg', '00203.jpg', '00204.jpg', '00205.jpg', '00206.jpg', '00207.jpg', '00208.jpg', '00209.jpg', '00210.jpg', '00211.jpg', '00212.jpg', '00213.jpg', '00214.jpg', '00215.jpg', '00216.jpg', '00217.jpg', '00218.jpg', '00219.jpg', '00220.jpg', '00221.jpg', '00222.jpg', '00223.jpg', '00224.jpg', '00225.jpg', '00226.jpg', '00227.jpg', '00228.jpg', '00229.jpg', '00230.jpg', '00231.jpg', '00232.jpg', '00233.jpg', '00234.jpg', '00235.jpg', '00236.jpg', '00237.jpg', '00238.jpg', '00239.jpg', '00240.jpg', '00241.jpg', '00242.jpg', '00243.jpg', '00244.jpg', '00245.jpg', '00246.jpg', '00247.jpg', '00248.jpg', '00249.jpg', '00250.jpg']\n"
     ]
    },
    {
     "name": "stderr",
     "output_type": "stream",
     "text": [
      "100%|█████████████████████████████████████████| 251/251 [00:02<00:00, 96.93it/s]\n"
     ]
    },
    {
     "name": "stdout",
     "output_type": "stream",
     "text": [
      "Video saved at ./outputs/output_vids/Yca14HAvris-clip_00000079-2.mp4\n",
      "doing 677951670-clip_00000010-0\n",
      "Path './outputs' already exists.\n",
      "Path './outputs/mask_data' did not exist and has been created.\n",
      "Path './outputs/json_data' did not exist and has been created.\n"
     ]
    },
    {
     "name": "stderr",
     "output_type": "stream",
     "text": [
      "frame loading (JPEG):   1%|▎                    | 4/300 [00:00<00:07, 38.25it/s]"
     ]
    },
    {
     "name": "stdout",
     "output_type": "stream",
     "text": [
      "Total frames: 300\n",
      "start_frame_idx 0\n"
     ]
    },
    {
     "name": "stderr",
     "output_type": "stream",
     "text": [
      "frame loading (JPEG):   3%|▌                    | 8/300 [00:00<00:08, 33.48it/s]"
     ]
    },
    {
     "name": "stdout",
     "output_type": "stream",
     "text": [
      "objects_count 1\n"
     ]
    },
    {
     "name": "stderr",
     "output_type": "stream",
     "text": [
      "\n",
      "frame loading (JPEG):   4%|▊                   | 12/300 [00:00<00:09, 31.56it/s]\u001b[A\n",
      "frame loading (JPEG):   5%|█                   | 16/300 [00:00<00:09, 31.11it/s]\u001b[A\n",
      "frame loading (JPEG):   7%|█▎                  | 20/300 [00:00<00:08, 31.13it/s]\u001b[A\n",
      "frame loading (JPEG):   8%|█▌                  | 24/300 [00:00<00:08, 30.86it/s]\u001b[A\n",
      "frame loading (JPEG):   9%|█▊                  | 28/300 [00:00<00:08, 30.93it/s]\u001b[A\n",
      "propagate in video:  81%|██████████████████▌    | 17/21 [00:00<00:00, 26.12it/s]\u001b[A\n",
      "propagate in video: 100%|███████████████████████| 21/21 [00:00<00:00, 26.69it/s]\u001b[A\n",
      "frame loading (JPEG):  12%|██▍                 | 36/300 [00:01<00:08, 30.44it/s]"
     ]
    },
    {
     "name": "stdout",
     "output_type": "stream",
     "text": [
      "video_segments: 21\n"
     ]
    },
    {
     "name": "stderr",
     "output_type": "stream",
     "text": [
      "frame loading (JPEG):  17%|███▎                | 50/300 [00:01<00:08, 29.08it/s]"
     ]
    },
    {
     "name": "stdout",
     "output_type": "stream",
     "text": [
      "start_frame_idx 20\n",
      "objects_count 5\n"
     ]
    },
    {
     "name": "stderr",
     "output_type": "stream",
     "text": [
      "\n",
      "frame loading (JPEG):  18%|███▌                | 53/300 [00:01<00:08, 28.76it/s]\u001b[A\n",
      "frame loading (JPEG):  20%|███▉                | 59/300 [00:01<00:08, 29.14it/s]\u001b[A\n",
      "frame loading (JPEG):  22%|████▎               | 65/300 [00:02<00:07, 29.53it/s]\u001b[A\n",
      "frame loading (JPEG):  23%|████▌               | 69/300 [00:02<00:07, 29.80it/s]\u001b[A\n",
      "frame loading (JPEG):  24%|████▊               | 73/300 [00:02<00:07, 29.92it/s]\u001b[A\n",
      "frame loading (JPEG):  25%|█████               | 76/300 [00:02<00:07, 29.86it/s]\u001b[A\n",
      "propagate in video: 100%|███████████████████████| 21/21 [00:00<00:00, 22.69it/s]\u001b[A\n",
      "frame loading (JPEG):  28%|█████▋              | 85/300 [00:02<00:07, 29.31it/s]"
     ]
    },
    {
     "name": "stdout",
     "output_type": "stream",
     "text": [
      "video_segments: 21\n"
     ]
    },
    {
     "name": "stderr",
     "output_type": "stream",
     "text": [
      "frame loading (JPEG):  31%|██████▎             | 94/300 [00:03<00:06, 29.49it/s]"
     ]
    },
    {
     "name": "stdout",
     "output_type": "stream",
     "text": [
      "start_frame_idx 40\n"
     ]
    },
    {
     "name": "stderr",
     "output_type": "stream",
     "text": [
      "frame loading (JPEG):  32%|██████▍             | 97/300 [00:03<00:06, 29.30it/s]"
     ]
    },
    {
     "name": "stdout",
     "output_type": "stream",
     "text": [
      "objects_count 11\n"
     ]
    },
    {
     "name": "stderr",
     "output_type": "stream",
     "text": [
      "\n",
      "frame loading (JPEG):  33%|██████▎            | 100/300 [00:03<00:06, 29.19it/s]\u001b[A\n",
      "frame loading (JPEG):  35%|██████▌            | 104/300 [00:03<00:06, 29.52it/s]\u001b[A\n",
      "frame loading (JPEG):  37%|███████            | 112/300 [00:03<00:06, 29.96it/s]\u001b[A\n",
      "frame loading (JPEG):  39%|███████▎           | 116/300 [00:03<00:06, 30.13it/s]\u001b[A\n",
      "frame loading (JPEG):  40%|███████▌           | 120/300 [00:03<00:05, 30.19it/s]\u001b[A\n",
      "propagate in video:  67%|███████████████▎       | 14/21 [00:00<00:00, 17.82it/s]\u001b[A\n",
      "frame loading (JPEG):  41%|███████▊           | 124/300 [00:04<00:05, 29.37it/s]\u001b[A\n",
      "frame loading (JPEG):  43%|████████           | 128/300 [00:04<00:05, 29.72it/s]\u001b[A\n",
      "propagate in video: 100%|███████████████████████| 21/21 [00:01<00:00, 18.22it/s]\u001b[A\n",
      "frame loading (JPEG):  45%|████████▌          | 136/300 [00:04<00:05, 30.00it/s]"
     ]
    },
    {
     "name": "stdout",
     "output_type": "stream",
     "text": [
      "video_segments: 21\n"
     ]
    },
    {
     "name": "stderr",
     "output_type": "stream",
     "text": [
      "frame loading (JPEG):  52%|█████████▉         | 156/300 [00:05<00:04, 29.96it/s]"
     ]
    },
    {
     "name": "stdout",
     "output_type": "stream",
     "text": [
      "start_frame_idx 60\n",
      "objects_count 11\n"
     ]
    },
    {
     "name": "stderr",
     "output_type": "stream",
     "text": [
      "\n",
      "frame loading (JPEG):  53%|██████████▏        | 160/300 [00:05<00:04, 30.10it/s]\u001b[A\n",
      "frame loading (JPEG):  55%|██████████▍        | 164/300 [00:05<00:04, 29.15it/s]\u001b[A\n",
      "frame loading (JPEG):  57%|██████████▊        | 170/300 [00:05<00:04, 28.32it/s]\u001b[A\n",
      "frame loading (JPEG):  58%|██████████▉        | 173/300 [00:05<00:04, 28.08it/s]\u001b[A\n",
      "frame loading (JPEG):  59%|███████████▏       | 176/300 [00:05<00:04, 27.94it/s]\u001b[A\n",
      "frame loading (JPEG):  60%|███████████▎       | 179/300 [00:06<00:04, 27.89it/s]\u001b[A\n",
      "propagate in video: 100%|███████████████████████| 21/21 [00:00<00:00, 23.61it/s]\u001b[A\n",
      "frame loading (JPEG):  63%|███████████▉       | 188/300 [00:06<00:04, 27.58it/s]"
     ]
    },
    {
     "name": "stdout",
     "output_type": "stream",
     "text": [
      "video_segments: 21\n"
     ]
    },
    {
     "name": "stderr",
     "output_type": "stream",
     "text": [
      "frame loading (JPEG):  66%|████████████▍      | 197/300 [00:06<00:03, 27.60it/s]"
     ]
    },
    {
     "name": "stdout",
     "output_type": "stream",
     "text": [
      "start_frame_idx 80\n"
     ]
    },
    {
     "name": "stderr",
     "output_type": "stream",
     "text": [
      "frame loading (JPEG):  67%|████████████▋      | 200/300 [00:06<00:03, 27.43it/s]"
     ]
    },
    {
     "name": "stdout",
     "output_type": "stream",
     "text": [
      "objects_count 12\n"
     ]
    },
    {
     "name": "stderr",
     "output_type": "stream",
     "text": [
      "\n",
      "frame loading (JPEG):  68%|████████████▊      | 203/300 [00:06<00:03, 27.63it/s]\u001b[A\n",
      "frame loading (JPEG):  69%|█████████████      | 206/300 [00:07<00:03, 27.50it/s]\u001b[A\n",
      "frame loading (JPEG):  70%|█████████████▏     | 209/300 [00:07<00:03, 27.08it/s]\u001b[A\n",
      "frame loading (JPEG):  72%|█████████████▌     | 215/300 [00:07<00:03, 27.06it/s]\u001b[A\n",
      "frame loading (JPEG):  73%|█████████████▊     | 218/300 [00:07<00:03, 26.99it/s]\u001b[A\n",
      "frame loading (JPEG):  74%|█████████████▉     | 221/300 [00:07<00:02, 27.01it/s]\u001b[A\n",
      "propagate in video: 100%|███████████████████████| 21/21 [00:00<00:00, 25.30it/s]\u001b[A\n",
      "frame loading (JPEG):  76%|██████████████▍    | 227/300 [00:07<00:02, 27.14it/s]"
     ]
    },
    {
     "name": "stdout",
     "output_type": "stream",
     "text": [
      "video_segments: 21\n"
     ]
    },
    {
     "name": "stderr",
     "output_type": "stream",
     "text": [
      "frame loading (JPEG):  79%|██████████████▉    | 236/300 [00:08<00:02, 27.15it/s]"
     ]
    },
    {
     "name": "stdout",
     "output_type": "stream",
     "text": [
      "start_frame_idx 100\n"
     ]
    },
    {
     "name": "stderr",
     "output_type": "stream",
     "text": [
      "frame loading (JPEG):  80%|███████████████▏   | 239/300 [00:08<00:02, 27.36it/s]"
     ]
    },
    {
     "name": "stdout",
     "output_type": "stream",
     "text": [
      "objects_count 18\n"
     ]
    },
    {
     "name": "stderr",
     "output_type": "stream",
     "text": [
      "\n",
      "frame loading (JPEG):  81%|███████████████▎   | 242/300 [00:08<00:02, 27.30it/s]\u001b[A\n",
      "frame loading (JPEG):  82%|███████████████▌   | 245/300 [00:08<00:02, 27.40it/s]\u001b[A\n",
      "frame loading (JPEG):  84%|███████████████▉   | 251/300 [00:08<00:01, 27.23it/s]\u001b[A\n",
      "frame loading (JPEG):  85%|████████████████   | 254/300 [00:08<00:01, 27.11it/s]\u001b[A\n",
      "frame loading (JPEG):  86%|████████████████▎  | 257/300 [00:08<00:01, 27.18it/s]\u001b[A\n",
      "frame loading (JPEG):  87%|████████████████▍  | 260/300 [00:08<00:01, 27.29it/s]\u001b[A\n",
      "frame loading (JPEG):  88%|████████████████▋  | 263/300 [00:09<00:01, 27.02it/s]\u001b[A\n",
      "frame loading (JPEG):  89%|████████████████▊  | 266/300 [00:09<00:01, 27.03it/s]\u001b[A\n",
      "propagate in video: 100%|███████████████████████| 21/21 [00:01<00:00, 18.63it/s]\u001b[A\n",
      "frame loading (JPEG):  92%|█████████████████▍ | 275/300 [00:09<00:00, 27.00it/s]"
     ]
    },
    {
     "name": "stdout",
     "output_type": "stream",
     "text": [
      "video_segments: 21\n"
     ]
    },
    {
     "name": "stderr",
     "output_type": "stream",
     "text": [
      "frame loading (JPEG):  97%|██████████████████▎| 290/300 [00:10<00:00, 27.04it/s]"
     ]
    },
    {
     "name": "stdout",
     "output_type": "stream",
     "text": [
      "start_frame_idx 120\n"
     ]
    },
    {
     "name": "stderr",
     "output_type": "stream",
     "text": [
      "frame loading (JPEG):  98%|██████████████████▌| 293/300 [00:10<00:00, 26.64it/s]"
     ]
    },
    {
     "name": "stdout",
     "output_type": "stream",
     "text": [
      "objects_count 20\n"
     ]
    },
    {
     "name": "stderr",
     "output_type": "stream",
     "text": [
      "\n",
      "frame loading (JPEG):  99%|██████████████████▋| 296/300 [00:10<00:00, 26.73it/s]\u001b[A\n",
      "frame loading (JPEG): 100%|███████████████████| 300/300 [00:10<00:00, 28.62it/s]\u001b[A\n",
      "\n",
      "propagate in video:  33%|████████                | 7/21 [00:00<00:00, 22.95it/s]\u001b[A\n",
      "propagate in video:  48%|██████████▉            | 10/21 [00:00<00:00, 20.94it/s]\u001b[A\n",
      "propagate in video:  62%|██████████████▏        | 13/21 [00:00<00:00, 20.11it/s]\u001b[A\n",
      "propagate in video:  76%|█████████████████▌     | 16/21 [00:00<00:00, 19.63it/s]\u001b[A\n",
      "propagate in video:  86%|███████████████████▋   | 18/21 [00:00<00:00, 19.44it/s]\u001b[A\n",
      "propagate in video: 100%|███████████████████████| 21/21 [00:01<00:00, 20.23it/s]\u001b[A\n"
     ]
    },
    {
     "name": "stdout",
     "output_type": "stream",
     "text": [
      "video_segments: 21\n",
      "start_frame_idx 140\n",
      "objects_count 20\n"
     ]
    },
    {
     "name": "stderr",
     "output_type": "stream",
     "text": [
      "propagate in video: 100%|███████████████████████| 21/21 [00:00<00:00, 25.45it/s]\n"
     ]
    },
    {
     "name": "stdout",
     "output_type": "stream",
     "text": [
      "video_segments: 21\n",
      "start_frame_idx 160\n",
      "objects_count 26\n"
     ]
    },
    {
     "name": "stderr",
     "output_type": "stream",
     "text": [
      "propagate in video: 100%|███████████████████████| 21/21 [00:01<00:00, 18.36it/s]\n"
     ]
    },
    {
     "name": "stdout",
     "output_type": "stream",
     "text": [
      "video_segments: 21\n",
      "start_frame_idx 180\n",
      "objects_count 33\n"
     ]
    },
    {
     "name": "stderr",
     "output_type": "stream",
     "text": [
      "propagate in video: 100%|███████████████████████| 21/21 [00:01<00:00, 18.53it/s]\n"
     ]
    },
    {
     "name": "stdout",
     "output_type": "stream",
     "text": [
      "video_segments: 21\n",
      "start_frame_idx 200\n",
      "objects_count 34\n"
     ]
    },
    {
     "name": "stderr",
     "output_type": "stream",
     "text": [
      "propagate in video: 100%|███████████████████████| 21/21 [00:00<00:00, 23.65it/s]\n"
     ]
    },
    {
     "name": "stdout",
     "output_type": "stream",
     "text": [
      "video_segments: 21\n",
      "start_frame_idx 220\n",
      "objects_count 37\n"
     ]
    },
    {
     "name": "stderr",
     "output_type": "stream",
     "text": [
      "propagate in video: 100%|███████████████████████| 21/21 [00:01<00:00, 19.80it/s]\n"
     ]
    },
    {
     "name": "stdout",
     "output_type": "stream",
     "text": [
      "video_segments: 21\n",
      "start_frame_idx 240\n",
      "objects_count 37\n"
     ]
    },
    {
     "name": "stderr",
     "output_type": "stream",
     "text": [
      "propagate in video: 100%|███████████████████████| 21/21 [00:00<00:00, 25.57it/s]\n"
     ]
    },
    {
     "name": "stdout",
     "output_type": "stream",
     "text": [
      "video_segments: 21\n",
      "start_frame_idx 260\n",
      "objects_count 39\n"
     ]
    },
    {
     "name": "stderr",
     "output_type": "stream",
     "text": [
      "propagate in video: 100%|███████████████████████| 21/21 [00:01<00:00, 20.36it/s]\n"
     ]
    },
    {
     "name": "stdout",
     "output_type": "stream",
     "text": [
      "video_segments: 21\n",
      "start_frame_idx 280\n",
      "objects_count 41\n"
     ]
    },
    {
     "name": "stderr",
     "output_type": "stream",
     "text": [
      "propagate in video: 100%|███████████████████████| 20/20 [00:00<00:00, 23.72it/s]\n"
     ]
    },
    {
     "name": "stdout",
     "output_type": "stream",
     "text": [
      "video_segments: 20\n",
      "Path './outputs/result' did not exist and has been created.\n",
      "raw image name list ['00000.jpg', '00001.jpg', '00002.jpg', '00003.jpg', '00004.jpg', '00005.jpg', '00006.jpg', '00007.jpg', '00008.jpg', '00009.jpg', '00010.jpg', '00011.jpg', '00012.jpg', '00013.jpg', '00014.jpg', '00015.jpg', '00016.jpg', '00017.jpg', '00018.jpg', '00019.jpg', '00020.jpg', '00021.jpg', '00022.jpg', '00023.jpg', '00024.jpg', '00025.jpg', '00026.jpg', '00027.jpg', '00028.jpg', '00029.jpg', '00030.jpg', '00031.jpg', '00032.jpg', '00033.jpg', '00034.jpg', '00035.jpg', '00036.jpg', '00037.jpg', '00038.jpg', '00039.jpg', '00040.jpg', '00041.jpg', '00042.jpg', '00043.jpg', '00044.jpg', '00045.jpg', '00046.jpg', '00047.jpg', '00048.jpg', '00049.jpg', '00050.jpg', '00051.jpg', '00052.jpg', '00053.jpg', '00054.jpg', '00055.jpg', '00056.jpg', '00057.jpg', '00058.jpg', '00059.jpg', '00060.jpg', '00061.jpg', '00062.jpg', '00063.jpg', '00064.jpg', '00065.jpg', '00066.jpg', '00067.jpg', '00068.jpg', '00069.jpg', '00070.jpg', '00071.jpg', '00072.jpg', '00073.jpg', '00074.jpg', '00075.jpg', '00076.jpg', '00077.jpg', '00078.jpg', '00079.jpg', '00080.jpg', '00081.jpg', '00082.jpg', '00083.jpg', '00084.jpg', '00085.jpg', '00086.jpg', '00087.jpg', '00088.jpg', '00089.jpg', '00090.jpg', '00091.jpg', '00092.jpg', '00093.jpg', '00094.jpg', '00095.jpg', '00096.jpg', '00097.jpg', '00098.jpg', '00099.jpg', '00100.jpg', '00101.jpg', '00102.jpg', '00103.jpg', '00104.jpg', '00105.jpg', '00106.jpg', '00107.jpg', '00108.jpg', '00109.jpg', '00110.jpg', '00111.jpg', '00112.jpg', '00113.jpg', '00114.jpg', '00115.jpg', '00116.jpg', '00117.jpg', '00118.jpg', '00119.jpg', '00120.jpg', '00121.jpg', '00122.jpg', '00123.jpg', '00124.jpg', '00125.jpg', '00126.jpg', '00127.jpg', '00128.jpg', '00129.jpg', '00130.jpg', '00131.jpg', '00132.jpg', '00133.jpg', '00134.jpg', '00135.jpg', '00136.jpg', '00137.jpg', '00138.jpg', '00139.jpg', '00140.jpg', '00141.jpg', '00142.jpg', '00143.jpg', '00144.jpg', '00145.jpg', '00146.jpg', '00147.jpg', '00148.jpg', '00149.jpg', '00150.jpg', '00151.jpg', '00152.jpg', '00153.jpg', '00154.jpg', '00155.jpg', '00156.jpg', '00157.jpg', '00158.jpg', '00159.jpg', '00160.jpg', '00161.jpg', '00162.jpg', '00163.jpg', '00164.jpg', '00165.jpg', '00166.jpg', '00167.jpg', '00168.jpg', '00169.jpg', '00170.jpg', '00171.jpg', '00172.jpg', '00173.jpg', '00174.jpg', '00175.jpg', '00176.jpg', '00177.jpg', '00178.jpg', '00179.jpg', '00180.jpg', '00181.jpg', '00182.jpg', '00183.jpg', '00184.jpg', '00185.jpg', '00186.jpg', '00187.jpg', '00188.jpg', '00189.jpg', '00190.jpg', '00191.jpg', '00192.jpg', '00193.jpg', '00194.jpg', '00195.jpg', '00196.jpg', '00197.jpg', '00198.jpg', '00199.jpg', '00200.jpg', '00201.jpg', '00202.jpg', '00203.jpg', '00204.jpg', '00205.jpg', '00206.jpg', '00207.jpg', '00208.jpg', '00209.jpg', '00210.jpg', '00211.jpg', '00212.jpg', '00213.jpg', '00214.jpg', '00215.jpg', '00216.jpg', '00217.jpg', '00218.jpg', '00219.jpg', '00220.jpg', '00221.jpg', '00222.jpg', '00223.jpg', '00224.jpg', '00225.jpg', '00226.jpg', '00227.jpg', '00228.jpg', '00229.jpg', '00230.jpg', '00231.jpg', '00232.jpg', '00233.jpg', '00234.jpg', '00235.jpg', '00236.jpg', '00237.jpg', '00238.jpg', '00239.jpg', '00240.jpg', '00241.jpg', '00242.jpg', '00243.jpg', '00244.jpg', '00245.jpg', '00246.jpg', '00247.jpg', '00248.jpg', '00249.jpg', '00250.jpg', '00251.jpg', '00252.jpg', '00253.jpg', '00254.jpg', '00255.jpg', '00256.jpg', '00257.jpg', '00258.jpg', '00259.jpg', '00260.jpg', '00261.jpg', '00262.jpg', '00263.jpg', '00264.jpg', '00265.jpg', '00266.jpg', '00267.jpg', '00268.jpg', '00269.jpg', '00270.jpg', '00271.jpg', '00272.jpg', '00273.jpg', '00274.jpg', '00275.jpg', '00276.jpg', '00277.jpg', '00278.jpg', '00279.jpg', '00280.jpg', '00281.jpg', '00282.jpg', '00283.jpg', '00284.jpg', '00285.jpg', '00286.jpg', '00287.jpg', '00288.jpg', '00289.jpg', '00290.jpg', '00291.jpg', '00292.jpg', '00293.jpg', '00294.jpg', '00295.jpg', '00296.jpg', '00297.jpg', '00298.jpg', '00299.jpg']\n",
      "Annotated image saved as ./outputs/result/00000.jpg\n",
      "Annotated image saved as ./outputs/result/00001.jpg\n",
      "Annotated image saved as ./outputs/result/00002.jpg\n",
      "Annotated image saved as ./outputs/result/00003.jpg\n",
      "Annotated image saved as ./outputs/result/00004.jpg\n",
      "Annotated image saved as ./outputs/result/00005.jpg\n",
      "Annotated image saved as ./outputs/result/00006.jpg\n",
      "Annotated image saved as ./outputs/result/00007.jpg\n",
      "Annotated image saved as ./outputs/result/00008.jpg\n",
      "Annotated image saved as ./outputs/result/00009.jpg\n",
      "Annotated image saved as ./outputs/result/00010.jpg\n",
      "Annotated image saved as ./outputs/result/00011.jpg\n",
      "Annotated image saved as ./outputs/result/00012.jpg\n",
      "Annotated image saved as ./outputs/result/00013.jpg\n",
      "Annotated image saved as ./outputs/result/00014.jpg\n",
      "Annotated image saved as ./outputs/result/00015.jpg\n",
      "Annotated image saved as ./outputs/result/00016.jpg\n",
      "Annotated image saved as ./outputs/result/00017.jpg\n",
      "Annotated image saved as ./outputs/result/00018.jpg\n",
      "Annotated image saved as ./outputs/result/00019.jpg\n",
      "Annotated image saved as ./outputs/result/00020.jpg\n",
      "Annotated image saved as ./outputs/result/00021.jpg\n",
      "Annotated image saved as ./outputs/result/00022.jpg\n",
      "Annotated image saved as ./outputs/result/00023.jpg\n",
      "Annotated image saved as ./outputs/result/00024.jpg\n",
      "Annotated image saved as ./outputs/result/00025.jpg\n",
      "Annotated image saved as ./outputs/result/00026.jpg\n",
      "Annotated image saved as ./outputs/result/00027.jpg\n",
      "Annotated image saved as ./outputs/result/00028.jpg\n",
      "Annotated image saved as ./outputs/result/00029.jpg\n",
      "Annotated image saved as ./outputs/result/00030.jpg\n",
      "Annotated image saved as ./outputs/result/00031.jpg\n",
      "Annotated image saved as ./outputs/result/00032.jpg\n",
      "Annotated image saved as ./outputs/result/00033.jpg\n",
      "Annotated image saved as ./outputs/result/00034.jpg\n",
      "Annotated image saved as ./outputs/result/00035.jpg\n",
      "Annotated image saved as ./outputs/result/00036.jpg\n",
      "Annotated image saved as ./outputs/result/00037.jpg\n",
      "Annotated image saved as ./outputs/result/00038.jpg\n",
      "Annotated image saved as ./outputs/result/00039.jpg\n",
      "Annotated image saved as ./outputs/result/00040.jpg\n",
      "Annotated image saved as ./outputs/result/00041.jpg\n",
      "Annotated image saved as ./outputs/result/00042.jpg\n",
      "Annotated image saved as ./outputs/result/00043.jpg\n",
      "Annotated image saved as ./outputs/result/00044.jpg\n",
      "Annotated image saved as ./outputs/result/00045.jpg\n",
      "Annotated image saved as ./outputs/result/00046.jpg\n",
      "Annotated image saved as ./outputs/result/00047.jpg\n",
      "Annotated image saved as ./outputs/result/00048.jpg\n",
      "Annotated image saved as ./outputs/result/00049.jpg\n",
      "Annotated image saved as ./outputs/result/00050.jpg\n",
      "Annotated image saved as ./outputs/result/00051.jpg\n",
      "Annotated image saved as ./outputs/result/00052.jpg\n",
      "Annotated image saved as ./outputs/result/00053.jpg\n",
      "Annotated image saved as ./outputs/result/00054.jpg\n",
      "Annotated image saved as ./outputs/result/00055.jpg\n",
      "Annotated image saved as ./outputs/result/00056.jpg\n",
      "Annotated image saved as ./outputs/result/00057.jpg\n",
      "Annotated image saved as ./outputs/result/00058.jpg\n",
      "Annotated image saved as ./outputs/result/00059.jpg\n",
      "Annotated image saved as ./outputs/result/00060.jpg\n",
      "Annotated image saved as ./outputs/result/00061.jpg\n",
      "Annotated image saved as ./outputs/result/00062.jpg\n",
      "Annotated image saved as ./outputs/result/00063.jpg\n",
      "Annotated image saved as ./outputs/result/00064.jpg\n",
      "Annotated image saved as ./outputs/result/00065.jpg\n",
      "Annotated image saved as ./outputs/result/00066.jpg\n",
      "Annotated image saved as ./outputs/result/00067.jpg\n",
      "Annotated image saved as ./outputs/result/00068.jpg\n",
      "Annotated image saved as ./outputs/result/00069.jpg\n",
      "Annotated image saved as ./outputs/result/00070.jpg\n",
      "Annotated image saved as ./outputs/result/00071.jpg\n",
      "Annotated image saved as ./outputs/result/00072.jpg\n",
      "Annotated image saved as ./outputs/result/00073.jpg\n",
      "Annotated image saved as ./outputs/result/00074.jpg\n",
      "Annotated image saved as ./outputs/result/00075.jpg\n",
      "Annotated image saved as ./outputs/result/00076.jpg\n",
      "Annotated image saved as ./outputs/result/00077.jpg\n",
      "Annotated image saved as ./outputs/result/00078.jpg\n",
      "Annotated image saved as ./outputs/result/00079.jpg\n",
      "Annotated image saved as ./outputs/result/00080.jpg\n",
      "Annotated image saved as ./outputs/result/00081.jpg\n",
      "Annotated image saved as ./outputs/result/00082.jpg\n",
      "Annotated image saved as ./outputs/result/00083.jpg\n",
      "Annotated image saved as ./outputs/result/00084.jpg\n",
      "Annotated image saved as ./outputs/result/00085.jpg\n",
      "Annotated image saved as ./outputs/result/00086.jpg\n",
      "Annotated image saved as ./outputs/result/00087.jpg\n",
      "Annotated image saved as ./outputs/result/00088.jpg\n",
      "Annotated image saved as ./outputs/result/00089.jpg\n",
      "Annotated image saved as ./outputs/result/00090.jpg\n",
      "Annotated image saved as ./outputs/result/00091.jpg\n",
      "Annotated image saved as ./outputs/result/00092.jpg\n",
      "Annotated image saved as ./outputs/result/00093.jpg\n",
      "Annotated image saved as ./outputs/result/00094.jpg\n",
      "Annotated image saved as ./outputs/result/00095.jpg\n",
      "Annotated image saved as ./outputs/result/00096.jpg\n",
      "Annotated image saved as ./outputs/result/00097.jpg\n",
      "Annotated image saved as ./outputs/result/00098.jpg\n",
      "Annotated image saved as ./outputs/result/00099.jpg\n",
      "Annotated image saved as ./outputs/result/00100.jpg\n",
      "Annotated image saved as ./outputs/result/00101.jpg\n",
      "Annotated image saved as ./outputs/result/00102.jpg\n",
      "Annotated image saved as ./outputs/result/00103.jpg\n",
      "Annotated image saved as ./outputs/result/00104.jpg\n",
      "Annotated image saved as ./outputs/result/00105.jpg\n",
      "Annotated image saved as ./outputs/result/00106.jpg\n",
      "Annotated image saved as ./outputs/result/00107.jpg\n",
      "Annotated image saved as ./outputs/result/00108.jpg\n",
      "Annotated image saved as ./outputs/result/00109.jpg\n",
      "Annotated image saved as ./outputs/result/00110.jpg\n",
      "Annotated image saved as ./outputs/result/00111.jpg\n",
      "Annotated image saved as ./outputs/result/00112.jpg\n",
      "Annotated image saved as ./outputs/result/00113.jpg\n",
      "Annotated image saved as ./outputs/result/00114.jpg\n",
      "Annotated image saved as ./outputs/result/00115.jpg\n",
      "Annotated image saved as ./outputs/result/00116.jpg\n",
      "Annotated image saved as ./outputs/result/00117.jpg\n",
      "Annotated image saved as ./outputs/result/00118.jpg\n",
      "Annotated image saved as ./outputs/result/00119.jpg\n",
      "Annotated image saved as ./outputs/result/00120.jpg\n",
      "Annotated image saved as ./outputs/result/00121.jpg\n",
      "Annotated image saved as ./outputs/result/00122.jpg\n",
      "Annotated image saved as ./outputs/result/00123.jpg\n",
      "Annotated image saved as ./outputs/result/00124.jpg\n",
      "Annotated image saved as ./outputs/result/00125.jpg\n",
      "Annotated image saved as ./outputs/result/00126.jpg\n",
      "Annotated image saved as ./outputs/result/00127.jpg\n",
      "Annotated image saved as ./outputs/result/00128.jpg\n",
      "Annotated image saved as ./outputs/result/00129.jpg\n",
      "Annotated image saved as ./outputs/result/00130.jpg\n",
      "Annotated image saved as ./outputs/result/00131.jpg\n",
      "Annotated image saved as ./outputs/result/00132.jpg\n",
      "Annotated image saved as ./outputs/result/00133.jpg\n",
      "Annotated image saved as ./outputs/result/00134.jpg\n",
      "Annotated image saved as ./outputs/result/00135.jpg\n",
      "Annotated image saved as ./outputs/result/00136.jpg\n",
      "Annotated image saved as ./outputs/result/00137.jpg\n",
      "Annotated image saved as ./outputs/result/00138.jpg\n",
      "Annotated image saved as ./outputs/result/00139.jpg\n",
      "Annotated image saved as ./outputs/result/00140.jpg\n",
      "Annotated image saved as ./outputs/result/00141.jpg\n",
      "Annotated image saved as ./outputs/result/00142.jpg\n",
      "Annotated image saved as ./outputs/result/00143.jpg\n",
      "Annotated image saved as ./outputs/result/00144.jpg\n",
      "Annotated image saved as ./outputs/result/00145.jpg\n",
      "Annotated image saved as ./outputs/result/00146.jpg\n",
      "Annotated image saved as ./outputs/result/00147.jpg\n",
      "Annotated image saved as ./outputs/result/00148.jpg\n",
      "Annotated image saved as ./outputs/result/00149.jpg\n",
      "Annotated image saved as ./outputs/result/00150.jpg\n",
      "Annotated image saved as ./outputs/result/00151.jpg\n",
      "Annotated image saved as ./outputs/result/00152.jpg\n",
      "Annotated image saved as ./outputs/result/00153.jpg\n",
      "Annotated image saved as ./outputs/result/00154.jpg\n",
      "Annotated image saved as ./outputs/result/00155.jpg\n",
      "Annotated image saved as ./outputs/result/00156.jpg\n",
      "Annotated image saved as ./outputs/result/00157.jpg\n",
      "Annotated image saved as ./outputs/result/00158.jpg\n",
      "Annotated image saved as ./outputs/result/00159.jpg\n",
      "Annotated image saved as ./outputs/result/00160.jpg\n",
      "Annotated image saved as ./outputs/result/00161.jpg\n",
      "Annotated image saved as ./outputs/result/00162.jpg\n",
      "Annotated image saved as ./outputs/result/00163.jpg\n",
      "Annotated image saved as ./outputs/result/00164.jpg\n",
      "Annotated image saved as ./outputs/result/00165.jpg\n",
      "Annotated image saved as ./outputs/result/00166.jpg\n",
      "Annotated image saved as ./outputs/result/00167.jpg\n",
      "Annotated image saved as ./outputs/result/00168.jpg\n",
      "Annotated image saved as ./outputs/result/00169.jpg\n",
      "Annotated image saved as ./outputs/result/00170.jpg\n",
      "Annotated image saved as ./outputs/result/00171.jpg\n",
      "Annotated image saved as ./outputs/result/00172.jpg\n",
      "Annotated image saved as ./outputs/result/00173.jpg\n",
      "Annotated image saved as ./outputs/result/00174.jpg\n",
      "Annotated image saved as ./outputs/result/00175.jpg\n",
      "Annotated image saved as ./outputs/result/00176.jpg\n",
      "Annotated image saved as ./outputs/result/00177.jpg\n",
      "Annotated image saved as ./outputs/result/00178.jpg\n",
      "Annotated image saved as ./outputs/result/00179.jpg\n",
      "Annotated image saved as ./outputs/result/00180.jpg\n",
      "Annotated image saved as ./outputs/result/00181.jpg\n",
      "Annotated image saved as ./outputs/result/00182.jpg\n",
      "Annotated image saved as ./outputs/result/00183.jpg\n",
      "Annotated image saved as ./outputs/result/00184.jpg\n",
      "Annotated image saved as ./outputs/result/00185.jpg\n",
      "Annotated image saved as ./outputs/result/00186.jpg\n",
      "Annotated image saved as ./outputs/result/00187.jpg\n",
      "Annotated image saved as ./outputs/result/00188.jpg\n",
      "Annotated image saved as ./outputs/result/00189.jpg\n",
      "Annotated image saved as ./outputs/result/00190.jpg\n",
      "Annotated image saved as ./outputs/result/00191.jpg\n",
      "Annotated image saved as ./outputs/result/00192.jpg\n",
      "Annotated image saved as ./outputs/result/00193.jpg\n",
      "Annotated image saved as ./outputs/result/00194.jpg\n",
      "Annotated image saved as ./outputs/result/00195.jpg\n",
      "Annotated image saved as ./outputs/result/00196.jpg\n",
      "Annotated image saved as ./outputs/result/00197.jpg\n",
      "Annotated image saved as ./outputs/result/00198.jpg\n",
      "Annotated image saved as ./outputs/result/00199.jpg\n",
      "Annotated image saved as ./outputs/result/00200.jpg\n",
      "Annotated image saved as ./outputs/result/00201.jpg\n",
      "Annotated image saved as ./outputs/result/00202.jpg\n",
      "Annotated image saved as ./outputs/result/00203.jpg\n",
      "Annotated image saved as ./outputs/result/00204.jpg\n",
      "Annotated image saved as ./outputs/result/00205.jpg\n",
      "Annotated image saved as ./outputs/result/00206.jpg\n",
      "Annotated image saved as ./outputs/result/00207.jpg\n",
      "Annotated image saved as ./outputs/result/00208.jpg\n",
      "Annotated image saved as ./outputs/result/00209.jpg\n",
      "Annotated image saved as ./outputs/result/00210.jpg\n",
      "Annotated image saved as ./outputs/result/00211.jpg\n",
      "Annotated image saved as ./outputs/result/00212.jpg\n",
      "Annotated image saved as ./outputs/result/00213.jpg\n",
      "Annotated image saved as ./outputs/result/00214.jpg\n",
      "Annotated image saved as ./outputs/result/00215.jpg\n",
      "Annotated image saved as ./outputs/result/00216.jpg\n",
      "Annotated image saved as ./outputs/result/00217.jpg\n",
      "Annotated image saved as ./outputs/result/00218.jpg\n",
      "Annotated image saved as ./outputs/result/00219.jpg\n",
      "Annotated image saved as ./outputs/result/00220.jpg\n",
      "Annotated image saved as ./outputs/result/00221.jpg\n",
      "Annotated image saved as ./outputs/result/00222.jpg\n",
      "Annotated image saved as ./outputs/result/00223.jpg\n",
      "Annotated image saved as ./outputs/result/00224.jpg\n",
      "Annotated image saved as ./outputs/result/00225.jpg\n",
      "Annotated image saved as ./outputs/result/00226.jpg\n",
      "Annotated image saved as ./outputs/result/00227.jpg\n",
      "Annotated image saved as ./outputs/result/00228.jpg\n",
      "Annotated image saved as ./outputs/result/00229.jpg\n",
      "Annotated image saved as ./outputs/result/00230.jpg\n",
      "Annotated image saved as ./outputs/result/00231.jpg\n",
      "Annotated image saved as ./outputs/result/00232.jpg\n",
      "Annotated image saved as ./outputs/result/00233.jpg\n",
      "Annotated image saved as ./outputs/result/00234.jpg\n",
      "Annotated image saved as ./outputs/result/00235.jpg\n",
      "Annotated image saved as ./outputs/result/00236.jpg\n",
      "Annotated image saved as ./outputs/result/00237.jpg\n",
      "Annotated image saved as ./outputs/result/00238.jpg\n",
      "Annotated image saved as ./outputs/result/00239.jpg\n",
      "Annotated image saved as ./outputs/result/00240.jpg\n",
      "Annotated image saved as ./outputs/result/00241.jpg\n",
      "Annotated image saved as ./outputs/result/00242.jpg\n",
      "Annotated image saved as ./outputs/result/00243.jpg\n",
      "Annotated image saved as ./outputs/result/00244.jpg\n",
      "Annotated image saved as ./outputs/result/00245.jpg\n",
      "Annotated image saved as ./outputs/result/00246.jpg\n",
      "Annotated image saved as ./outputs/result/00247.jpg\n",
      "Annotated image saved as ./outputs/result/00248.jpg\n",
      "Annotated image saved as ./outputs/result/00249.jpg\n",
      "Annotated image saved as ./outputs/result/00250.jpg\n",
      "Annotated image saved as ./outputs/result/00251.jpg\n",
      "Annotated image saved as ./outputs/result/00252.jpg\n",
      "Annotated image saved as ./outputs/result/00253.jpg\n",
      "Annotated image saved as ./outputs/result/00254.jpg\n",
      "Annotated image saved as ./outputs/result/00255.jpg\n",
      "Annotated image saved as ./outputs/result/00256.jpg\n",
      "Annotated image saved as ./outputs/result/00257.jpg\n",
      "Annotated image saved as ./outputs/result/00258.jpg\n",
      "Annotated image saved as ./outputs/result/00259.jpg\n",
      "Annotated image saved as ./outputs/result/00260.jpg\n",
      "Annotated image saved as ./outputs/result/00261.jpg\n",
      "Annotated image saved as ./outputs/result/00262.jpg\n",
      "Annotated image saved as ./outputs/result/00263.jpg\n",
      "Annotated image saved as ./outputs/result/00264.jpg\n",
      "Annotated image saved as ./outputs/result/00265.jpg\n",
      "Annotated image saved as ./outputs/result/00266.jpg\n",
      "Annotated image saved as ./outputs/result/00267.jpg\n",
      "Annotated image saved as ./outputs/result/00268.jpg\n",
      "Annotated image saved as ./outputs/result/00269.jpg\n",
      "Annotated image saved as ./outputs/result/00270.jpg\n",
      "Annotated image saved as ./outputs/result/00271.jpg\n",
      "Annotated image saved as ./outputs/result/00272.jpg\n",
      "Annotated image saved as ./outputs/result/00273.jpg\n",
      "Annotated image saved as ./outputs/result/00274.jpg\n",
      "Annotated image saved as ./outputs/result/00275.jpg\n",
      "Annotated image saved as ./outputs/result/00276.jpg\n",
      "Annotated image saved as ./outputs/result/00277.jpg\n",
      "Annotated image saved as ./outputs/result/00278.jpg\n",
      "Annotated image saved as ./outputs/result/00279.jpg\n",
      "Annotated image saved as ./outputs/result/00280.jpg\n",
      "Annotated image saved as ./outputs/result/00281.jpg\n",
      "Annotated image saved as ./outputs/result/00282.jpg\n",
      "Annotated image saved as ./outputs/result/00283.jpg\n",
      "Annotated image saved as ./outputs/result/00284.jpg\n",
      "Annotated image saved as ./outputs/result/00285.jpg\n",
      "Annotated image saved as ./outputs/result/00286.jpg\n",
      "Annotated image saved as ./outputs/result/00287.jpg\n",
      "Annotated image saved as ./outputs/result/00288.jpg\n",
      "Annotated image saved as ./outputs/result/00289.jpg\n",
      "Annotated image saved as ./outputs/result/00290.jpg\n",
      "Annotated image saved as ./outputs/result/00291.jpg\n",
      "Annotated image saved as ./outputs/result/00292.jpg\n",
      "Annotated image saved as ./outputs/result/00293.jpg\n",
      "Annotated image saved as ./outputs/result/00294.jpg\n",
      "Annotated image saved as ./outputs/result/00295.jpg\n",
      "Annotated image saved as ./outputs/result/00296.jpg\n",
      "Annotated image saved as ./outputs/result/00297.jpg\n",
      "Annotated image saved as ./outputs/result/00298.jpg\n",
      "Annotated image saved as ./outputs/result/00299.jpg\n",
      "['00000.jpg', '00001.jpg', '00002.jpg', '00003.jpg', '00004.jpg', '00005.jpg', '00006.jpg', '00007.jpg', '00008.jpg', '00009.jpg', '00010.jpg', '00011.jpg', '00012.jpg', '00013.jpg', '00014.jpg', '00015.jpg', '00016.jpg', '00017.jpg', '00018.jpg', '00019.jpg', '00020.jpg', '00021.jpg', '00022.jpg', '00023.jpg', '00024.jpg', '00025.jpg', '00026.jpg', '00027.jpg', '00028.jpg', '00029.jpg', '00030.jpg', '00031.jpg', '00032.jpg', '00033.jpg', '00034.jpg', '00035.jpg', '00036.jpg', '00037.jpg', '00038.jpg', '00039.jpg', '00040.jpg', '00041.jpg', '00042.jpg', '00043.jpg', '00044.jpg', '00045.jpg', '00046.jpg', '00047.jpg', '00048.jpg', '00049.jpg', '00050.jpg', '00051.jpg', '00052.jpg', '00053.jpg', '00054.jpg', '00055.jpg', '00056.jpg', '00057.jpg', '00058.jpg', '00059.jpg', '00060.jpg', '00061.jpg', '00062.jpg', '00063.jpg', '00064.jpg', '00065.jpg', '00066.jpg', '00067.jpg', '00068.jpg', '00069.jpg', '00070.jpg', '00071.jpg', '00072.jpg', '00073.jpg', '00074.jpg', '00075.jpg', '00076.jpg', '00077.jpg', '00078.jpg', '00079.jpg', '00080.jpg', '00081.jpg', '00082.jpg', '00083.jpg', '00084.jpg', '00085.jpg', '00086.jpg', '00087.jpg', '00088.jpg', '00089.jpg', '00090.jpg', '00091.jpg', '00092.jpg', '00093.jpg', '00094.jpg', '00095.jpg', '00096.jpg', '00097.jpg', '00098.jpg', '00099.jpg', '00100.jpg', '00101.jpg', '00102.jpg', '00103.jpg', '00104.jpg', '00105.jpg', '00106.jpg', '00107.jpg', '00108.jpg', '00109.jpg', '00110.jpg', '00111.jpg', '00112.jpg', '00113.jpg', '00114.jpg', '00115.jpg', '00116.jpg', '00117.jpg', '00118.jpg', '00119.jpg', '00120.jpg', '00121.jpg', '00122.jpg', '00123.jpg', '00124.jpg', '00125.jpg', '00126.jpg', '00127.jpg', '00128.jpg', '00129.jpg', '00130.jpg', '00131.jpg', '00132.jpg', '00133.jpg', '00134.jpg', '00135.jpg', '00136.jpg', '00137.jpg', '00138.jpg', '00139.jpg', '00140.jpg', '00141.jpg', '00142.jpg', '00143.jpg', '00144.jpg', '00145.jpg', '00146.jpg', '00147.jpg', '00148.jpg', '00149.jpg', '00150.jpg', '00151.jpg', '00152.jpg', '00153.jpg', '00154.jpg', '00155.jpg', '00156.jpg', '00157.jpg', '00158.jpg', '00159.jpg', '00160.jpg', '00161.jpg', '00162.jpg', '00163.jpg', '00164.jpg', '00165.jpg', '00166.jpg', '00167.jpg', '00168.jpg', '00169.jpg', '00170.jpg', '00171.jpg', '00172.jpg', '00173.jpg', '00174.jpg', '00175.jpg', '00176.jpg', '00177.jpg', '00178.jpg', '00179.jpg', '00180.jpg', '00181.jpg', '00182.jpg', '00183.jpg', '00184.jpg', '00185.jpg', '00186.jpg', '00187.jpg', '00188.jpg', '00189.jpg', '00190.jpg', '00191.jpg', '00192.jpg', '00193.jpg', '00194.jpg', '00195.jpg', '00196.jpg', '00197.jpg', '00198.jpg', '00199.jpg', '00200.jpg', '00201.jpg', '00202.jpg', '00203.jpg', '00204.jpg', '00205.jpg', '00206.jpg', '00207.jpg', '00208.jpg', '00209.jpg', '00210.jpg', '00211.jpg', '00212.jpg', '00213.jpg', '00214.jpg', '00215.jpg', '00216.jpg', '00217.jpg', '00218.jpg', '00219.jpg', '00220.jpg', '00221.jpg', '00222.jpg', '00223.jpg', '00224.jpg', '00225.jpg', '00226.jpg', '00227.jpg', '00228.jpg', '00229.jpg', '00230.jpg', '00231.jpg', '00232.jpg', '00233.jpg', '00234.jpg', '00235.jpg', '00236.jpg', '00237.jpg', '00238.jpg', '00239.jpg', '00240.jpg', '00241.jpg', '00242.jpg', '00243.jpg', '00244.jpg', '00245.jpg', '00246.jpg', '00247.jpg', '00248.jpg', '00249.jpg', '00250.jpg', '00251.jpg', '00252.jpg', '00253.jpg', '00254.jpg', '00255.jpg', '00256.jpg', '00257.jpg', '00258.jpg', '00259.jpg', '00260.jpg', '00261.jpg', '00262.jpg', '00263.jpg', '00264.jpg', '00265.jpg', '00266.jpg', '00267.jpg', '00268.jpg', '00269.jpg', '00270.jpg', '00271.jpg', '00272.jpg', '00273.jpg', '00274.jpg', '00275.jpg', '00276.jpg', '00277.jpg', '00278.jpg', '00279.jpg', '00280.jpg', '00281.jpg', '00282.jpg', '00283.jpg', '00284.jpg', '00285.jpg', '00286.jpg', '00287.jpg', '00288.jpg', '00289.jpg', '00290.jpg', '00291.jpg', '00292.jpg', '00293.jpg', '00294.jpg', '00295.jpg', '00296.jpg', '00297.jpg', '00298.jpg', '00299.jpg']\n"
     ]
    },
    {
     "name": "stderr",
     "output_type": "stream",
     "text": [
      "100%|█████████████████████████████████████████| 300/300 [00:04<00:00, 66.61it/s]\n"
     ]
    },
    {
     "name": "stdout",
     "output_type": "stream",
     "text": [
      "Video saved at ./outputs/output_vids/677951670-clip_00000010-0.mp4\n",
      "doing e5957a13-8fdd-4696-b8a5-11df9bdbb98d-part1-clip_00000039-0\n",
      "Path './outputs' already exists.\n",
      "Path './outputs/mask_data' did not exist and has been created.\n",
      "Path './outputs/json_data' did not exist and has been created.\n"
     ]
    },
    {
     "name": "stderr",
     "output_type": "stream",
     "text": [
      "frame loading (JPEG):   4%|▋                    | 5/142 [00:00<00:03, 41.90it/s]"
     ]
    },
    {
     "name": "stdout",
     "output_type": "stream",
     "text": [
      "Total frames: 142\n",
      "start_frame_idx 0\n"
     ]
    },
    {
     "name": "stderr",
     "output_type": "stream",
     "text": [
      "frame loading (JPEG):   7%|█▍                  | 10/142 [00:00<00:03, 39.16it/s]"
     ]
    },
    {
     "name": "stdout",
     "output_type": "stream",
     "text": [
      "objects_count 8\n"
     ]
    },
    {
     "name": "stderr",
     "output_type": "stream",
     "text": [
      "\n",
      "frame loading (JPEG):  10%|█▉                  | 14/142 [00:00<00:03, 38.35it/s]\u001b[A\n",
      "frame loading (JPEG):  15%|███                 | 22/142 [00:00<00:03, 37.77it/s]\u001b[A\n",
      "frame loading (JPEG):  21%|████▏               | 30/142 [00:00<00:02, 37.58it/s]\u001b[A\n",
      "frame loading (JPEG):  24%|████▊               | 34/142 [00:00<00:02, 37.84it/s]\u001b[A\n",
      "frame loading (JPEG):  27%|█████▎              | 38/142 [00:01<00:02, 37.15it/s]\u001b[A\n",
      "frame loading (JPEG):  30%|█████▉              | 42/142 [00:01<00:02, 37.25it/s]\u001b[A\n",
      "frame loading (JPEG):  32%|██████▍             | 46/142 [00:01<00:02, 37.36it/s]\u001b[A\n",
      "frame loading (JPEG):  38%|███████▌            | 54/142 [00:01<00:02, 37.51it/s]\u001b[A\n",
      "frame loading (JPEG):  41%|████████▏           | 58/142 [00:01<00:02, 37.50it/s]\u001b[A\n",
      "propagate in video: 100%|███████████████████████| 21/21 [00:01<00:00, 16.99it/s]\u001b[A\n",
      "frame loading (JPEG):  46%|█████████▎          | 66/142 [00:01<00:02, 37.33it/s]"
     ]
    },
    {
     "name": "stdout",
     "output_type": "stream",
     "text": [
      "video_segments: 21\n"
     ]
    },
    {
     "name": "stderr",
     "output_type": "stream",
     "text": [
      "frame loading (JPEG):  58%|███████████▌        | 82/142 [00:02<00:01, 37.60it/s]"
     ]
    },
    {
     "name": "stdout",
     "output_type": "stream",
     "text": [
      "start_frame_idx 20\n"
     ]
    },
    {
     "name": "stderr",
     "output_type": "stream",
     "text": [
      "frame loading (JPEG):  61%|████████████        | 86/142 [00:02<00:01, 37.63it/s]"
     ]
    },
    {
     "name": "stdout",
     "output_type": "stream",
     "text": [
      "objects_count 11\n"
     ]
    },
    {
     "name": "stderr",
     "output_type": "stream",
     "text": [
      "\n",
      "frame loading (JPEG):  63%|████████████▋       | 90/142 [00:02<00:01, 37.79it/s]\u001b[A\n",
      "frame loading (JPEG):  69%|█████████████▊      | 98/142 [00:02<00:01, 38.10it/s]\u001b[A\n",
      "frame loading (JPEG):  72%|█████████████▋     | 102/142 [00:02<00:01, 38.22it/s]\u001b[A\n",
      "frame loading (JPEG):  75%|██████████████▏    | 106/142 [00:02<00:00, 38.38it/s]\u001b[A\n",
      "frame loading (JPEG):  80%|███████████████▎   | 114/142 [00:03<00:00, 38.55it/s]\u001b[A\n",
      "frame loading (JPEG):  83%|███████████████▊   | 118/142 [00:03<00:00, 38.35it/s]\u001b[A\n",
      "frame loading (JPEG):  86%|████████████████▎  | 122/142 [00:03<00:00, 38.55it/s]\u001b[A\n",
      "frame loading (JPEG):  89%|████████████████▊  | 126/142 [00:03<00:00, 38.57it/s]\u001b[A\n",
      "propagate in video: 100%|███████████████████████| 21/21 [00:01<00:00, 17.93it/s]\u001b[A\n",
      "frame loading (JPEG):  97%|██████████████████▍| 138/142 [00:03<00:00, 38.84it/s]"
     ]
    },
    {
     "name": "stdout",
     "output_type": "stream",
     "text": [
      "video_segments: 21\n"
     ]
    },
    {
     "name": "stderr",
     "output_type": "stream",
     "text": [
      "frame loading (JPEG): 100%|███████████████████| 142/142 [00:03<00:00, 38.03it/s]\n"
     ]
    },
    {
     "name": "stdout",
     "output_type": "stream",
     "text": [
      "start_frame_idx 40\n",
      "objects_count 14\n"
     ]
    },
    {
     "name": "stderr",
     "output_type": "stream",
     "text": [
      "propagate in video: 100%|███████████████████████| 21/21 [00:01<00:00, 16.49it/s]\n"
     ]
    },
    {
     "name": "stdout",
     "output_type": "stream",
     "text": [
      "video_segments: 21\n",
      "start_frame_idx 60\n",
      "objects_count 14\n"
     ]
    },
    {
     "name": "stderr",
     "output_type": "stream",
     "text": [
      "propagate in video: 100%|███████████████████████| 21/21 [00:00<00:00, 23.71it/s]\n"
     ]
    },
    {
     "name": "stdout",
     "output_type": "stream",
     "text": [
      "video_segments: 21\n",
      "start_frame_idx 80\n",
      "objects_count 14\n"
     ]
    },
    {
     "name": "stderr",
     "output_type": "stream",
     "text": [
      "propagate in video: 100%|███████████████████████| 21/21 [00:00<00:00, 24.19it/s]\n"
     ]
    },
    {
     "name": "stdout",
     "output_type": "stream",
     "text": [
      "video_segments: 21\n",
      "start_frame_idx 100\n",
      "objects_count 14\n"
     ]
    },
    {
     "name": "stderr",
     "output_type": "stream",
     "text": [
      "propagate in video: 100%|███████████████████████| 21/21 [00:00<00:00, 24.10it/s]\n"
     ]
    },
    {
     "name": "stdout",
     "output_type": "stream",
     "text": [
      "video_segments: 21\n",
      "start_frame_idx 120\n",
      "objects_count 14\n"
     ]
    },
    {
     "name": "stderr",
     "output_type": "stream",
     "text": [
      "propagate in video: 100%|███████████████████████| 21/21 [00:00<00:00, 26.71it/s]\n"
     ]
    },
    {
     "name": "stdout",
     "output_type": "stream",
     "text": [
      "video_segments: 21\n",
      "start_frame_idx 140\n",
      "objects_count 15\n"
     ]
    },
    {
     "name": "stderr",
     "output_type": "stream",
     "text": [
      "propagate in video: 100%|█████████████████████████| 2/2 [00:00<00:00, 48.99it/s]"
     ]
    },
    {
     "name": "stdout",
     "output_type": "stream",
     "text": [
      "video_segments: 2\n",
      "Path './outputs/result' did not exist and has been created.\n",
      "raw image name list ['00000.jpg', '00001.jpg', '00002.jpg', '00003.jpg', '00004.jpg', '00005.jpg', '00006.jpg', '00007.jpg', '00008.jpg', '00009.jpg', '00010.jpg', '00011.jpg', '00012.jpg', '00013.jpg', '00014.jpg', '00015.jpg', '00016.jpg', '00017.jpg', '00018.jpg', '00019.jpg', '00020.jpg', '00021.jpg', '00022.jpg', '00023.jpg', '00024.jpg', '00025.jpg', '00026.jpg', '00027.jpg', '00028.jpg', '00029.jpg', '00030.jpg', '00031.jpg', '00032.jpg', '00033.jpg', '00034.jpg', '00035.jpg', '00036.jpg', '00037.jpg', '00038.jpg', '00039.jpg', '00040.jpg', '00041.jpg', '00042.jpg', '00043.jpg', '00044.jpg', '00045.jpg', '00046.jpg', '00047.jpg', '00048.jpg', '00049.jpg', '00050.jpg', '00051.jpg', '00052.jpg', '00053.jpg', '00054.jpg', '00055.jpg', '00056.jpg', '00057.jpg', '00058.jpg', '00059.jpg', '00060.jpg', '00061.jpg', '00062.jpg', '00063.jpg', '00064.jpg', '00065.jpg', '00066.jpg', '00067.jpg', '00068.jpg', '00069.jpg', '00070.jpg', '00071.jpg', '00072.jpg', '00073.jpg', '00074.jpg', '00075.jpg', '00076.jpg', '00077.jpg', '00078.jpg', '00079.jpg', '00080.jpg', '00081.jpg', '00082.jpg', '00083.jpg', '00084.jpg', '00085.jpg', '00086.jpg', '00087.jpg', '00088.jpg', '00089.jpg', '00090.jpg', '00091.jpg', '00092.jpg', '00093.jpg', '00094.jpg', '00095.jpg', '00096.jpg', '00097.jpg', '00098.jpg', '00099.jpg', '00100.jpg', '00101.jpg', '00102.jpg', '00103.jpg', '00104.jpg', '00105.jpg', '00106.jpg', '00107.jpg', '00108.jpg', '00109.jpg', '00110.jpg', '00111.jpg', '00112.jpg', '00113.jpg', '00114.jpg', '00115.jpg', '00116.jpg', '00117.jpg', '00118.jpg', '00119.jpg', '00120.jpg', '00121.jpg', '00122.jpg', '00123.jpg', '00124.jpg', '00125.jpg', '00126.jpg', '00127.jpg', '00128.jpg', '00129.jpg', '00130.jpg', '00131.jpg', '00132.jpg', '00133.jpg', '00134.jpg', '00135.jpg', '00136.jpg', '00137.jpg', '00138.jpg', '00139.jpg', '00140.jpg', '00141.jpg']\n"
     ]
    },
    {
     "name": "stderr",
     "output_type": "stream",
     "text": [
      "\n"
     ]
    },
    {
     "name": "stdout",
     "output_type": "stream",
     "text": [
      "Annotated image saved as ./outputs/result/00000.jpg\n",
      "Annotated image saved as ./outputs/result/00001.jpg\n",
      "Annotated image saved as ./outputs/result/00002.jpg\n",
      "Annotated image saved as ./outputs/result/00003.jpg\n",
      "Annotated image saved as ./outputs/result/00004.jpg\n",
      "Annotated image saved as ./outputs/result/00005.jpg\n",
      "Annotated image saved as ./outputs/result/00006.jpg\n",
      "Annotated image saved as ./outputs/result/00007.jpg\n",
      "Annotated image saved as ./outputs/result/00008.jpg\n",
      "Annotated image saved as ./outputs/result/00009.jpg\n",
      "Annotated image saved as ./outputs/result/00010.jpg\n",
      "Annotated image saved as ./outputs/result/00011.jpg\n",
      "Annotated image saved as ./outputs/result/00012.jpg\n",
      "Annotated image saved as ./outputs/result/00013.jpg\n",
      "Annotated image saved as ./outputs/result/00014.jpg\n",
      "Annotated image saved as ./outputs/result/00015.jpg\n",
      "Annotated image saved as ./outputs/result/00016.jpg\n",
      "Annotated image saved as ./outputs/result/00017.jpg\n",
      "Annotated image saved as ./outputs/result/00018.jpg\n",
      "Annotated image saved as ./outputs/result/00019.jpg\n",
      "Annotated image saved as ./outputs/result/00020.jpg\n",
      "Annotated image saved as ./outputs/result/00021.jpg\n",
      "Annotated image saved as ./outputs/result/00022.jpg\n",
      "Annotated image saved as ./outputs/result/00023.jpg\n",
      "Annotated image saved as ./outputs/result/00024.jpg\n",
      "Annotated image saved as ./outputs/result/00025.jpg\n",
      "Annotated image saved as ./outputs/result/00026.jpg\n",
      "Annotated image saved as ./outputs/result/00027.jpg\n",
      "Annotated image saved as ./outputs/result/00028.jpg\n",
      "Annotated image saved as ./outputs/result/00029.jpg\n",
      "Annotated image saved as ./outputs/result/00030.jpg\n",
      "Annotated image saved as ./outputs/result/00031.jpg\n",
      "Annotated image saved as ./outputs/result/00032.jpg\n",
      "Annotated image saved as ./outputs/result/00033.jpg\n",
      "Annotated image saved as ./outputs/result/00034.jpg\n",
      "Annotated image saved as ./outputs/result/00035.jpg\n",
      "Annotated image saved as ./outputs/result/00036.jpg\n",
      "Annotated image saved as ./outputs/result/00037.jpg\n",
      "Annotated image saved as ./outputs/result/00038.jpg\n",
      "Annotated image saved as ./outputs/result/00039.jpg\n",
      "Annotated image saved as ./outputs/result/00040.jpg\n",
      "Annotated image saved as ./outputs/result/00041.jpg\n",
      "Annotated image saved as ./outputs/result/00042.jpg\n",
      "Annotated image saved as ./outputs/result/00043.jpg\n",
      "Annotated image saved as ./outputs/result/00044.jpg\n",
      "Annotated image saved as ./outputs/result/00045.jpg\n",
      "Annotated image saved as ./outputs/result/00046.jpg\n",
      "Annotated image saved as ./outputs/result/00047.jpg\n",
      "Annotated image saved as ./outputs/result/00048.jpg\n",
      "Annotated image saved as ./outputs/result/00049.jpg\n",
      "Annotated image saved as ./outputs/result/00050.jpg\n",
      "Annotated image saved as ./outputs/result/00051.jpg\n",
      "Annotated image saved as ./outputs/result/00052.jpg\n",
      "Annotated image saved as ./outputs/result/00053.jpg\n",
      "Annotated image saved as ./outputs/result/00054.jpg\n",
      "Annotated image saved as ./outputs/result/00055.jpg\n",
      "Annotated image saved as ./outputs/result/00056.jpg\n",
      "Annotated image saved as ./outputs/result/00057.jpg\n",
      "Annotated image saved as ./outputs/result/00058.jpg\n",
      "Annotated image saved as ./outputs/result/00059.jpg\n",
      "Annotated image saved as ./outputs/result/00060.jpg\n",
      "Annotated image saved as ./outputs/result/00061.jpg\n",
      "Annotated image saved as ./outputs/result/00062.jpg\n",
      "Annotated image saved as ./outputs/result/00063.jpg\n",
      "Annotated image saved as ./outputs/result/00064.jpg\n",
      "Annotated image saved as ./outputs/result/00065.jpg\n",
      "Annotated image saved as ./outputs/result/00066.jpg\n",
      "Annotated image saved as ./outputs/result/00067.jpg\n",
      "Annotated image saved as ./outputs/result/00068.jpg\n",
      "Annotated image saved as ./outputs/result/00069.jpg\n",
      "Annotated image saved as ./outputs/result/00070.jpg\n",
      "Annotated image saved as ./outputs/result/00071.jpg\n",
      "Annotated image saved as ./outputs/result/00072.jpg\n",
      "Annotated image saved as ./outputs/result/00073.jpg\n",
      "Annotated image saved as ./outputs/result/00074.jpg\n",
      "Annotated image saved as ./outputs/result/00075.jpg\n",
      "Annotated image saved as ./outputs/result/00076.jpg\n",
      "Annotated image saved as ./outputs/result/00077.jpg\n",
      "Annotated image saved as ./outputs/result/00078.jpg\n",
      "Annotated image saved as ./outputs/result/00079.jpg\n",
      "Annotated image saved as ./outputs/result/00080.jpg\n",
      "Annotated image saved as ./outputs/result/00081.jpg\n",
      "Annotated image saved as ./outputs/result/00082.jpg\n",
      "Annotated image saved as ./outputs/result/00083.jpg\n",
      "Annotated image saved as ./outputs/result/00084.jpg\n",
      "Annotated image saved as ./outputs/result/00085.jpg\n",
      "Annotated image saved as ./outputs/result/00086.jpg\n",
      "Annotated image saved as ./outputs/result/00087.jpg\n",
      "Annotated image saved as ./outputs/result/00088.jpg\n",
      "Annotated image saved as ./outputs/result/00089.jpg\n",
      "Annotated image saved as ./outputs/result/00090.jpg\n",
      "Annotated image saved as ./outputs/result/00091.jpg\n",
      "Annotated image saved as ./outputs/result/00092.jpg\n",
      "Annotated image saved as ./outputs/result/00093.jpg\n",
      "Annotated image saved as ./outputs/result/00094.jpg\n",
      "Annotated image saved as ./outputs/result/00095.jpg\n",
      "Annotated image saved as ./outputs/result/00096.jpg\n",
      "Annotated image saved as ./outputs/result/00097.jpg\n",
      "Annotated image saved as ./outputs/result/00098.jpg\n",
      "Annotated image saved as ./outputs/result/00099.jpg\n",
      "Annotated image saved as ./outputs/result/00100.jpg\n",
      "Annotated image saved as ./outputs/result/00101.jpg\n",
      "Annotated image saved as ./outputs/result/00102.jpg\n",
      "Annotated image saved as ./outputs/result/00103.jpg\n",
      "Annotated image saved as ./outputs/result/00104.jpg\n",
      "Annotated image saved as ./outputs/result/00105.jpg\n",
      "Annotated image saved as ./outputs/result/00106.jpg\n",
      "Annotated image saved as ./outputs/result/00107.jpg\n",
      "Annotated image saved as ./outputs/result/00108.jpg\n",
      "Annotated image saved as ./outputs/result/00109.jpg\n",
      "Annotated image saved as ./outputs/result/00110.jpg\n",
      "Annotated image saved as ./outputs/result/00111.jpg\n",
      "Annotated image saved as ./outputs/result/00112.jpg\n",
      "Annotated image saved as ./outputs/result/00113.jpg\n",
      "Annotated image saved as ./outputs/result/00114.jpg\n",
      "Annotated image saved as ./outputs/result/00115.jpg\n",
      "Annotated image saved as ./outputs/result/00116.jpg\n",
      "Annotated image saved as ./outputs/result/00117.jpg\n",
      "Annotated image saved as ./outputs/result/00118.jpg\n",
      "Annotated image saved as ./outputs/result/00119.jpg\n",
      "Annotated image saved as ./outputs/result/00120.jpg\n",
      "Annotated image saved as ./outputs/result/00121.jpg\n",
      "Annotated image saved as ./outputs/result/00122.jpg\n",
      "Annotated image saved as ./outputs/result/00123.jpg\n",
      "Annotated image saved as ./outputs/result/00124.jpg\n",
      "Annotated image saved as ./outputs/result/00125.jpg\n",
      "Annotated image saved as ./outputs/result/00126.jpg\n",
      "Annotated image saved as ./outputs/result/00127.jpg\n",
      "Annotated image saved as ./outputs/result/00128.jpg\n",
      "Annotated image saved as ./outputs/result/00129.jpg\n",
      "Annotated image saved as ./outputs/result/00130.jpg\n",
      "Annotated image saved as ./outputs/result/00131.jpg\n",
      "Annotated image saved as ./outputs/result/00132.jpg\n",
      "Annotated image saved as ./outputs/result/00133.jpg\n",
      "Annotated image saved as ./outputs/result/00134.jpg\n",
      "Annotated image saved as ./outputs/result/00135.jpg\n",
      "Annotated image saved as ./outputs/result/00136.jpg\n",
      "Annotated image saved as ./outputs/result/00137.jpg\n",
      "Annotated image saved as ./outputs/result/00138.jpg\n",
      "Annotated image saved as ./outputs/result/00139.jpg\n",
      "Annotated image saved as ./outputs/result/00140.jpg\n",
      "Annotated image saved as ./outputs/result/00141.jpg\n",
      "['00000.jpg', '00001.jpg', '00002.jpg', '00003.jpg', '00004.jpg', '00005.jpg', '00006.jpg', '00007.jpg', '00008.jpg', '00009.jpg', '00010.jpg', '00011.jpg', '00012.jpg', '00013.jpg', '00014.jpg', '00015.jpg', '00016.jpg', '00017.jpg', '00018.jpg', '00019.jpg', '00020.jpg', '00021.jpg', '00022.jpg', '00023.jpg', '00024.jpg', '00025.jpg', '00026.jpg', '00027.jpg', '00028.jpg', '00029.jpg', '00030.jpg', '00031.jpg', '00032.jpg', '00033.jpg', '00034.jpg', '00035.jpg', '00036.jpg', '00037.jpg', '00038.jpg', '00039.jpg', '00040.jpg', '00041.jpg', '00042.jpg', '00043.jpg', '00044.jpg', '00045.jpg', '00046.jpg', '00047.jpg', '00048.jpg', '00049.jpg', '00050.jpg', '00051.jpg', '00052.jpg', '00053.jpg', '00054.jpg', '00055.jpg', '00056.jpg', '00057.jpg', '00058.jpg', '00059.jpg', '00060.jpg', '00061.jpg', '00062.jpg', '00063.jpg', '00064.jpg', '00065.jpg', '00066.jpg', '00067.jpg', '00068.jpg', '00069.jpg', '00070.jpg', '00071.jpg', '00072.jpg', '00073.jpg', '00074.jpg', '00075.jpg', '00076.jpg', '00077.jpg', '00078.jpg', '00079.jpg', '00080.jpg', '00081.jpg', '00082.jpg', '00083.jpg', '00084.jpg', '00085.jpg', '00086.jpg', '00087.jpg', '00088.jpg', '00089.jpg', '00090.jpg', '00091.jpg', '00092.jpg', '00093.jpg', '00094.jpg', '00095.jpg', '00096.jpg', '00097.jpg', '00098.jpg', '00099.jpg', '00100.jpg', '00101.jpg', '00102.jpg', '00103.jpg', '00104.jpg', '00105.jpg', '00106.jpg', '00107.jpg', '00108.jpg', '00109.jpg', '00110.jpg', '00111.jpg', '00112.jpg', '00113.jpg', '00114.jpg', '00115.jpg', '00116.jpg', '00117.jpg', '00118.jpg', '00119.jpg', '00120.jpg', '00121.jpg', '00122.jpg', '00123.jpg', '00124.jpg', '00125.jpg', '00126.jpg', '00127.jpg', '00128.jpg', '00129.jpg', '00130.jpg', '00131.jpg', '00132.jpg', '00133.jpg', '00134.jpg', '00135.jpg', '00136.jpg', '00137.jpg', '00138.jpg', '00139.jpg', '00140.jpg', '00141.jpg']\n"
     ]
    },
    {
     "name": "stderr",
     "output_type": "stream",
     "text": [
      "100%|████████████████████████████████████████| 142/142 [00:01<00:00, 121.41it/s]"
     ]
    },
    {
     "name": "stdout",
     "output_type": "stream",
     "text": [
      "Video saved at ./outputs/output_vids/e5957a13-8fdd-4696-b8a5-11df9bdbb98d-part1-clip_00000039-0.mp4\n"
     ]
    },
    {
     "name": "stderr",
     "output_type": "stream",
     "text": [
      "\n"
     ]
    }
   ],
   "source": [
    "for video_dir in clips[:5]:\n",
    "    # setup the input image and text prompt for SAM 2 and Grounding DINO\n",
    "    # VERY important: text queries need to be lowercased + end with a dot\n",
    "    #text = \"car.\"\n",
    "    #text = \"person. motorcycle.\"\n",
    "    #vid_id = \"car\n",
    "    text = \"octopus. person. motorcycle. noodles. tree.\"\n",
    "    \n",
    "    #vid_id = \"0alex_anime_3d_action_ufotable\"\n",
    "    #vid_id = \"xNVfw6I7cCA_part_000-clip_00000025-0\"\n",
    "    vid_id = video_dir.split(\"/\")[-1] #\"tHEcy2tC6ug_part_000-clip_00000015-0\"\n",
    "    print(f\"doing {vid_id}\")\n",
    "    \n",
    "    import shutil\n",
    "    \n",
    "    # `video_dir` a directory of JPEG frames with filenames like `<frame_index>.jpg`  \n",
    "    # video_dir = f\"notebooks/videos/{vid_id}\"\n",
    "    \n",
    "    # 'output_dir' is the directory to save the annotated frames\n",
    "    output_dir = \"./outputs\"\n",
    "    \n",
    "    # 'output_video_path' is the path to save the final video\n",
    "    output_video_path = f\"./outputs/output_vids/{vid_id}.mp4\"\n",
    "    \n",
    "    # create the output directory\n",
    "    CommonUtils.creat_dirs(output_dir)\n",
    "    mask_data_dir = os.path.join(output_dir, \"mask_data\")\n",
    "    json_data_dir = os.path.join(output_dir, \"json_data\")\n",
    "    result_dir = os.path.join(output_dir, \"result\")\n",
    "    \n",
    "    for d in [mask_data_dir, json_data_dir, result_dir]: # keep fresh for each vid\n",
    "        if os.path.exists(d): shutil.rmtree(d)\n",
    "            \n",
    "    CommonUtils.creat_dirs(mask_data_dir)\n",
    "    CommonUtils.creat_dirs(json_data_dir)\n",
    "    # scan all the JPEG frame names in this directory\n",
    "    frame_names = [\n",
    "        p for p in os.listdir(video_dir)\n",
    "        if os.path.splitext(p)[-1] in [\".jpg\", \".jpeg\", \".JPG\", \".JPEG\", \".png\", \".PNG\"]\n",
    "    ]\n",
    "    frame_names.sort(key=lambda p: int(os.path.splitext(p)[0]))\n",
    "    \n",
    "    # init video predictor state\n",
    "    inference_state = video_predictor.init_state(video_path=video_dir, offload_video_to_cpu=True, async_loading_frames=True)\n",
    "    step = 20 # the step to sample frames for Grounding DINO predictor\n",
    "    \n",
    "    sam2_masks = MaskDictionaryModel()\n",
    "    PROMPT_TYPE_FOR_VIDEO = \"mask\" # box, mask or point\n",
    "    objects_count = 0\n",
    "    \n",
    "    \"\"\"\n",
    "    Step 2: Prompt Grounding DINO and SAM image predictor to get the box and mask for all frames\n",
    "    \"\"\"\n",
    "    print(\"Total frames:\", len(frame_names))\n",
    "    \n",
    "    for start_frame_idx in range(0, len(frame_names), step):\n",
    "    # prompt grounding dino to get the box coordinates on specific frame\n",
    "        print(\"start_frame_idx\", start_frame_idx)\n",
    "        # continue\n",
    "        img_path = os.path.join(video_dir, frame_names[start_frame_idx])\n",
    "        image = Image.open(img_path)\n",
    "        image_base_name = frame_names[start_frame_idx].split(\".\")[0]\n",
    "        mask_dict = MaskDictionaryModel(promote_type = PROMPT_TYPE_FOR_VIDEO, mask_name = f\"mask_{image_base_name}.npy\")\n",
    "    \n",
    "        # run Grounding DINO on the image\n",
    "        inputs = processor(images=image, text=text, return_tensors=\"pt\").to(device)\n",
    "        with torch.no_grad():\n",
    "            outputs = grounding_model(**inputs)\n",
    "    \n",
    "        results = processor.post_process_grounded_object_detection(\n",
    "            outputs,\n",
    "            inputs.input_ids,\n",
    "            box_threshold=0.25,\n",
    "            text_threshold=0.25,\n",
    "            target_sizes=[image.size[::-1]]\n",
    "        )\n",
    "    \n",
    "        # prompt SAM image predictor to get the mask for the object\n",
    "        image_predictor.set_image(np.array(image.convert(\"RGB\")))\n",
    "    \n",
    "        # process the detection results\n",
    "        input_boxes = results[0][\"boxes\"] # .cpu().numpy()\n",
    "        # print(\"results[0]\",results[0])\n",
    "        OBJECTS = results[0][\"labels\"]\n",
    "        if input_boxes.shape[0] != 0:\n",
    "            # prompt SAM 2 image predictor to get the mask for the object\n",
    "            masks, scores, logits = image_predictor.predict(\n",
    "                point_coords=None,\n",
    "                point_labels=None,\n",
    "                box=input_boxes,\n",
    "                multimask_output=False,\n",
    "            )\n",
    "            # convert the mask shape to (n, H, W)\n",
    "            if masks.ndim == 2:\n",
    "                masks = masks[None]\n",
    "                scores = scores[None]\n",
    "                logits = logits[None]\n",
    "            elif masks.ndim == 4:\n",
    "                masks = masks.squeeze(1)\n",
    "    \n",
    "            \"\"\"\n",
    "            Step 3: Register each object's positive points to video predictor\n",
    "            \"\"\"\n",
    "    \n",
    "            # If you are using point prompts, we uniformly sample positive points based on the mask\n",
    "            if mask_dict.promote_type == \"mask\":\n",
    "                mask_dict.add_new_frame_annotation(mask_list=torch.tensor(masks).to(device), box_list=torch.tensor(input_boxes), label_list=OBJECTS)\n",
    "            else:\n",
    "                raise NotImplementedError(\"SAM 2 video predictor only support mask prompts\")\n",
    "    \n",
    "    \n",
    "            \"\"\"\n",
    "            Step 4: Propagate the video predictor to get the segmentation results for each frame\n",
    "            \"\"\"\n",
    "            objects_count = mask_dict.update_masks(tracking_annotation_dict=sam2_masks, iou_threshold=0.8, objects_count=objects_count)\n",
    "            print(\"objects_count\", objects_count)\n",
    "        else:\n",
    "            print(\"No object detected in the frame, skip merge the frame merge {}\".format(frame_names[start_frame_idx]))\n",
    "            mask_dict = sam2_masks\n",
    "    \n",
    "        \n",
    "        if len(mask_dict.labels) == 0:\n",
    "            mask_dict.save_empty_mask_and_json(mask_data_dir, json_data_dir, image_name_list = frame_names[start_frame_idx:start_frame_idx+step])\n",
    "            print(\"No object detected in the frame, skip the frame {}\".format(start_frame_idx))\n",
    "            continue\n",
    "        else: \n",
    "            video_predictor.reset_state(inference_state)\n",
    "    \n",
    "            for object_id, object_info in mask_dict.labels.items():\n",
    "                frame_idx, out_obj_ids, out_mask_logits = video_predictor.add_new_mask(\n",
    "                        inference_state,\n",
    "                        start_frame_idx,\n",
    "                        object_id,\n",
    "                        object_info.mask,\n",
    "                    )\n",
    "            \n",
    "            video_segments = {}  # output the following {step} frames tracking masks\n",
    "            for out_frame_idx, out_obj_ids, out_mask_logits in video_predictor.propagate_in_video(inference_state, max_frame_num_to_track=step, start_frame_idx=start_frame_idx):\n",
    "                frame_masks = MaskDictionaryModel()\n",
    "                \n",
    "                for i, out_obj_id in enumerate(out_obj_ids):\n",
    "                    out_mask = (out_mask_logits[i] > 0.0) # .cpu().numpy()\n",
    "                    object_info = ObjectInfo(instance_id = out_obj_id, mask = out_mask[0], class_name = mask_dict.get_target_class_name(out_obj_id))\n",
    "                    object_info.update_box()\n",
    "                    frame_masks.labels[out_obj_id] = object_info\n",
    "                    image_base_name = frame_names[out_frame_idx].split(\".\")[0]\n",
    "                    frame_masks.mask_name = f\"mask_{image_base_name}.npy\"\n",
    "                    frame_masks.mask_height = out_mask.shape[-2]\n",
    "                    frame_masks.mask_width = out_mask.shape[-1]\n",
    "    \n",
    "                video_segments[out_frame_idx] = frame_masks\n",
    "                sam2_masks = copy.deepcopy(frame_masks)\n",
    "    \n",
    "            print(\"video_segments:\", len(video_segments))\n",
    "        \"\"\"\n",
    "        Step 5: save the tracking masks and json files\n",
    "        \"\"\"\n",
    "        for frame_idx, frame_masks_info in video_segments.items():\n",
    "            mask = frame_masks_info.labels\n",
    "            mask_img = torch.zeros(frame_masks_info.mask_height, frame_masks_info.mask_width)\n",
    "            for obj_id, obj_info in mask.items():\n",
    "                mask_img[obj_info.mask == True] = obj_id\n",
    "    \n",
    "            mask_img = mask_img.numpy().astype(np.uint16)\n",
    "            np.save(os.path.join(mask_data_dir, frame_masks_info.mask_name), mask_img)\n",
    "    \n",
    "            json_data = frame_masks_info.to_dict()\n",
    "            json_data_path = os.path.join(json_data_dir, frame_masks_info.mask_name.replace(\".npy\", \".json\"))\n",
    "            with open(json_data_path, \"w\") as f:\n",
    "                json.dump(json_data, f)\n",
    "\n",
    "        \n",
    "    \"\"\"\n",
    "    Step 6: Draw the results and save the video\n",
    "    \"\"\"\n",
    "    CommonUtils.draw_masks_and_box_with_supervision(video_dir, mask_data_dir, json_data_dir, result_dir)\n",
    "    \n",
    "    create_video_from_images(result_dir, output_video_path, frame_rate=15)\n"
   ]
  },
  {
   "cell_type": "code",
   "execution_count": 9,
   "id": "33cab567-7b50-4653-9a36-d8c30cda7dc6",
   "metadata": {},
   "outputs": [
    {
     "data": {
      "text/plain": [
       "'notebooks/videos/tHEcy2tC6ug_part_000-clip_00000015-0'"
      ]
     },
     "execution_count": 9,
     "metadata": {},
     "output_type": "execute_result"
    }
   ],
   "source": [
    "video_dir"
   ]
  },
  {
   "cell_type": "code",
   "execution_count": 10,
   "id": "4332b569-cec4-4ae1-b118-6849da6b3984",
   "metadata": {
    "scrolled": true
   },
   "outputs": [
    {
     "name": "stdout",
     "output_type": "stream",
     "text": [
      "Path './outputs/result' did not exist and has been created.\n",
      "raw image name list ['.ipynb_checkpoints', '00000.jpg', '00001.jpg', '00002.jpg', '00003.jpg', '00004.jpg', '00005.jpg', '00006.jpg', '00007.jpg', '00008.jpg', '00009.jpg', '00010.jpg', '00011.jpg', '00012.jpg', '00013.jpg', '00014.jpg', '00015.jpg', '00016.jpg', '00017.jpg', '00018.jpg', '00019.jpg', '00020.jpg', '00021.jpg', '00022.jpg', '00023.jpg', '00024.jpg', '00025.jpg', '00026.jpg', '00027.jpg', '00028.jpg', '00029.jpg', '00030.jpg', '00031.jpg', '00032.jpg', '00033.jpg', '00034.jpg', '00035.jpg', '00036.jpg', '00037.jpg', '00038.jpg', '00039.jpg', '00040.jpg', '00041.jpg', '00042.jpg', '00043.jpg', '00044.jpg', '00045.jpg', '00046.jpg', '00047.jpg', '00048.jpg', '00049.jpg', '00050.jpg', '00051.jpg', '00052.jpg', '00053.jpg', '00054.jpg', '00055.jpg', '00056.jpg', '00057.jpg', '00058.jpg', '00059.jpg', '00060.jpg', '00061.jpg', '00062.jpg', '00063.jpg', '00064.jpg', '00065.jpg', '00066.jpg', '00067.jpg', '00068.jpg', '00069.jpg', '00070.jpg', '00071.jpg', '00072.jpg', '00073.jpg', '00074.jpg', '00075.jpg', '00076.jpg', '00077.jpg', '00078.jpg', '00079.jpg', '00080.jpg', '00081.jpg', '00082.jpg', '00083.jpg', '00084.jpg', '00085.jpg', '00086.jpg', '00087.jpg', '00088.jpg', '00089.jpg', '00090.jpg', '00091.jpg', '00092.jpg', '00093.jpg', '00094.jpg', '00095.jpg', '00096.jpg', '00097.jpg', '00098.jpg', '00099.jpg', '00100.jpg', '00101.jpg', '00102.jpg', '00103.jpg', '00104.jpg', '00105.jpg', '00106.jpg', '00107.jpg', '00108.jpg', '00109.jpg', '00110.jpg', '00111.jpg', '00112.jpg', '00113.jpg', '00114.jpg', '00115.jpg', '00116.jpg', '00117.jpg', '00118.jpg', '00119.jpg', '00120.jpg', '00121.jpg', '00122.jpg', '00123.jpg', '00124.jpg', '00125.jpg', '00126.jpg', '00127.jpg', '00128.jpg', '00129.jpg', '00130.jpg', '00131.jpg', '00132.jpg', '00133.jpg', '00134.jpg', '00135.jpg', '00136.jpg', '00137.jpg', '00138.jpg', '00139.jpg', '00140.jpg', '00141.jpg', '00142.jpg', '00143.jpg', '00144.jpg', '00145.jpg', '00146.jpg', '00147.jpg', '00148.jpg', '00149.jpg', '00150.jpg', '00151.jpg', '00152.jpg', '00153.jpg', '00154.jpg', '00155.jpg', '00156.jpg', '00157.jpg', '00158.jpg', '00159.jpg', '00160.jpg', '00161.jpg', '00162.jpg', '00163.jpg', '00164.jpg', '00165.jpg', '00166.jpg', '00167.jpg', '00168.jpg', '00169.jpg', '00170.jpg', '00171.jpg', '00172.jpg', '00173.jpg', '00174.jpg', '00175.jpg', '00176.jpg', '00177.jpg', '00178.jpg', '00179.jpg', '00180.jpg', '00181.jpg', '00182.jpg', '00183.jpg', '00184.jpg', '00185.jpg', '00186.jpg', '00187.jpg', '00188.jpg', '00189.jpg', '00190.jpg', '00191.jpg', '00192.jpg', '00193.jpg', '00194.jpg', '00195.jpg', '00196.jpg', '00197.jpg', '00198.jpg', '00199.jpg', '00200.jpg', '00201.jpg', '00202.jpg', '00203.jpg', '00204.jpg', '00205.jpg', '00206.jpg', '00207.jpg', '00208.jpg', '00209.jpg', '00210.jpg', '00211.jpg', '00212.jpg', '00213.jpg', '00214.jpg', '00215.jpg', '00216.jpg', '00217.jpg', '00218.jpg', '00219.jpg', '00220.jpg', '00221.jpg', '00222.jpg', '00223.jpg', '00224.jpg', '00225.jpg', '00226.jpg', '00227.jpg', '00228.jpg', '00229.jpg', '00230.jpg', '00231.jpg', '00232.jpg', '00233.jpg', '00234.jpg', '00235.jpg', '00236.jpg', '00237.jpg', '00238.jpg', '00239.jpg', '00240.jpg', '00241.jpg', '00242.jpg', '00243.jpg', '00244.jpg', '00245.jpg', '00246.jpg', '00247.jpg', '00248.jpg', '00249.jpg', '00250.jpg', '00251.jpg', '00252.jpg', '00253.jpg', '00254.jpg', '00255.jpg', '00256.jpg', '00257.jpg']\n",
      "Annotated image saved as ./outputs/result/00000.jpg\n",
      "Annotated image saved as ./outputs/result/00001.jpg\n",
      "Annotated image saved as ./outputs/result/00002.jpg\n",
      "Annotated image saved as ./outputs/result/00003.jpg\n",
      "Annotated image saved as ./outputs/result/00004.jpg\n",
      "Annotated image saved as ./outputs/result/00005.jpg\n",
      "Annotated image saved as ./outputs/result/00006.jpg\n",
      "Annotated image saved as ./outputs/result/00007.jpg\n",
      "Annotated image saved as ./outputs/result/00008.jpg\n",
      "Annotated image saved as ./outputs/result/00009.jpg\n",
      "Annotated image saved as ./outputs/result/00010.jpg\n",
      "Annotated image saved as ./outputs/result/00011.jpg\n",
      "Annotated image saved as ./outputs/result/00012.jpg\n",
      "Annotated image saved as ./outputs/result/00013.jpg\n",
      "Annotated image saved as ./outputs/result/00014.jpg\n",
      "Annotated image saved as ./outputs/result/00015.jpg\n",
      "Annotated image saved as ./outputs/result/00016.jpg\n",
      "Annotated image saved as ./outputs/result/00017.jpg\n",
      "Annotated image saved as ./outputs/result/00018.jpg\n",
      "Annotated image saved as ./outputs/result/00019.jpg\n",
      "Annotated image saved as ./outputs/result/00020.jpg\n",
      "Annotated image saved as ./outputs/result/00021.jpg\n",
      "Annotated image saved as ./outputs/result/00022.jpg\n",
      "Annotated image saved as ./outputs/result/00023.jpg\n",
      "Annotated image saved as ./outputs/result/00024.jpg\n",
      "Annotated image saved as ./outputs/result/00025.jpg\n",
      "Annotated image saved as ./outputs/result/00026.jpg\n",
      "Annotated image saved as ./outputs/result/00027.jpg\n",
      "Annotated image saved as ./outputs/result/00028.jpg\n",
      "Annotated image saved as ./outputs/result/00029.jpg\n",
      "Annotated image saved as ./outputs/result/00030.jpg\n",
      "Annotated image saved as ./outputs/result/00031.jpg\n",
      "Annotated image saved as ./outputs/result/00032.jpg\n",
      "Annotated image saved as ./outputs/result/00033.jpg\n",
      "Annotated image saved as ./outputs/result/00034.jpg\n",
      "Annotated image saved as ./outputs/result/00035.jpg\n",
      "Annotated image saved as ./outputs/result/00036.jpg\n",
      "Annotated image saved as ./outputs/result/00037.jpg\n",
      "Annotated image saved as ./outputs/result/00038.jpg\n",
      "Annotated image saved as ./outputs/result/00039.jpg\n",
      "Annotated image saved as ./outputs/result/00040.jpg\n",
      "Annotated image saved as ./outputs/result/00041.jpg\n",
      "Annotated image saved as ./outputs/result/00042.jpg\n",
      "Annotated image saved as ./outputs/result/00043.jpg\n",
      "Annotated image saved as ./outputs/result/00044.jpg\n",
      "Annotated image saved as ./outputs/result/00045.jpg\n",
      "Annotated image saved as ./outputs/result/00046.jpg\n",
      "Annotated image saved as ./outputs/result/00047.jpg\n",
      "Annotated image saved as ./outputs/result/00048.jpg\n",
      "Annotated image saved as ./outputs/result/00049.jpg\n",
      "Annotated image saved as ./outputs/result/00050.jpg\n",
      "Annotated image saved as ./outputs/result/00051.jpg\n",
      "Annotated image saved as ./outputs/result/00052.jpg\n",
      "Annotated image saved as ./outputs/result/00053.jpg\n",
      "Annotated image saved as ./outputs/result/00054.jpg\n",
      "Annotated image saved as ./outputs/result/00055.jpg\n",
      "Annotated image saved as ./outputs/result/00056.jpg\n",
      "Annotated image saved as ./outputs/result/00057.jpg\n",
      "Annotated image saved as ./outputs/result/00058.jpg\n",
      "Annotated image saved as ./outputs/result/00059.jpg\n",
      "Annotated image saved as ./outputs/result/00060.jpg\n",
      "Annotated image saved as ./outputs/result/00061.jpg\n",
      "Annotated image saved as ./outputs/result/00062.jpg\n",
      "Annotated image saved as ./outputs/result/00063.jpg\n",
      "Annotated image saved as ./outputs/result/00064.jpg\n",
      "Annotated image saved as ./outputs/result/00065.jpg\n",
      "Annotated image saved as ./outputs/result/00066.jpg\n",
      "Annotated image saved as ./outputs/result/00067.jpg\n",
      "Annotated image saved as ./outputs/result/00068.jpg\n",
      "Annotated image saved as ./outputs/result/00069.jpg\n",
      "Annotated image saved as ./outputs/result/00070.jpg\n",
      "Annotated image saved as ./outputs/result/00071.jpg\n",
      "Annotated image saved as ./outputs/result/00072.jpg\n",
      "Annotated image saved as ./outputs/result/00073.jpg\n",
      "Annotated image saved as ./outputs/result/00074.jpg\n",
      "Annotated image saved as ./outputs/result/00075.jpg\n",
      "Annotated image saved as ./outputs/result/00076.jpg\n",
      "Annotated image saved as ./outputs/result/00077.jpg\n",
      "Annotated image saved as ./outputs/result/00078.jpg\n",
      "Annotated image saved as ./outputs/result/00079.jpg\n",
      "Annotated image saved as ./outputs/result/00080.jpg\n",
      "Annotated image saved as ./outputs/result/00081.jpg\n",
      "Annotated image saved as ./outputs/result/00082.jpg\n",
      "Annotated image saved as ./outputs/result/00083.jpg\n",
      "Annotated image saved as ./outputs/result/00084.jpg\n",
      "Annotated image saved as ./outputs/result/00085.jpg\n",
      "Annotated image saved as ./outputs/result/00086.jpg\n",
      "Annotated image saved as ./outputs/result/00087.jpg\n",
      "Annotated image saved as ./outputs/result/00088.jpg\n",
      "Annotated image saved as ./outputs/result/00089.jpg\n",
      "Annotated image saved as ./outputs/result/00090.jpg\n",
      "Annotated image saved as ./outputs/result/00091.jpg\n",
      "Annotated image saved as ./outputs/result/00092.jpg\n",
      "Annotated image saved as ./outputs/result/00093.jpg\n",
      "Annotated image saved as ./outputs/result/00094.jpg\n",
      "Annotated image saved as ./outputs/result/00095.jpg\n",
      "Annotated image saved as ./outputs/result/00096.jpg\n",
      "Annotated image saved as ./outputs/result/00097.jpg\n",
      "Annotated image saved as ./outputs/result/00098.jpg\n",
      "Annotated image saved as ./outputs/result/00099.jpg\n",
      "Annotated image saved as ./outputs/result/00100.jpg\n",
      "Annotated image saved as ./outputs/result/00101.jpg\n",
      "Annotated image saved as ./outputs/result/00102.jpg\n",
      "Annotated image saved as ./outputs/result/00103.jpg\n",
      "Annotated image saved as ./outputs/result/00104.jpg\n",
      "Annotated image saved as ./outputs/result/00105.jpg\n",
      "Annotated image saved as ./outputs/result/00106.jpg\n",
      "Annotated image saved as ./outputs/result/00107.jpg\n",
      "Annotated image saved as ./outputs/result/00108.jpg\n",
      "Annotated image saved as ./outputs/result/00109.jpg\n",
      "Annotated image saved as ./outputs/result/00110.jpg\n",
      "Annotated image saved as ./outputs/result/00111.jpg\n",
      "Annotated image saved as ./outputs/result/00112.jpg\n",
      "Annotated image saved as ./outputs/result/00113.jpg\n",
      "Annotated image saved as ./outputs/result/00114.jpg\n",
      "Annotated image saved as ./outputs/result/00115.jpg\n",
      "Annotated image saved as ./outputs/result/00116.jpg\n",
      "Annotated image saved as ./outputs/result/00117.jpg\n",
      "Annotated image saved as ./outputs/result/00118.jpg\n",
      "Annotated image saved as ./outputs/result/00119.jpg\n",
      "Annotated image saved as ./outputs/result/00120.jpg\n",
      "Annotated image saved as ./outputs/result/00121.jpg\n",
      "Annotated image saved as ./outputs/result/00122.jpg\n",
      "Annotated image saved as ./outputs/result/00123.jpg\n",
      "Annotated image saved as ./outputs/result/00124.jpg\n",
      "Annotated image saved as ./outputs/result/00125.jpg\n",
      "Annotated image saved as ./outputs/result/00126.jpg\n",
      "Annotated image saved as ./outputs/result/00127.jpg\n",
      "Annotated image saved as ./outputs/result/00128.jpg\n",
      "Annotated image saved as ./outputs/result/00129.jpg\n",
      "Annotated image saved as ./outputs/result/00130.jpg\n",
      "Annotated image saved as ./outputs/result/00131.jpg\n",
      "Annotated image saved as ./outputs/result/00132.jpg\n",
      "Annotated image saved as ./outputs/result/00133.jpg\n",
      "Annotated image saved as ./outputs/result/00134.jpg\n",
      "Annotated image saved as ./outputs/result/00135.jpg\n",
      "Annotated image saved as ./outputs/result/00136.jpg\n",
      "Annotated image saved as ./outputs/result/00137.jpg\n",
      "Annotated image saved as ./outputs/result/00138.jpg\n",
      "Annotated image saved as ./outputs/result/00139.jpg\n",
      "Annotated image saved as ./outputs/result/00140.jpg\n",
      "Annotated image saved as ./outputs/result/00141.jpg\n",
      "Annotated image saved as ./outputs/result/00142.jpg\n",
      "Annotated image saved as ./outputs/result/00143.jpg\n",
      "Annotated image saved as ./outputs/result/00144.jpg\n",
      "Annotated image saved as ./outputs/result/00145.jpg\n",
      "Annotated image saved as ./outputs/result/00146.jpg\n",
      "Annotated image saved as ./outputs/result/00147.jpg\n",
      "Annotated image saved as ./outputs/result/00148.jpg\n",
      "Annotated image saved as ./outputs/result/00149.jpg\n",
      "Annotated image saved as ./outputs/result/00150.jpg\n",
      "Annotated image saved as ./outputs/result/00151.jpg\n",
      "Annotated image saved as ./outputs/result/00152.jpg\n",
      "Annotated image saved as ./outputs/result/00153.jpg\n",
      "Annotated image saved as ./outputs/result/00154.jpg\n",
      "Annotated image saved as ./outputs/result/00155.jpg\n",
      "Annotated image saved as ./outputs/result/00156.jpg\n",
      "Annotated image saved as ./outputs/result/00157.jpg\n",
      "Annotated image saved as ./outputs/result/00158.jpg\n",
      "Annotated image saved as ./outputs/result/00159.jpg\n",
      "Annotated image saved as ./outputs/result/00160.jpg\n",
      "Annotated image saved as ./outputs/result/00161.jpg\n",
      "Annotated image saved as ./outputs/result/00162.jpg\n",
      "Annotated image saved as ./outputs/result/00163.jpg\n",
      "Annotated image saved as ./outputs/result/00164.jpg\n",
      "Annotated image saved as ./outputs/result/00165.jpg\n",
      "Annotated image saved as ./outputs/result/00166.jpg\n",
      "Annotated image saved as ./outputs/result/00167.jpg\n",
      "Annotated image saved as ./outputs/result/00168.jpg\n",
      "Annotated image saved as ./outputs/result/00169.jpg\n",
      "Annotated image saved as ./outputs/result/00170.jpg\n",
      "Annotated image saved as ./outputs/result/00171.jpg\n",
      "Annotated image saved as ./outputs/result/00172.jpg\n",
      "Annotated image saved as ./outputs/result/00173.jpg\n",
      "Annotated image saved as ./outputs/result/00174.jpg\n",
      "Annotated image saved as ./outputs/result/00175.jpg\n",
      "Annotated image saved as ./outputs/result/00176.jpg\n",
      "Annotated image saved as ./outputs/result/00177.jpg\n",
      "Annotated image saved as ./outputs/result/00178.jpg\n",
      "Annotated image saved as ./outputs/result/00179.jpg\n",
      "Annotated image saved as ./outputs/result/00180.jpg\n",
      "Annotated image saved as ./outputs/result/00181.jpg\n",
      "Annotated image saved as ./outputs/result/00182.jpg\n",
      "Annotated image saved as ./outputs/result/00183.jpg\n",
      "Annotated image saved as ./outputs/result/00184.jpg\n",
      "Annotated image saved as ./outputs/result/00185.jpg\n",
      "Annotated image saved as ./outputs/result/00186.jpg\n",
      "Annotated image saved as ./outputs/result/00187.jpg\n",
      "Annotated image saved as ./outputs/result/00188.jpg\n",
      "Annotated image saved as ./outputs/result/00189.jpg\n",
      "Annotated image saved as ./outputs/result/00190.jpg\n",
      "Annotated image saved as ./outputs/result/00191.jpg\n",
      "Annotated image saved as ./outputs/result/00192.jpg\n",
      "Annotated image saved as ./outputs/result/00193.jpg\n",
      "Annotated image saved as ./outputs/result/00194.jpg\n",
      "Annotated image saved as ./outputs/result/00195.jpg\n",
      "Annotated image saved as ./outputs/result/00196.jpg\n",
      "Annotated image saved as ./outputs/result/00197.jpg\n",
      "Annotated image saved as ./outputs/result/00198.jpg\n",
      "Annotated image saved as ./outputs/result/00199.jpg\n",
      "Annotated image saved as ./outputs/result/00200.jpg\n",
      "Annotated image saved as ./outputs/result/00201.jpg\n",
      "Annotated image saved as ./outputs/result/00202.jpg\n",
      "Annotated image saved as ./outputs/result/00203.jpg\n",
      "Annotated image saved as ./outputs/result/00204.jpg\n",
      "Annotated image saved as ./outputs/result/00205.jpg\n",
      "Annotated image saved as ./outputs/result/00206.jpg\n",
      "Annotated image saved as ./outputs/result/00207.jpg\n",
      "Annotated image saved as ./outputs/result/00208.jpg\n",
      "Annotated image saved as ./outputs/result/00209.jpg\n",
      "Annotated image saved as ./outputs/result/00210.jpg\n",
      "Annotated image saved as ./outputs/result/00211.jpg\n",
      "Annotated image saved as ./outputs/result/00212.jpg\n",
      "Annotated image saved as ./outputs/result/00213.jpg\n",
      "Annotated image saved as ./outputs/result/00214.jpg\n",
      "Annotated image saved as ./outputs/result/00215.jpg\n",
      "Annotated image saved as ./outputs/result/00216.jpg\n",
      "Annotated image saved as ./outputs/result/00217.jpg\n",
      "Annotated image saved as ./outputs/result/00218.jpg\n",
      "Annotated image saved as ./outputs/result/00219.jpg\n",
      "Annotated image saved as ./outputs/result/00220.jpg\n",
      "Annotated image saved as ./outputs/result/00221.jpg\n",
      "Annotated image saved as ./outputs/result/00222.jpg\n",
      "Annotated image saved as ./outputs/result/00223.jpg\n",
      "Annotated image saved as ./outputs/result/00224.jpg\n",
      "Annotated image saved as ./outputs/result/00225.jpg\n",
      "Annotated image saved as ./outputs/result/00226.jpg\n",
      "Annotated image saved as ./outputs/result/00227.jpg\n",
      "Annotated image saved as ./outputs/result/00228.jpg\n",
      "Annotated image saved as ./outputs/result/00229.jpg\n",
      "Annotated image saved as ./outputs/result/00230.jpg\n",
      "Annotated image saved as ./outputs/result/00231.jpg\n",
      "Annotated image saved as ./outputs/result/00232.jpg\n",
      "Annotated image saved as ./outputs/result/00233.jpg\n",
      "Annotated image saved as ./outputs/result/00234.jpg\n",
      "Annotated image saved as ./outputs/result/00235.jpg\n",
      "Annotated image saved as ./outputs/result/00236.jpg\n",
      "Annotated image saved as ./outputs/result/00237.jpg\n",
      "Annotated image saved as ./outputs/result/00238.jpg\n",
      "Annotated image saved as ./outputs/result/00239.jpg\n",
      "Annotated image saved as ./outputs/result/00240.jpg\n",
      "Annotated image saved as ./outputs/result/00241.jpg\n",
      "Annotated image saved as ./outputs/result/00242.jpg\n",
      "Annotated image saved as ./outputs/result/00243.jpg\n",
      "Annotated image saved as ./outputs/result/00244.jpg\n",
      "Annotated image saved as ./outputs/result/00245.jpg\n",
      "Annotated image saved as ./outputs/result/00246.jpg\n",
      "Annotated image saved as ./outputs/result/00247.jpg\n",
      "Annotated image saved as ./outputs/result/00248.jpg\n",
      "Annotated image saved as ./outputs/result/00249.jpg\n",
      "Annotated image saved as ./outputs/result/00250.jpg\n",
      "Annotated image saved as ./outputs/result/00251.jpg\n",
      "Annotated image saved as ./outputs/result/00252.jpg\n",
      "Annotated image saved as ./outputs/result/00253.jpg\n",
      "Annotated image saved as ./outputs/result/00254.jpg\n",
      "Annotated image saved as ./outputs/result/00255.jpg\n",
      "Annotated image saved as ./outputs/result/00256.jpg\n",
      "Annotated image saved as ./outputs/result/00257.jpg\n",
      "['00000.jpg', '00001.jpg', '00002.jpg', '00003.jpg', '00004.jpg', '00005.jpg', '00006.jpg', '00007.jpg', '00008.jpg', '00009.jpg', '00010.jpg', '00011.jpg', '00012.jpg', '00013.jpg', '00014.jpg', '00015.jpg', '00016.jpg', '00017.jpg', '00018.jpg', '00019.jpg', '00020.jpg', '00021.jpg', '00022.jpg', '00023.jpg', '00024.jpg', '00025.jpg', '00026.jpg', '00027.jpg', '00028.jpg', '00029.jpg', '00030.jpg', '00031.jpg', '00032.jpg', '00033.jpg', '00034.jpg', '00035.jpg', '00036.jpg', '00037.jpg', '00038.jpg', '00039.jpg', '00040.jpg', '00041.jpg', '00042.jpg', '00043.jpg', '00044.jpg', '00045.jpg', '00046.jpg', '00047.jpg', '00048.jpg', '00049.jpg', '00050.jpg', '00051.jpg', '00052.jpg', '00053.jpg', '00054.jpg', '00055.jpg', '00056.jpg', '00057.jpg', '00058.jpg', '00059.jpg', '00060.jpg', '00061.jpg', '00062.jpg', '00063.jpg', '00064.jpg', '00065.jpg', '00066.jpg', '00067.jpg', '00068.jpg', '00069.jpg', '00070.jpg', '00071.jpg', '00072.jpg', '00073.jpg', '00074.jpg', '00075.jpg', '00076.jpg', '00077.jpg', '00078.jpg', '00079.jpg', '00080.jpg', '00081.jpg', '00082.jpg', '00083.jpg', '00084.jpg', '00085.jpg', '00086.jpg', '00087.jpg', '00088.jpg', '00089.jpg', '00090.jpg', '00091.jpg', '00092.jpg', '00093.jpg', '00094.jpg', '00095.jpg', '00096.jpg', '00097.jpg', '00098.jpg', '00099.jpg', '00100.jpg', '00101.jpg', '00102.jpg', '00103.jpg', '00104.jpg', '00105.jpg', '00106.jpg', '00107.jpg', '00108.jpg', '00109.jpg', '00110.jpg', '00111.jpg', '00112.jpg', '00113.jpg', '00114.jpg', '00115.jpg', '00116.jpg', '00117.jpg', '00118.jpg', '00119.jpg', '00120.jpg', '00121.jpg', '00122.jpg', '00123.jpg', '00124.jpg', '00125.jpg', '00126.jpg', '00127.jpg', '00128.jpg', '00129.jpg', '00130.jpg', '00131.jpg', '00132.jpg', '00133.jpg', '00134.jpg', '00135.jpg', '00136.jpg', '00137.jpg', '00138.jpg', '00139.jpg', '00140.jpg', '00141.jpg', '00142.jpg', '00143.jpg', '00144.jpg', '00145.jpg', '00146.jpg', '00147.jpg', '00148.jpg', '00149.jpg', '00150.jpg', '00151.jpg', '00152.jpg', '00153.jpg', '00154.jpg', '00155.jpg', '00156.jpg', '00157.jpg', '00158.jpg', '00159.jpg', '00160.jpg', '00161.jpg', '00162.jpg', '00163.jpg', '00164.jpg', '00165.jpg', '00166.jpg', '00167.jpg', '00168.jpg', '00169.jpg', '00170.jpg', '00171.jpg', '00172.jpg', '00173.jpg', '00174.jpg', '00175.jpg', '00176.jpg', '00177.jpg', '00178.jpg', '00179.jpg', '00180.jpg', '00181.jpg', '00182.jpg', '00183.jpg', '00184.jpg', '00185.jpg', '00186.jpg', '00187.jpg', '00188.jpg', '00189.jpg', '00190.jpg', '00191.jpg', '00192.jpg', '00193.jpg', '00194.jpg', '00195.jpg', '00196.jpg', '00197.jpg', '00198.jpg', '00199.jpg', '00200.jpg', '00201.jpg', '00202.jpg', '00203.jpg', '00204.jpg', '00205.jpg', '00206.jpg', '00207.jpg', '00208.jpg', '00209.jpg', '00210.jpg', '00211.jpg', '00212.jpg', '00213.jpg', '00214.jpg', '00215.jpg', '00216.jpg', '00217.jpg', '00218.jpg', '00219.jpg', '00220.jpg', '00221.jpg', '00222.jpg', '00223.jpg', '00224.jpg', '00225.jpg', '00226.jpg', '00227.jpg', '00228.jpg', '00229.jpg', '00230.jpg', '00231.jpg', '00232.jpg', '00233.jpg', '00234.jpg', '00235.jpg', '00236.jpg', '00237.jpg', '00238.jpg', '00239.jpg', '00240.jpg', '00241.jpg', '00242.jpg', '00243.jpg', '00244.jpg', '00245.jpg', '00246.jpg', '00247.jpg', '00248.jpg', '00249.jpg', '00250.jpg', '00251.jpg', '00252.jpg', '00253.jpg', '00254.jpg', '00255.jpg', '00256.jpg', '00257.jpg']\n"
     ]
    },
    {
     "name": "stderr",
     "output_type": "stream",
     "text": [
      "100%|███████████████████████████████████████████████████████████████| 258/258 [00:03<00:00, 69.24it/s]"
     ]
    },
    {
     "name": "stdout",
     "output_type": "stream",
     "text": [
      "Video saved at ./outputs/tHEcy2tC6ug_part_000-clip_00000015-0.mp4\n"
     ]
    },
    {
     "name": "stderr",
     "output_type": "stream",
     "text": [
      "\n"
     ]
    }
   ],
   "source": []
  },
  {
   "cell_type": "code",
   "execution_count": null,
   "id": "2c4d542d-43cb-42a9-9c6e-dfca6e47b58a",
   "metadata": {},
   "outputs": [],
   "source": []
  }
 ],
 "metadata": {
  "kernelspec": {
   "display_name": "Python 3 (ipykernel)",
   "language": "python",
   "name": "python3"
  },
  "language_info": {
   "codemirror_mode": {
    "name": "ipython",
    "version": 3
   },
   "file_extension": ".py",
   "mimetype": "text/x-python",
   "name": "python",
   "nbconvert_exporter": "python",
   "pygments_lexer": "ipython3",
   "version": "3.13.2"
  }
 },
 "nbformat": 4,
 "nbformat_minor": 5
}
